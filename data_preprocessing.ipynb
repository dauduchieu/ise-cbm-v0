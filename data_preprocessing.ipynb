{
 "cells": [
  {
   "cell_type": "code",
   "execution_count": null,
   "id": "3b63c1b0",
   "metadata": {},
   "outputs": [],
   "source": [
    "# # Param\n",
    "# test = \"True\"\n",
    "# dataset = '/Users/dauduchieu/Desktop/iSE-CBM/_raw_data'"
   ]
  },
  {
   "cell_type": "code",
   "execution_count": null,
   "id": "ea9474c7",
   "metadata": {},
   "outputs": [],
   "source": [
    "import os\n",
    "os.makedirs('data', exist_ok=True)\n",
    "os.makedirs('output', exist_ok=True)"
   ]
  },
  {
   "cell_type": "code",
   "execution_count": null,
   "id": "b6078516",
   "metadata": {},
   "outputs": [],
   "source": [
    "is_test = True\n",
    "if test == \"False\" or test == False:\n",
    "    is_test = False"
   ]
  },
  {
   "cell_type": "code",
   "execution_count": 1,
   "id": "f4de3f93",
   "metadata": {},
   "outputs": [
    {
     "name": "stdout",
     "output_type": "stream",
     "text": [
      "/Users/dauduchieu/Desktop/iSE-CBM\n"
     ]
    }
   ],
   "source": [
    "import os\n",
    "print(os.getcwd())"
   ]
  },
  {
   "cell_type": "code",
   "execution_count": 3,
   "id": "1eb87571",
   "metadata": {},
   "outputs": [],
   "source": [
    "from utils.data_loader import DataLoader"
   ]
  },
  {
   "cell_type": "code",
   "execution_count": 4,
   "id": "b865c09e",
   "metadata": {},
   "outputs": [],
   "source": [
    "data_loader = DataLoader(dataset)"
   ]
  },
  {
   "cell_type": "code",
   "execution_count": 5,
   "id": "8bc300d5",
   "metadata": {},
   "outputs": [],
   "source": [
    "train_df = data_loader.get_input_data_train()\n",
    "test_df = data_loader.get_input_data_test()"
   ]
  },
  {
   "cell_type": "code",
   "execution_count": 6,
   "id": "0cc50a4d",
   "metadata": {},
   "outputs": [
    {
     "data": {
      "text/html": [
       "<div>\n",
       "<style scoped>\n",
       "    .dataframe tbody tr th:only-of-type {\n",
       "        vertical-align: middle;\n",
       "    }\n",
       "\n",
       "    .dataframe tbody tr th {\n",
       "        vertical-align: top;\n",
       "    }\n",
       "\n",
       "    .dataframe thead th {\n",
       "        text-align: right;\n",
       "    }\n",
       "</style>\n",
       "<table border=\"1\" class=\"dataframe\">\n",
       "  <thead>\n",
       "    <tr style=\"text-align: right;\">\n",
       "      <th></th>\n",
       "      <th>condition_label</th>\n",
       "      <th>medical_abstract</th>\n",
       "    </tr>\n",
       "  </thead>\n",
       "  <tbody>\n",
       "    <tr>\n",
       "      <th>44</th>\n",
       "      <td>5</td>\n",
       "      <td>Arterial oxygen desaturation during gastrointe...</td>\n",
       "    </tr>\n",
       "    <tr>\n",
       "      <th>871</th>\n",
       "      <td>5</td>\n",
       "      <td>Studies of controlled reperfusion after ischem...</td>\n",
       "    </tr>\n",
       "  </tbody>\n",
       "</table>\n",
       "</div>"
      ],
      "text/plain": [
       "     condition_label                                   medical_abstract\n",
       "44                 5  Arterial oxygen desaturation during gastrointe...\n",
       "871                5  Studies of controlled reperfusion after ischem..."
      ]
     },
     "execution_count": 6,
     "metadata": {},
     "output_type": "execute_result"
    }
   ],
   "source": [
    "train_df.sample(2)"
   ]
  },
  {
   "cell_type": "code",
   "execution_count": 7,
   "id": "1cda0712",
   "metadata": {},
   "outputs": [
    {
     "data": {
      "text/plain": [
       "'condition_label'"
      ]
     },
     "execution_count": 7,
     "metadata": {},
     "output_type": "execute_result"
    }
   ],
   "source": [
    "label_column = data_loader.get_data_desc()['label_column']\n",
    "label_column"
   ]
  },
  {
   "cell_type": "code",
   "execution_count": 8,
   "id": "52e62102",
   "metadata": {},
   "outputs": [
    {
     "data": {
      "text/plain": [
       "{'1': {'name': 'neoplasms',\n",
       "  'description': 'Diseases related to abnormal growths such as tumors and cancers, including benign and malignant neoplasms.'},\n",
       " '2': {'name': 'digestive system diseases',\n",
       "  'description': 'Diseases affecting the digestive system, including the stomach, intestines, liver, pancreas, and associated organs.'},\n",
       " '3': {'name': 'nervous system diseases',\n",
       "  'description': 'Diseases and disorders of the nervous system, including the brain, spinal cord, and peripheral nerves.'},\n",
       " '4': {'name': 'cardiovascular diseases',\n",
       "  'description': 'Diseases of the heart and blood vessels, including heart disease, hypertension, and circulatory disorders.'},\n",
       " '5': {'name': 'general pathological conditions',\n",
       "  'description': 'General pathological conditions that affect overall health or multiple body systems, not restricted to a specific organ.'}}"
      ]
     },
     "execution_count": 8,
     "metadata": {},
     "output_type": "execute_result"
    }
   ],
   "source": [
    "label_desc = data_loader.get_label_desc()\n",
    "label_desc"
   ]
  },
  {
   "cell_type": "code",
   "execution_count": null,
   "id": "44750462",
   "metadata": {},
   "outputs": [
    {
     "data": {
      "text/plain": [
       "{'1': 'neoplasms',\n",
       " '2': 'digestive system diseases',\n",
       " '3': 'nervous system diseases',\n",
       " '4': 'cardiovascular diseases',\n",
       " '5': 'general pathological conditions'}"
      ]
     },
     "execution_count": 9,
     "metadata": {},
     "output_type": "execute_result"
    }
   ],
   "source": [
    "label_map = {}\n",
    "for k in label_desc.keys():\n",
    "    label_map.update({ f\"{k}\": f\"{label_desc[k]['name']}\" })\n",
    "\n",
    "label_map"
   ]
  },
  {
   "cell_type": "code",
   "execution_count": 10,
   "id": "6b337778",
   "metadata": {},
   "outputs": [],
   "source": [
    "train_df[label_column] = train_df[label_column].apply(lambda l: label_map[str(l)])\n",
    "test_df[label_column] = test_df[label_column].apply(lambda l: label_map[str(l)])"
   ]
  },
  {
   "cell_type": "code",
   "execution_count": 11,
   "id": "5d950f57",
   "metadata": {},
   "outputs": [
    {
     "data": {
      "text/html": [
       "<div>\n",
       "<style scoped>\n",
       "    .dataframe tbody tr th:only-of-type {\n",
       "        vertical-align: middle;\n",
       "    }\n",
       "\n",
       "    .dataframe tbody tr th {\n",
       "        vertical-align: top;\n",
       "    }\n",
       "\n",
       "    .dataframe thead th {\n",
       "        text-align: right;\n",
       "    }\n",
       "</style>\n",
       "<table border=\"1\" class=\"dataframe\">\n",
       "  <thead>\n",
       "    <tr style=\"text-align: right;\">\n",
       "      <th></th>\n",
       "      <th>condition_label</th>\n",
       "      <th>medical_abstract</th>\n",
       "    </tr>\n",
       "  </thead>\n",
       "  <tbody>\n",
       "    <tr>\n",
       "      <th>1972</th>\n",
       "      <td>nervous system diseases</td>\n",
       "      <td>Neuropsychological deficits in fetal alcohol s...</td>\n",
       "    </tr>\n",
       "    <tr>\n",
       "      <th>7325</th>\n",
       "      <td>neoplasms</td>\n",
       "      <td>Extramedullary plasmacytoma of the urethra: a ...</td>\n",
       "    </tr>\n",
       "  </tbody>\n",
       "</table>\n",
       "</div>"
      ],
      "text/plain": [
       "              condition_label  \\\n",
       "1972  nervous system diseases   \n",
       "7325                neoplasms   \n",
       "\n",
       "                                       medical_abstract  \n",
       "1972  Neuropsychological deficits in fetal alcohol s...  \n",
       "7325  Extramedullary plasmacytoma of the urethra: a ...  "
      ]
     },
     "execution_count": 11,
     "metadata": {},
     "output_type": "execute_result"
    }
   ],
   "source": [
    "train_df.sample(2)"
   ]
  },
  {
   "cell_type": "code",
   "execution_count": 13,
   "id": "11a1c110",
   "metadata": {},
   "outputs": [],
   "source": [
    "from utils.data_io import join_path, save_csv, save_json"
   ]
  },
  {
   "cell_type": "code",
   "execution_count": 14,
   "id": "1606dadc",
   "metadata": {},
   "outputs": [],
   "source": [
    "save_csv(df=train_df, dir=join_path('data', 'data'), file_name='train.csv')\n",
    "save_csv(df=test_df, dir=join_path('data', 'data'), file_name='test.csv')"
   ]
  },
  {
   "cell_type": "code",
   "execution_count": 17,
   "id": "89d9f951",
   "metadata": {},
   "outputs": [],
   "source": [
    "import os\n",
    "import shutil\n",
    "\n",
    "src_dir = dataset\n",
    "dst_dir = 'data'\n",
    "\n",
    "os.makedirs(dst_dir, exist_ok=True)\n",
    "\n",
    "for item in os.listdir(src_dir):\n",
    "    s = os.path.join(src_dir, item)\n",
    "    d = os.path.join(dst_dir, item)\n",
    "    if os.path.isdir(s):\n",
    "        shutil.copytree(s, d, dirs_exist_ok=True)\n"
   ]
  },
  {
   "cell_type": "code",
   "execution_count": null,
   "id": "a1185395",
   "metadata": {},
   "outputs": [],
   "source": []
  }
 ],
 "metadata": {
  "kernelspec": {
   "display_name": "venv",
   "language": "python",
   "name": "python3"
  },
  "language_info": {
   "codemirror_mode": {
    "name": "ipython",
    "version": 3
   },
   "file_extension": ".py",
   "mimetype": "text/x-python",
   "name": "python",
   "nbconvert_exporter": "python",
   "pygments_lexer": "ipython3",
   "version": "3.13.2"
  }
 },
 "nbformat": 4,
 "nbformat_minor": 5
}
