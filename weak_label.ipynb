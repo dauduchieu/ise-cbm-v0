{
 "cells": [
  {
   "cell_type": "code",
   "execution_count": null,
   "id": "eeeec6aa",
   "metadata": {},
   "outputs": [],
   "source": [
    "# # Param\n",
    "# test = \"True\"\n",
    "# dataset = 'data'"
   ]
  },
  {
   "cell_type": "code",
   "execution_count": 2,
   "id": "9b7bd17c",
   "metadata": {},
   "outputs": [],
   "source": [
    "is_test = True\n",
    "if test == \"False\" or test == False:\n",
    "    is_test = False"
   ]
  },
  {
   "cell_type": "code",
   "execution_count": 1,
   "id": "ea736f0c",
   "metadata": {},
   "outputs": [
    {
     "name": "stdout",
     "output_type": "stream",
     "text": [
      "/Users/dauduchieu/Desktop/iSE-CBM\n"
     ]
    }
   ],
   "source": [
    "import os\n",
    "print(os.getcwd())"
   ]
  },
  {
   "cell_type": "code",
   "execution_count": 2,
   "id": "1d3c22b6",
   "metadata": {},
   "outputs": [],
   "source": [
    "is_test = True"
   ]
  },
  {
   "cell_type": "code",
   "execution_count": 4,
   "id": "23bd4e63",
   "metadata": {},
   "outputs": [],
   "source": [
    "from utils.data_loader import DataLoader"
   ]
  },
  {
   "cell_type": "code",
   "execution_count": 5,
   "id": "b28869db",
   "metadata": {},
   "outputs": [],
   "source": [
    "data_loader = DataLoader(dataset)"
   ]
  },
  {
   "cell_type": "code",
   "execution_count": 6,
   "id": "17b8455f",
   "metadata": {},
   "outputs": [],
   "source": [
    "train_df = data_loader.get_data_train()"
   ]
  },
  {
   "cell_type": "code",
   "execution_count": 7,
   "id": "c1758873",
   "metadata": {},
   "outputs": [],
   "source": [
    "data_desc = data_loader.get_data_desc()\n",
    "label_column = data_desc['label_column']\n",
    "text_column = data_desc['text_column']"
   ]
  },
  {
   "cell_type": "code",
   "execution_count": 8,
   "id": "3ad0a27c",
   "metadata": {},
   "outputs": [],
   "source": [
    "keyword_concepts = data_loader.get_keyword_concepts()\n",
    "abstract_concepts = data_loader.get_abstract_concepts()"
   ]
  },
  {
   "cell_type": "code",
   "execution_count": 9,
   "id": "b0ce3d4a",
   "metadata": {},
   "outputs": [],
   "source": [
    "if is_test:\n",
    "    train_df = train_df.groupby(label_column).sample(50)"
   ]
  },
  {
   "cell_type": "code",
   "execution_count": null,
   "id": "2a3a9a0b",
   "metadata": {},
   "outputs": [],
   "source": []
  },
  {
   "cell_type": "code",
   "execution_count": 10,
   "id": "9cf9fdb9",
   "metadata": {},
   "outputs": [],
   "source": [
    "from abc import ABC, abstractmethod\n",
    "class LLMCaller(ABC):\n",
    "    @abstractmethod\n",
    "    def structed_output(self, prompt:str, output_struct):\n",
    "        pass\n",
    "\n",
    "from time import time, sleep\n",
    "from typing import List, Callable, TypeVar\n",
    "\n",
    "T = TypeVar('T')\n",
    "\n",
    "class GeminiRateLimiter:\n",
    "    def __init__(self, requests_per_minute: int = 15):\n",
    "        self.rpm = requests_per_minute\n",
    "        self.times: List[float] = []\n",
    "\n",
    "    def wait(self):\n",
    "        now = time()\n",
    "        self.times = [t for t in self.times if now - t <= 60]\n",
    "        if len(self.times) >= self.rpm:\n",
    "            sleep(60 - (now - self.times[0]))\n",
    "            now = time()\n",
    "            self.times = [t for t in self.times if now - t <= 60]\n",
    "\n",
    "    def record(self):\n",
    "        self.times.append(time())\n",
    "\n",
    "    def execute(self, f: Callable[..., T], *args, **kwargs) -> T:\n",
    "        self.wait()\n",
    "        try:\n",
    "            r = f(*args, **kwargs)\n",
    "            self.record()\n",
    "            return r\n",
    "        except:\n",
    "            self.record()\n",
    "            raise\n",
    "\n",
    "    def __call__(self, f: Callable[..., T]) -> Callable[..., T]:\n",
    "        def wrapper(*args, **kwargs):\n",
    "            return self.execute(f, *args, **kwargs)\n",
    "        return wrapper\n",
    "\n",
    "    def __enter__(self):\n",
    "        self.wait()\n",
    "        return self\n",
    "\n",
    "    def __exit__(self, *args):\n",
    "        self.record()\n",
    "\n",
    "from google import genai\n",
    "\n",
    "class GeminiAPICaller(LLMCaller):\n",
    "    def __init__(self, api_key:str, api_model:str, api_rpm:int):\n",
    "        self.client = genai.Client(api_key=api_key)\n",
    "        self.api_model = api_model\n",
    "        self.rate_limiter = GeminiRateLimiter(requests_per_minute=api_rpm)\n",
    "\n",
    "    def structed_output(self, prompt:str, output_struct):\n",
    "        with self.rate_limiter:\n",
    "            response = self.client.models.generate_content(\n",
    "                model=self.api_model,\n",
    "                contents=prompt,\n",
    "                config={\n",
    "                    'response_mime_type': 'application/json',\n",
    "                    'response_schema': output_struct,\n",
    "                },\n",
    "            )\n",
    "\n",
    "        res = response.parsed\n",
    "        return res\n",
    "    \n",
    "llm_api_config = data_loader.get_llm_config()\n",
    "\n",
    "llm_caller = GeminiAPICaller(\n",
    "    api_key=llm_api_config['api_key'],\n",
    "    api_model=llm_api_config['model'],\n",
    "    api_rpm=llm_api_config['rate_per_minute']\n",
    ")"
   ]
  },
  {
   "cell_type": "code",
   "execution_count": null,
   "id": "d08a4e54",
   "metadata": {},
   "outputs": [],
   "source": []
  },
  {
   "cell_type": "code",
   "execution_count": 11,
   "id": "711f6d6c",
   "metadata": {},
   "outputs": [],
   "source": [
    "import pandas as pd\n",
    "import spacy\n",
    "from tqdm import tqdm"
   ]
  },
  {
   "cell_type": "code",
   "execution_count": 12,
   "id": "49aa03f5",
   "metadata": {},
   "outputs": [],
   "source": [
    "nlp = spacy.load(\"en_core_web_sm\")"
   ]
  },
  {
   "cell_type": "code",
   "execution_count": 13,
   "id": "2d1aa0f5",
   "metadata": {},
   "outputs": [
    {
     "name": "stderr",
     "output_type": "stream",
     "text": [
      "Lemmatizing: 100%|██████████| 250/250 [00:07<00:00, 32.72it/s]\n"
     ]
    }
   ],
   "source": [
    "tqdm.pandas(desc=\"Lemmatizing\")\n",
    "def lemmatize_text(text):\n",
    "    doc = nlp(text)\n",
    "    return ' '.join([token.lemma_ for token in doc])\n",
    "train_df['text_lemma'] = train_df[text_column].progress_apply(lemmatize_text)"
   ]
  },
  {
   "cell_type": "code",
   "execution_count": 14,
   "id": "b0faa608",
   "metadata": {},
   "outputs": [
    {
     "name": "stdout",
     "output_type": "stream",
     "text": [
      "['coronary', 'myocardial', 'hypertension', 'cardiac', 'systolic', 'colitis', 'esophageal', 'gastrointestinal', 'bowel', 'duodenal', 'defect', 'loss', 'airway', 'graft', 'respiratory', 'cancer', 'carcinoma', 'sarcoma', 'malignancy', 'chemotherapy', 'brain', 'cerebral', 'neuronal', 'motor', 'cord']\n"
     ]
    }
   ],
   "source": [
    "keywords = []\n",
    "for k in keyword_concepts.keys():\n",
    "    keywords += keyword_concepts[k]\n",
    "\n",
    "print(keywords)"
   ]
  },
  {
   "cell_type": "code",
   "execution_count": 15,
   "id": "4e8799f8",
   "metadata": {},
   "outputs": [],
   "source": [
    "def llm_get_synonyms(data_topic, keyword, n_syn=10):\n",
    "    prompt = f\"\"\"\n",
    "You are an expert in the {data_topic} domain.\n",
    "\n",
    "Please list {n_syn} synonyms or alternative expressions for the term: \"{keyword}\".\n",
    "\n",
    "The synonyms should be relevant to the {data_topic} context. If the term has multiple meanings, only return synonyms that are appropriate within this context.\n",
    "\n",
    "Only return a list of synonyms as an array of strings, no explanation.\n",
    "\"\"\"\n",
    "\n",
    "    output_struct = {\n",
    "        \"type\": \"array\",\n",
    "        \"items\": {\n",
    "            \"type\": \"string\"\n",
    "        }\n",
    "    }\n",
    "\n",
    "    synonyms = llm_caller.structed_output(\n",
    "        prompt=prompt.strip(),\n",
    "        output_struct=output_struct\n",
    "    )\n",
    "\n",
    "    synonyms = [lemmatize_text(t) for t in synonyms]\n",
    "\n",
    "    return synonyms"
   ]
  },
  {
   "cell_type": "code",
   "execution_count": 16,
   "id": "006aa021",
   "metadata": {},
   "outputs": [
    {
     "name": "stdout",
     "output_type": "stream",
     "text": [
      "['high blood pressure', 'elevated blood pressure', 'elevated arterial pressure', 'arterial hypertension', 'high arterial pressure']\n"
     ]
    }
   ],
   "source": [
    "print(llm_get_synonyms(\n",
    "    data_topic=data_desc['data_topic'],\n",
    "    keyword='hypertension',\n",
    "    n_syn=5\n",
    "))"
   ]
  },
  {
   "cell_type": "code",
   "execution_count": 17,
   "id": "f8a9aedf",
   "metadata": {},
   "outputs": [
    {
     "name": "stderr",
     "output_type": "stream",
     "text": [
      "Create synonym dict: 100%|██████████| 25/25 [01:16<00:00,  3.07s/it]"
     ]
    },
    {
     "name": "stdout",
     "output_type": "stream",
     "text": [
      "{'coronary': ['coronary', 'cardiac', 'heart', 'aortic', 'arterial', 'vascular'], 'myocardial': ['myocardial', 'cardiac', 'heart muscle', 'ventricular', 'atrial', 'coronary'], 'hypertension': ['hypertension', 'high blood pressure', 'elevated blood pressure', 'arterial hypertension', 'chronic hypertension', 'sustained hypertension'], 'cardiac': ['cardiac', 'heart', 'coronary', 'cardiovascular', 'myocardial', 'cardiac muscle'], 'systolic': ['systolic', 'Systole', 'systolic contraction', 'heart contraction phase', 'pump phase', 'systolic ejection'], 'colitis': ['colitis', 'colonic inflammation', 'Inflammation of the large intestine', 'enterocolitis', 'proctocolitis', 'colopathy'], 'esophageal': ['esophageal', 'relate to the esophagus', 'of the esophagus', 'esophageal', 'esophag(o)-', 'gullet'], 'gastrointestinal': ['gastrointestinal', 'digestive', 'enteric', 'abdominal', 'stomach and bowel', 'alimentary'], 'bowel': ['bowel', 'intestine', 'gut', 'bowel tract', 'digestive tract', 'alimentary canal'], 'duodenal': ['duodenal', 'of the duodenum', 'duodenal region', 'duodenal wall', 'duodenal content', 'duodenal luman'], 'defect': ['defect', 'abnormality', 'malformation', 'lesion', 'impairment', 'anomaly'], 'loss': ['loss', 'deficit', 'depletion', 'deficiency', 'absence', 'insufficiency'], 'airway': ['airway', 'breathing passage', 'respiratory tract', 'windpipe', 'trachea', 'bronchi'], 'graft': ['graft', 'transplant', 'implant', 'transplantation', 'implant tissue', 'tissue graft'], 'respiratory': ['respiratory', 'pulmonary', 'breathing - relate', 'ventilatory', 'lung - relate', 'thoracic'], 'cancer': ['cancer', 'malignancy', 'tumor', 'neoplasm', 'carcinoma', 'sarcoma'], 'carcinoma': ['carcinoma', 'malignant neoplasm', 'Malignancy', 'cancer', 'epithelial cancer', 'malignant tumor'], 'sarcoma': ['sarcoma', 'connective tissue cancer', 'malignant connective tissue tumor', 'sarcomatous tumor', 'sarcomatous growth', 'mesenchymal tumor'], 'malignancy': ['malignancy', 'cancer', 'carcinoma', 'neoplasm', 'tumor', 'sarcoma'], 'chemotherapy': ['chemotherapy', 'antineoplastic therapy', 'cytotoxic therapy', 'cancer drug treatment', 'medical oncology treatment', 'systemic cancer therapy'], 'brain': ['brain', 'cerebrum', 'encephalon', 'grey matter', 'central nervous system', 'cortex'], 'cerebral': ['cerebral', 'brain', 'cranial', 'encephalic', 'intracranial', 'neuraxial'], 'neuronal': ['neuronal', 'nerve', 'neural', 'ganglionic', 'neurological', 'nerve cell'], 'motor': ['motor', 'neuromuscular', 'musculoskeletal', 'locomotor', 'kinetic', 'motile'], 'cord': ['cord', 'umbilical cord', 'spinal cord', 'nerve cord', 'vocal cord', 'nerve']}\n"
     ]
    },
    {
     "name": "stderr",
     "output_type": "stream",
     "text": [
      "\n"
     ]
    }
   ],
   "source": [
    "kw_synonym_dict = {}\n",
    "for kw in tqdm(keywords, total=len(keywords), desc=\"Create synonym dict\"):\n",
    "    llm_syn = llm_get_synonyms(data_topic=data_desc['data_topic'], keyword=kw, n_syn=5)\n",
    "    llm_syn = [lemmatize_text(s) for s in llm_syn]\n",
    "    kw_synonym_dict.update({\n",
    "        f\"{kw}\": [kw] + llm_syn\n",
    "    })\n",
    "\n",
    "print(kw_synonym_dict)"
   ]
  },
  {
   "cell_type": "code",
   "execution_count": 18,
   "id": "049c86d7",
   "metadata": {},
   "outputs": [
    {
     "name": "stdout",
     "output_type": "stream",
     "text": [
      "250\n",
      "['coronary', 'myocardial', 'hypertension', 'cardiac', 'systolic', 'colitis', 'esophageal', 'gastrointestinal', 'bowel', 'duodenal', 'defect', 'loss', 'airway', 'graft', 'respiratory', 'cancer', 'carcinoma', 'sarcoma', 'malignancy', 'chemotherapy', 'brain', 'cerebral', 'neuronal', 'motor', 'cord']\n",
      "{'coronary': ['coronary', 'cardiac', 'heart', 'aortic', 'arterial', 'vascular'], 'myocardial': ['myocardial', 'cardiac', 'heart muscle', 'ventricular', 'atrial', 'coronary'], 'hypertension': ['hypertension', 'high blood pressure', 'elevated blood pressure', 'arterial hypertension', 'chronic hypertension', 'sustained hypertension'], 'cardiac': ['cardiac', 'heart', 'coronary', 'cardiovascular', 'myocardial', 'cardiac muscle'], 'systolic': ['systolic', 'Systole', 'systolic contraction', 'heart contraction phase', 'pump phase', 'systolic ejection'], 'colitis': ['colitis', 'colonic inflammation', 'Inflammation of the large intestine', 'enterocolitis', 'proctocolitis', 'colopathy'], 'esophageal': ['esophageal', 'relate to the esophagus', 'of the esophagus', 'esophageal', 'esophag(o)-', 'gullet'], 'gastrointestinal': ['gastrointestinal', 'digestive', 'enteric', 'abdominal', 'stomach and bowel', 'alimentary'], 'bowel': ['bowel', 'intestine', 'gut', 'bowel tract', 'digestive tract', 'alimentary canal'], 'duodenal': ['duodenal', 'of the duodenum', 'duodenal region', 'duodenal wall', 'duodenal content', 'duodenal luman'], 'defect': ['defect', 'abnormality', 'malformation', 'lesion', 'impairment', 'anomaly'], 'loss': ['loss', 'deficit', 'depletion', 'deficiency', 'absence', 'insufficiency'], 'airway': ['airway', 'breathing passage', 'respiratory tract', 'windpipe', 'trachea', 'bronchi'], 'graft': ['graft', 'transplant', 'implant', 'transplantation', 'implant tissue', 'tissue graft'], 'respiratory': ['respiratory', 'pulmonary', 'breathing - relate', 'ventilatory', 'lung - relate', 'thoracic'], 'cancer': ['cancer', 'malignancy', 'tumor', 'neoplasm', 'carcinoma', 'sarcoma'], 'carcinoma': ['carcinoma', 'malignant neoplasm', 'Malignancy', 'cancer', 'epithelial cancer', 'malignant tumor'], 'sarcoma': ['sarcoma', 'connective tissue cancer', 'malignant connective tissue tumor', 'sarcomatous tumor', 'sarcomatous growth', 'mesenchymal tumor'], 'malignancy': ['malignancy', 'cancer', 'carcinoma', 'neoplasm', 'tumor', 'sarcoma'], 'chemotherapy': ['chemotherapy', 'antineoplastic therapy', 'cytotoxic therapy', 'cancer drug treatment', 'medical oncology treatment', 'systemic cancer therapy'], 'brain': ['brain', 'cerebrum', 'encephalon', 'grey matter', 'central nervous system', 'cortex'], 'cerebral': ['cerebral', 'brain', 'cranial', 'encephalic', 'intracranial', 'neuraxial'], 'neuronal': ['neuronal', 'nerve', 'neural', 'ganglionic', 'neurological', 'nerve cell'], 'motor': ['motor', 'neuromuscular', 'musculoskeletal', 'locomotor', 'kinetic', 'motile'], 'cord': ['cord', 'umbilical cord', 'spinal cord', 'nerve cord', 'vocal cord', 'nerve']}\n"
     ]
    }
   ],
   "source": [
    "texts = train_df['text_lemma']\n",
    "print(len(texts))\n",
    "print(keywords)\n",
    "print(kw_synonym_dict)"
   ]
  },
  {
   "cell_type": "code",
   "execution_count": 19,
   "id": "c74659af",
   "metadata": {},
   "outputs": [],
   "source": [
    "def keyword_presence_matrix_from_df(df, keywords, kw_synonym_dict,\n",
    "                                    text_col='text_column', lemma_col='text_lemma'):\n",
    "    results = []\n",
    "\n",
    "    for _, row in tqdm(df.iterrows(), total=len(df), desc=\"Keyword weak labeling\"):\n",
    "        original_text = row[text_col]\n",
    "        lemmatized_text = row[lemma_col]\n",
    "\n",
    "        for kw in keywords:\n",
    "            syns = kw_synonym_dict.get(kw, [])\n",
    "            all_terms = [kw] + syns\n",
    "            score = int(any(term in lemmatized_text for term in all_terms))\n",
    "            results.append((original_text, kw, score))\n",
    "\n",
    "    return pd.DataFrame(results, columns=[\"text\", \"keyword\", \"score\"])\n"
   ]
  },
  {
   "cell_type": "code",
   "execution_count": 20,
   "id": "95524796",
   "metadata": {},
   "outputs": [
    {
     "name": "stderr",
     "output_type": "stream",
     "text": [
      "Keyword weak labeling: 100%|██████████| 250/250 [00:00<00:00, 6770.86it/s]\n"
     ]
    }
   ],
   "source": [
    "kw_wl_df = keyword_presence_matrix_from_df(train_df, keywords, kw_synonym_dict, text_column)"
   ]
  },
  {
   "cell_type": "code",
   "execution_count": 21,
   "id": "9e7b6171",
   "metadata": {},
   "outputs": [
    {
     "data": {
      "text/html": [
       "<div>\n",
       "<style scoped>\n",
       "    .dataframe tbody tr th:only-of-type {\n",
       "        vertical-align: middle;\n",
       "    }\n",
       "\n",
       "    .dataframe tbody tr th {\n",
       "        vertical-align: top;\n",
       "    }\n",
       "\n",
       "    .dataframe thead th {\n",
       "        text-align: right;\n",
       "    }\n",
       "</style>\n",
       "<table border=\"1\" class=\"dataframe\">\n",
       "  <thead>\n",
       "    <tr style=\"text-align: right;\">\n",
       "      <th></th>\n",
       "      <th>text</th>\n",
       "      <th>keyword</th>\n",
       "      <th>score</th>\n",
       "    </tr>\n",
       "  </thead>\n",
       "  <tbody>\n",
       "    <tr>\n",
       "      <th>2593</th>\n",
       "      <td>A randomized clinical trial to compare two dif...</td>\n",
       "      <td>malignancy</td>\n",
       "      <td>0</td>\n",
       "    </tr>\n",
       "    <tr>\n",
       "      <th>4248</th>\n",
       "      <td>Indications for the surgical treatment of oste...</td>\n",
       "      <td>motor</td>\n",
       "      <td>0</td>\n",
       "    </tr>\n",
       "    <tr>\n",
       "      <th>1335</th>\n",
       "      <td>Endoscopic appearance and significance of func...</td>\n",
       "      <td>defect</td>\n",
       "      <td>0</td>\n",
       "    </tr>\n",
       "    <tr>\n",
       "      <th>1116</th>\n",
       "      <td>Multivariate analysis in the prediction of dea...</td>\n",
       "      <td>carcinoma</td>\n",
       "      <td>0</td>\n",
       "    </tr>\n",
       "    <tr>\n",
       "      <th>5025</th>\n",
       "      <td>Conditioning of the spinal stretch reflex: imp...</td>\n",
       "      <td>coronary</td>\n",
       "      <td>0</td>\n",
       "    </tr>\n",
       "  </tbody>\n",
       "</table>\n",
       "</div>"
      ],
      "text/plain": [
       "                                                   text     keyword  score\n",
       "2593  A randomized clinical trial to compare two dif...  malignancy      0\n",
       "4248  Indications for the surgical treatment of oste...       motor      0\n",
       "1335  Endoscopic appearance and significance of func...      defect      0\n",
       "1116  Multivariate analysis in the prediction of dea...   carcinoma      0\n",
       "5025  Conditioning of the spinal stretch reflex: imp...    coronary      0"
      ]
     },
     "execution_count": 21,
     "metadata": {},
     "output_type": "execute_result"
    }
   ],
   "source": [
    "kw_wl_df.sample(5)"
   ]
  },
  {
   "cell_type": "code",
   "execution_count": 22,
   "id": "a52f47e5",
   "metadata": {},
   "outputs": [
    {
     "data": {
      "text/plain": [
       "score\n",
       "0    5683\n",
       "1     567\n",
       "Name: count, dtype: int64"
      ]
     },
     "execution_count": 22,
     "metadata": {},
     "output_type": "execute_result"
    }
   ],
   "source": [
    "kw_wl_df.value_counts('score')"
   ]
  },
  {
   "cell_type": "code",
   "execution_count": 23,
   "id": "93db72ec",
   "metadata": {},
   "outputs": [
    {
     "name": "stdout",
     "output_type": "stream",
     "text": [
      "[{'abstract_concept_name': 'Cardiac Function and Disorders', 'description': \"Keywords related to the heart's function and common cardiovascular diseases.\", 'keywords': ['coronary', 'myocardial', 'hypertension', 'cardiac', 'systolic'], 'label': 'cardiovascular diseases'}, {'abstract_concept_name': 'Heart Muscle and Blood Pressure', 'description': 'Terms indicating issues with heart muscle and elevated blood pressure.', 'keywords': ['myocardial', 'hypertension', 'cardiac', 'systolic'], 'label': 'cardiovascular diseases'}, {'abstract_concept_name': 'Coronary Artery Issues', 'description': 'Keywords specifically pointing to problems within the coronary arteries.', 'keywords': ['coronary', 'cardiac'], 'label': 'cardiovascular diseases'}, {'abstract_concept_name': 'Intestinal and Esophageal Conditions', 'description': 'Diseases affecting the digestive tract, including the intestines and esophagus.', 'keywords': ['colitis', 'esophageal', 'gastrointestinal', 'bowel', 'duodenal'], 'label': 'digestive system diseases'}, {'abstract_concept_name': 'Gastrointestinal Tract Ailments', 'description': 'Conditions related to the general functioning of the gastrointestinal system.', 'keywords': ['gastrointestinal', 'bowel', 'duodenal'], 'label': 'digestive system diseases'}, {'abstract_concept_name': 'Inflammatory Bowel Diseases', 'description': 'Specific focus on inflammation occurring within the bowel.', 'keywords': ['colitis', 'bowel'], 'label': 'digestive system diseases'}, {'abstract_concept_name': 'General Pathological States', 'description': 'Keywords indicating a general breakdown or deficiency in bodily function or structure.', 'keywords': ['defect', 'loss', 'airway', 'graft', 'respiratory'], 'label': 'general pathological conditions'}, {'abstract_concept_name': 'Respiratory System Impairments', 'description': 'Conditions affecting the respiratory system, including airways.', 'keywords': ['airway', 'respiratory'], 'label': 'general pathological conditions'}, {'abstract_concept_name': 'Tissue and Graft Issues', 'description': 'Problems related to tissue damage, loss, or complications with grafts.', 'keywords': ['defect', 'loss', 'graft'], 'label': 'general pathological conditions'}, {'abstract_concept_name': 'Malignant Tumors and Growths', 'description': 'Terms referring to cancerous or malignant neoplasms.', 'keywords': ['cancer', 'carcinoma', 'sarcoma', 'malignancy'], 'label': 'neoplasms'}, {'abstract_concept_name': 'Cancer Treatment and Types', 'description': 'Keywords related to specific types of cancer and their treatments.', 'keywords': ['carcinoma', 'sarcoma', 'malignancy', 'chemotherapy'], 'label': 'neoplasms'}, {'abstract_concept_name': 'Oncological Malignancies', 'description': 'General terms for cancerous conditions and malignancies.', 'keywords': ['cancer', 'malignancy', 'chemotherapy'], 'label': 'neoplasms'}, {'abstract_concept_name': 'Central and Peripheral Nervous System Disorders', 'description': 'Conditions affecting the brain, spinal cord, and neuronal functions.', 'keywords': ['brain', 'cerebral', 'neuronal', 'motor', 'cord'], 'label': 'nervous system diseases'}, {'abstract_concept_name': 'Brain and Cerebral Conditions', 'description': 'Diseases and issues specifically impacting the brain and cerebral regions.', 'keywords': ['brain', 'cerebral', 'neuronal'], 'label': 'nervous system diseases'}, {'abstract_concept_name': 'Spinal Cord and Motor Function Impairment', 'description': 'Keywords related to the spinal cord and disruptions in motor control.', 'keywords': ['neuronal', 'motor', 'cord'], 'label': 'nervous system diseases'}]\n"
     ]
    }
   ],
   "source": [
    "print(abstract_concepts)"
   ]
  },
  {
   "cell_type": "code",
   "execution_count": 24,
   "id": "4f2fcc94",
   "metadata": {},
   "outputs": [],
   "source": [
    "def aggregate_full_concept_matrix(wl_df, abstract_concepts):\n",
    "    # Lọc score == 1 trong wl_df để dễ truy cập\n",
    "    matched = wl_df[wl_df['score'] == 1]\n",
    "\n",
    "    # Tạo set {(text, keyword)} đã match\n",
    "    matched_pairs = set(zip(matched['text'], matched['keyword']))\n",
    "\n",
    "    # Lấy danh sách unique texts\n",
    "    texts = wl_df['text'].unique()\n",
    "\n",
    "    # Kết quả\n",
    "    results = []\n",
    "\n",
    "    for text in tqdm(texts, total=len(texts), desc=\"Abstract concept weak labeling\"):\n",
    "        for concept in abstract_concepts:\n",
    "            concept_name = concept['abstract_concept_name']\n",
    "            concept_keywords = concept['keywords']\n",
    "\n",
    "            # Nếu có ít nhất một keyword trong concept xuất hiện trong matched_pairs → score = 1\n",
    "            score = int(any((text, kw) in matched_pairs for kw in concept_keywords))\n",
    "\n",
    "            results.append((text, concept_name, score))\n",
    "\n",
    "    return pd.DataFrame(results, columns=[\"text\", \"abstract_concept\", \"score\"])\n"
   ]
  },
  {
   "cell_type": "code",
   "execution_count": 25,
   "id": "e7bef309",
   "metadata": {},
   "outputs": [
    {
     "name": "stderr",
     "output_type": "stream",
     "text": [
      "Abstract concept weak labeling: 100%|██████████| 250/250 [00:00<00:00, 133542.54it/s]\n"
     ]
    }
   ],
   "source": [
    "abstract_df = aggregate_full_concept_matrix(kw_wl_df, abstract_concepts)"
   ]
  },
  {
   "cell_type": "code",
   "execution_count": 26,
   "id": "cdbe1d6c",
   "metadata": {},
   "outputs": [
    {
     "data": {
      "text/html": [
       "<div>\n",
       "<style scoped>\n",
       "    .dataframe tbody tr th:only-of-type {\n",
       "        vertical-align: middle;\n",
       "    }\n",
       "\n",
       "    .dataframe tbody tr th {\n",
       "        vertical-align: top;\n",
       "    }\n",
       "\n",
       "    .dataframe thead th {\n",
       "        text-align: right;\n",
       "    }\n",
       "</style>\n",
       "<table border=\"1\" class=\"dataframe\">\n",
       "  <thead>\n",
       "    <tr style=\"text-align: right;\">\n",
       "      <th></th>\n",
       "      <th>text</th>\n",
       "      <th>abstract_concept</th>\n",
       "      <th>score</th>\n",
       "    </tr>\n",
       "  </thead>\n",
       "  <tbody>\n",
       "    <tr>\n",
       "      <th>860</th>\n",
       "      <td>Absorption of carbon 13-labeled rice in milk b...</td>\n",
       "      <td>Inflammatory Bowel Diseases</td>\n",
       "      <td>0</td>\n",
       "    </tr>\n",
       "    <tr>\n",
       "      <th>3575</th>\n",
       "      <td>Platelet monoamine oxidase activity in female ...</td>\n",
       "      <td>Inflammatory Bowel Diseases</td>\n",
       "      <td>0</td>\n",
       "    </tr>\n",
       "    <tr>\n",
       "      <th>1118</th>\n",
       "      <td>Benefit of ketotifen in patients with eosinoph...</td>\n",
       "      <td>Tissue and Graft Issues</td>\n",
       "      <td>0</td>\n",
       "    </tr>\n",
       "    <tr>\n",
       "      <th>825</th>\n",
       "      <td>Estimates of morbidity and mortality rates for...</td>\n",
       "      <td>Cardiac Function and Disorders</td>\n",
       "      <td>0</td>\n",
       "    </tr>\n",
       "    <tr>\n",
       "      <th>1871</th>\n",
       "      <td>Intestinal metaplasia is age related in Barret...</td>\n",
       "      <td>Oncological Malignancies</td>\n",
       "      <td>1</td>\n",
       "    </tr>\n",
       "  </tbody>\n",
       "</table>\n",
       "</div>"
      ],
      "text/plain": [
       "                                                   text  \\\n",
       "860   Absorption of carbon 13-labeled rice in milk b...   \n",
       "3575  Platelet monoamine oxidase activity in female ...   \n",
       "1118  Benefit of ketotifen in patients with eosinoph...   \n",
       "825   Estimates of morbidity and mortality rates for...   \n",
       "1871  Intestinal metaplasia is age related in Barret...   \n",
       "\n",
       "                    abstract_concept  score  \n",
       "860      Inflammatory Bowel Diseases      0  \n",
       "3575     Inflammatory Bowel Diseases      0  \n",
       "1118         Tissue and Graft Issues      0  \n",
       "825   Cardiac Function and Disorders      0  \n",
       "1871        Oncological Malignancies      1  "
      ]
     },
     "execution_count": 26,
     "metadata": {},
     "output_type": "execute_result"
    }
   ],
   "source": [
    "abstract_df.sample(5)"
   ]
  },
  {
   "cell_type": "code",
   "execution_count": 27,
   "id": "408a1063",
   "metadata": {},
   "outputs": [
    {
     "data": {
      "text/plain": [
       "score\n",
       "0    2977\n",
       "1     773\n",
       "Name: count, dtype: int64"
      ]
     },
     "execution_count": 27,
     "metadata": {},
     "output_type": "execute_result"
    }
   ],
   "source": [
    "abstract_df.value_counts('score')"
   ]
  },
  {
   "cell_type": "code",
   "execution_count": 28,
   "id": "fe07e723",
   "metadata": {},
   "outputs": [],
   "source": [
    "from utils.data_io import join_path, save_csv"
   ]
  },
  {
   "cell_type": "code",
   "execution_count": 29,
   "id": "074d74c9",
   "metadata": {},
   "outputs": [],
   "source": [
    "save_csv(kw_wl_df, dir=join_path(dataset, 'weak_label_data'), file_name='keyword_wl.csv')"
   ]
  },
  {
   "cell_type": "code",
   "execution_count": 30,
   "id": "0890309b",
   "metadata": {},
   "outputs": [],
   "source": [
    "save_csv(abstract_df, dir=join_path(dataset, 'weak_label_data'), file_name='abstract_wl.csv')"
   ]
  },
  {
   "cell_type": "code",
   "execution_count": null,
   "id": "c74091cb",
   "metadata": {},
   "outputs": [],
   "source": []
  }
 ],
 "metadata": {
  "kernelspec": {
   "display_name": "venv",
   "language": "python",
   "name": "python3"
  },
  "language_info": {
   "codemirror_mode": {
    "name": "ipython",
    "version": 3
   },
   "file_extension": ".py",
   "mimetype": "text/x-python",
   "name": "python",
   "nbconvert_exporter": "python",
   "pygments_lexer": "ipython3",
   "version": "3.13.2"
  }
 },
 "nbformat": 4,
 "nbformat_minor": 5
}
