{
 "cells": [
  {
   "cell_type": "code",
   "execution_count": 1,
   "id": "d1edd7f1",
   "metadata": {
    "execution": {
     "iopub.execute_input": "2025-07-13T16:30:16.972772Z",
     "iopub.status.busy": "2025-07-13T16:30:16.972466Z",
     "iopub.status.idle": "2025-07-13T16:30:16.977056Z",
     "shell.execute_reply": "2025-07-13T16:30:16.976596Z"
    },
    "papermill": {
     "duration": 0.009917,
     "end_time": "2025-07-13T16:30:16.978316",
     "exception": false,
     "start_time": "2025-07-13T16:30:16.968399",
     "status": "completed"
    },
    "tags": [
     "injected-parameters"
    ]
   },
   "outputs": [],
   "source": [
    "# Parameters\n",
    "dataset = \"/Users/dauduchieu/Desktop/iSE-CBM/_raw_data\"\n",
    "test = True\n"
   ]
  },
  {
   "cell_type": "code",
   "execution_count": 2,
   "id": "3b63c1b0",
   "metadata": {
    "execution": {
     "iopub.execute_input": "2025-07-13T16:30:16.984526Z",
     "iopub.status.busy": "2025-07-13T16:30:16.984317Z",
     "iopub.status.idle": "2025-07-13T16:30:16.986548Z",
     "shell.execute_reply": "2025-07-13T16:30:16.986178Z"
    },
    "papermill": {
     "duration": 0.006108,
     "end_time": "2025-07-13T16:30:16.987826",
     "exception": false,
     "start_time": "2025-07-13T16:30:16.981718",
     "status": "completed"
    },
    "tags": []
   },
   "outputs": [],
   "source": [
    "# # Param\n",
    "# test = \"True\"\n",
    "# dataset = '/Users/dauduchieu/Desktop/iSE-CBM/_raw_data'"
   ]
  },
  {
   "cell_type": "code",
   "execution_count": 3,
   "id": "b6078516",
   "metadata": {
    "execution": {
     "iopub.execute_input": "2025-07-13T16:30:16.991593Z",
     "iopub.status.busy": "2025-07-13T16:30:16.991423Z",
     "iopub.status.idle": "2025-07-13T16:30:16.993915Z",
     "shell.execute_reply": "2025-07-13T16:30:16.993616Z"
    },
    "papermill": {
     "duration": 0.005249,
     "end_time": "2025-07-13T16:30:16.994700",
     "exception": false,
     "start_time": "2025-07-13T16:30:16.989451",
     "status": "completed"
    },
    "tags": []
   },
   "outputs": [],
   "source": [
    "is_test = True\n",
    "if test == \"False\" or test == False:\n",
    "    is_test = False"
   ]
  },
  {
   "cell_type": "code",
   "execution_count": 4,
   "id": "f4de3f93",
   "metadata": {
    "execution": {
     "iopub.execute_input": "2025-07-13T16:30:16.998371Z",
     "iopub.status.busy": "2025-07-13T16:30:16.998242Z",
     "iopub.status.idle": "2025-07-13T16:30:17.000316Z",
     "shell.execute_reply": "2025-07-13T16:30:17.000044Z"
    },
    "papermill": {
     "duration": 0.004669,
     "end_time": "2025-07-13T16:30:17.001143",
     "exception": false,
     "start_time": "2025-07-13T16:30:16.996474",
     "status": "completed"
    },
    "tags": []
   },
   "outputs": [
    {
     "name": "stdout",
     "output_type": "stream",
     "text": [
      "/Users/dauduchieu/Documents/iSE2025/CBM\n"
     ]
    }
   ],
   "source": [
    "import os\n",
    "print(os.getcwd())"
   ]
  },
  {
   "cell_type": "code",
   "execution_count": 5,
   "id": "1eb87571",
   "metadata": {
    "execution": {
     "iopub.execute_input": "2025-07-13T16:30:17.004132Z",
     "iopub.status.busy": "2025-07-13T16:30:17.004016Z",
     "iopub.status.idle": "2025-07-13T16:30:24.126839Z",
     "shell.execute_reply": "2025-07-13T16:30:24.126293Z"
    },
    "papermill": {
     "duration": 7.126986,
     "end_time": "2025-07-13T16:30:24.129435",
     "exception": false,
     "start_time": "2025-07-13T16:30:17.002449",
     "status": "completed"
    },
    "tags": []
   },
   "outputs": [],
   "source": [
    "from utils.data_loader import DataLoader"
   ]
  },
  {
   "cell_type": "code",
   "execution_count": 6,
   "id": "b865c09e",
   "metadata": {
    "execution": {
     "iopub.execute_input": "2025-07-13T16:30:24.133924Z",
     "iopub.status.busy": "2025-07-13T16:30:24.133647Z",
     "iopub.status.idle": "2025-07-13T16:30:24.135932Z",
     "shell.execute_reply": "2025-07-13T16:30:24.135649Z"
    },
    "papermill": {
     "duration": 0.004772,
     "end_time": "2025-07-13T16:30:24.136664",
     "exception": false,
     "start_time": "2025-07-13T16:30:24.131892",
     "status": "completed"
    },
    "tags": []
   },
   "outputs": [],
   "source": [
    "data_loader = DataLoader(dataset)"
   ]
  },
  {
   "cell_type": "code",
   "execution_count": 7,
   "id": "8bc300d5",
   "metadata": {
    "execution": {
     "iopub.execute_input": "2025-07-13T16:30:24.140168Z",
     "iopub.status.busy": "2025-07-13T16:30:24.140049Z",
     "iopub.status.idle": "2025-07-13T16:30:24.240704Z",
     "shell.execute_reply": "2025-07-13T16:30:24.240399Z"
    },
    "papermill": {
     "duration": 0.103262,
     "end_time": "2025-07-13T16:30:24.241568",
     "exception": false,
     "start_time": "2025-07-13T16:30:24.138306",
     "status": "completed"
    },
    "tags": []
   },
   "outputs": [],
   "source": [
    "train_df = data_loader.get_input_data_train()\n",
    "test_df = data_loader.get_input_data_test()"
   ]
  },
  {
   "cell_type": "code",
   "execution_count": 8,
   "id": "0cc50a4d",
   "metadata": {
    "execution": {
     "iopub.execute_input": "2025-07-13T16:30:24.244368Z",
     "iopub.status.busy": "2025-07-13T16:30:24.244264Z",
     "iopub.status.idle": "2025-07-13T16:30:24.251446Z",
     "shell.execute_reply": "2025-07-13T16:30:24.251196Z"
    },
    "papermill": {
     "duration": 0.009654,
     "end_time": "2025-07-13T16:30:24.252548",
     "exception": false,
     "start_time": "2025-07-13T16:30:24.242894",
     "status": "completed"
    },
    "tags": []
   },
   "outputs": [
    {
     "data": {
      "text/html": [
       "<div>\n",
       "<style scoped>\n",
       "    .dataframe tbody tr th:only-of-type {\n",
       "        vertical-align: middle;\n",
       "    }\n",
       "\n",
       "    .dataframe tbody tr th {\n",
       "        vertical-align: top;\n",
       "    }\n",
       "\n",
       "    .dataframe thead th {\n",
       "        text-align: right;\n",
       "    }\n",
       "</style>\n",
       "<table border=\"1\" class=\"dataframe\">\n",
       "  <thead>\n",
       "    <tr style=\"text-align: right;\">\n",
       "      <th></th>\n",
       "      <th>condition_label</th>\n",
       "      <th>medical_abstract</th>\n",
       "    </tr>\n",
       "  </thead>\n",
       "  <tbody>\n",
       "    <tr>\n",
       "      <th>70</th>\n",
       "      <td>1</td>\n",
       "      <td>Strabismus caused by melanoma metastatic to an...</td>\n",
       "    </tr>\n",
       "    <tr>\n",
       "      <th>2791</th>\n",
       "      <td>2</td>\n",
       "      <td>Skeletal scintigraphy in coeliac disease. A pa...</td>\n",
       "    </tr>\n",
       "  </tbody>\n",
       "</table>\n",
       "</div>"
      ],
      "text/plain": [
       "      condition_label                                   medical_abstract\n",
       "70                  1  Strabismus caused by melanoma metastatic to an...\n",
       "2791                2  Skeletal scintigraphy in coeliac disease. A pa..."
      ]
     },
     "execution_count": 8,
     "metadata": {},
     "output_type": "execute_result"
    }
   ],
   "source": [
    "train_df.sample(2)"
   ]
  },
  {
   "cell_type": "code",
   "execution_count": 9,
   "id": "1cda0712",
   "metadata": {
    "execution": {
     "iopub.execute_input": "2025-07-13T16:30:24.255101Z",
     "iopub.status.busy": "2025-07-13T16:30:24.254999Z",
     "iopub.status.idle": "2025-07-13T16:30:24.257121Z",
     "shell.execute_reply": "2025-07-13T16:30:24.256917Z"
    },
    "papermill": {
     "duration": 0.004013,
     "end_time": "2025-07-13T16:30:24.257718",
     "exception": false,
     "start_time": "2025-07-13T16:30:24.253705",
     "status": "completed"
    },
    "tags": []
   },
   "outputs": [
    {
     "data": {
      "text/plain": [
       "'condition_label'"
      ]
     },
     "execution_count": 9,
     "metadata": {},
     "output_type": "execute_result"
    }
   ],
   "source": [
    "label_column = data_loader.get_data_desc()['label_column']\n",
    "label_column"
   ]
  },
  {
   "cell_type": "code",
   "execution_count": 10,
   "id": "52e62102",
   "metadata": {
    "execution": {
     "iopub.execute_input": "2025-07-13T16:30:24.260699Z",
     "iopub.status.busy": "2025-07-13T16:30:24.260604Z",
     "iopub.status.idle": "2025-07-13T16:30:24.262754Z",
     "shell.execute_reply": "2025-07-13T16:30:24.262565Z"
    },
    "papermill": {
     "duration": 0.004443,
     "end_time": "2025-07-13T16:30:24.263327",
     "exception": false,
     "start_time": "2025-07-13T16:30:24.258884",
     "status": "completed"
    },
    "tags": []
   },
   "outputs": [
    {
     "data": {
      "text/plain": [
       "{'1': {'name': 'neoplasms',\n",
       "  'description': 'Diseases related to abnormal growths such as tumors and cancers, including benign and malignant neoplasms.'},\n",
       " '2': {'name': 'digestive system diseases',\n",
       "  'description': 'Diseases affecting the digestive system, including the stomach, intestines, liver, pancreas, and associated organs.'},\n",
       " '3': {'name': 'nervous system diseases',\n",
       "  'description': 'Diseases and disorders of the nervous system, including the brain, spinal cord, and peripheral nerves.'},\n",
       " '4': {'name': 'cardiovascular diseases',\n",
       "  'description': 'Diseases of the heart and blood vessels, including heart disease, hypertension, and circulatory disorders.'},\n",
       " '5': {'name': 'general pathological conditions',\n",
       "  'description': 'General pathological conditions that affect overall health or multiple body systems, not restricted to a specific organ.'}}"
      ]
     },
     "execution_count": 10,
     "metadata": {},
     "output_type": "execute_result"
    }
   ],
   "source": [
    "label_desc = data_loader.get_label_desc()\n",
    "label_desc"
   ]
  },
  {
   "cell_type": "code",
   "execution_count": 11,
   "id": "44750462",
   "metadata": {
    "execution": {
     "iopub.execute_input": "2025-07-13T16:30:24.265885Z",
     "iopub.status.busy": "2025-07-13T16:30:24.265803Z",
     "iopub.status.idle": "2025-07-13T16:30:24.267809Z",
     "shell.execute_reply": "2025-07-13T16:30:24.267603Z"
    },
    "papermill": {
     "duration": 0.003953,
     "end_time": "2025-07-13T16:30:24.268427",
     "exception": false,
     "start_time": "2025-07-13T16:30:24.264474",
     "status": "completed"
    },
    "tags": []
   },
   "outputs": [
    {
     "data": {
      "text/plain": [
       "{'1': 'neoplasms',\n",
       " '2': 'digestive system diseases',\n",
       " '3': 'nervous system diseases',\n",
       " '4': 'cardiovascular diseases',\n",
       " '5': 'general pathological conditions'}"
      ]
     },
     "execution_count": 11,
     "metadata": {},
     "output_type": "execute_result"
    }
   ],
   "source": [
    "label_map = {}\n",
    "for k in label_desc.keys():\n",
    "    label_map.update({ f\"{k}\": f\"{label_desc[k]['name']}\" })\n",
    "\n",
    "label_map"
   ]
  },
  {
   "cell_type": "code",
   "execution_count": 12,
   "id": "6b337778",
   "metadata": {
    "execution": {
     "iopub.execute_input": "2025-07-13T16:30:24.271007Z",
     "iopub.status.busy": "2025-07-13T16:30:24.270925Z",
     "iopub.status.idle": "2025-07-13T16:30:24.274204Z",
     "shell.execute_reply": "2025-07-13T16:30:24.273990Z"
    },
    "papermill": {
     "duration": 0.005248,
     "end_time": "2025-07-13T16:30:24.274813",
     "exception": false,
     "start_time": "2025-07-13T16:30:24.269565",
     "status": "completed"
    },
    "tags": []
   },
   "outputs": [],
   "source": [
    "train_df[label_column] = train_df[label_column].apply(lambda l: label_map[str(l)])\n",
    "test_df[label_column] = test_df[label_column].apply(lambda l: label_map[str(l)])"
   ]
  },
  {
   "cell_type": "code",
   "execution_count": 13,
   "id": "5d950f57",
   "metadata": {
    "execution": {
     "iopub.execute_input": "2025-07-13T16:30:24.277380Z",
     "iopub.status.busy": "2025-07-13T16:30:24.277295Z",
     "iopub.status.idle": "2025-07-13T16:30:24.279946Z",
     "shell.execute_reply": "2025-07-13T16:30:24.279758Z"
    },
    "papermill": {
     "duration": 0.004583,
     "end_time": "2025-07-13T16:30:24.280538",
     "exception": false,
     "start_time": "2025-07-13T16:30:24.275955",
     "status": "completed"
    },
    "tags": []
   },
   "outputs": [
    {
     "data": {
      "text/html": [
       "<div>\n",
       "<style scoped>\n",
       "    .dataframe tbody tr th:only-of-type {\n",
       "        vertical-align: middle;\n",
       "    }\n",
       "\n",
       "    .dataframe tbody tr th {\n",
       "        vertical-align: top;\n",
       "    }\n",
       "\n",
       "    .dataframe thead th {\n",
       "        text-align: right;\n",
       "    }\n",
       "</style>\n",
       "<table border=\"1\" class=\"dataframe\">\n",
       "  <thead>\n",
       "    <tr style=\"text-align: right;\">\n",
       "      <th></th>\n",
       "      <th>condition_label</th>\n",
       "      <th>medical_abstract</th>\n",
       "    </tr>\n",
       "  </thead>\n",
       "  <tbody>\n",
       "    <tr>\n",
       "      <th>1834</th>\n",
       "      <td>general pathological conditions</td>\n",
       "      <td>Circadian variation in onset of acute ischemic...</td>\n",
       "    </tr>\n",
       "    <tr>\n",
       "      <th>1202</th>\n",
       "      <td>neoplasms</td>\n",
       "      <td>Duplex ultrasonography for persistent gestatio...</td>\n",
       "    </tr>\n",
       "  </tbody>\n",
       "</table>\n",
       "</div>"
      ],
      "text/plain": [
       "                      condition_label  \\\n",
       "1834  general pathological conditions   \n",
       "1202                        neoplasms   \n",
       "\n",
       "                                       medical_abstract  \n",
       "1834  Circadian variation in onset of acute ischemic...  \n",
       "1202  Duplex ultrasonography for persistent gestatio...  "
      ]
     },
     "execution_count": 13,
     "metadata": {},
     "output_type": "execute_result"
    }
   ],
   "source": [
    "train_df.sample(2)"
   ]
  },
  {
   "cell_type": "code",
   "execution_count": 14,
   "id": "11a1c110",
   "metadata": {
    "execution": {
     "iopub.execute_input": "2025-07-13T16:30:24.283095Z",
     "iopub.status.busy": "2025-07-13T16:30:24.283016Z",
     "iopub.status.idle": "2025-07-13T16:30:24.284945Z",
     "shell.execute_reply": "2025-07-13T16:30:24.284753Z"
    },
    "papermill": {
     "duration": 0.003865,
     "end_time": "2025-07-13T16:30:24.285537",
     "exception": false,
     "start_time": "2025-07-13T16:30:24.281672",
     "status": "completed"
    },
    "tags": []
   },
   "outputs": [],
   "source": [
    "from utils.data_io import join_path, save_csv, save_json"
   ]
  },
  {
   "cell_type": "code",
   "execution_count": 15,
   "id": "1606dadc",
   "metadata": {
    "execution": {
     "iopub.execute_input": "2025-07-13T16:30:24.288169Z",
     "iopub.status.busy": "2025-07-13T16:30:24.288089Z",
     "iopub.status.idle": "2025-07-13T16:30:24.425283Z",
     "shell.execute_reply": "2025-07-13T16:30:24.424984Z"
    },
    "papermill": {
     "duration": 0.13953,
     "end_time": "2025-07-13T16:30:24.426198",
     "exception": false,
     "start_time": "2025-07-13T16:30:24.286668",
     "status": "completed"
    },
    "tags": []
   },
   "outputs": [],
   "source": [
    "save_csv(df=train_df, dir=join_path('data', 'data'), file_name='train.csv')\n",
    "save_csv(df=test_df, dir=join_path('data', 'data'), file_name='test.csv')"
   ]
  },
  {
   "cell_type": "code",
   "execution_count": 16,
   "id": "89d9f951",
   "metadata": {
    "execution": {
     "iopub.execute_input": "2025-07-13T16:30:24.429085Z",
     "iopub.status.busy": "2025-07-13T16:30:24.428989Z",
     "iopub.status.idle": "2025-07-13T16:30:24.448023Z",
     "shell.execute_reply": "2025-07-13T16:30:24.447762Z"
    },
    "papermill": {
     "duration": 0.021296,
     "end_time": "2025-07-13T16:30:24.448796",
     "exception": false,
     "start_time": "2025-07-13T16:30:24.427500",
     "status": "completed"
    },
    "tags": []
   },
   "outputs": [],
   "source": [
    "import os\n",
    "import shutil\n",
    "\n",
    "src_dir = dataset\n",
    "dst_dir = 'data'\n",
    "\n",
    "os.makedirs(dst_dir, exist_ok=True)\n",
    "\n",
    "for item in os.listdir(src_dir):\n",
    "    s = os.path.join(src_dir, item)\n",
    "    d = os.path.join(dst_dir, item)\n",
    "    if os.path.isdir(s):\n",
    "        shutil.copytree(s, d, dirs_exist_ok=True)\n"
   ]
  },
  {
   "cell_type": "code",
   "execution_count": null,
   "id": "a1185395",
   "metadata": {
    "papermill": {
     "duration": 0.001092,
     "end_time": "2025-07-13T16:30:24.451135",
     "exception": false,
     "start_time": "2025-07-13T16:30:24.450043",
     "status": "completed"
    },
    "tags": []
   },
   "outputs": [],
   "source": []
  }
 ],
 "metadata": {
  "kernelspec": {
   "display_name": "venv",
   "language": "python",
   "name": "python3"
  },
  "language_info": {
   "codemirror_mode": {
    "name": "ipython",
    "version": 3
   },
   "file_extension": ".py",
   "mimetype": "text/x-python",
   "name": "python",
   "nbconvert_exporter": "python",
   "pygments_lexer": "ipython3",
   "version": "3.13.2"
  },
  "papermill": {
   "default_parameters": {},
   "duration": 9.039116,
   "end_time": "2025-07-13T16:30:24.669067",
   "environment_variables": {},
   "exception": null,
   "input_path": "data_preprocessing.ipynb",
   "output_path": "output/data_preprocessing.ipynb",
   "parameters": {
    "dataset": "/Users/dauduchieu/Desktop/iSE-CBM/_raw_data",
    "test": true
   },
   "start_time": "2025-07-13T16:30:15.629951",
   "version": "2.6.0"
  }
 },
 "nbformat": 4,
 "nbformat_minor": 5
}