{
 "cells": [
  {
   "cell_type": "code",
   "execution_count": 1,
   "id": "7018c454",
   "metadata": {
    "execution": {
     "iopub.execute_input": "2025-07-13T16:30:26.187494Z",
     "iopub.status.busy": "2025-07-13T16:30:26.186202Z",
     "iopub.status.idle": "2025-07-13T16:30:26.194317Z",
     "shell.execute_reply": "2025-07-13T16:30:26.194001Z"
    },
    "papermill": {
     "duration": 0.018396,
     "end_time": "2025-07-13T16:30:26.195161",
     "exception": false,
     "start_time": "2025-07-13T16:30:26.176765",
     "status": "completed"
    },
    "tags": [
     "injected-parameters"
    ]
   },
   "outputs": [],
   "source": [
    "# Parameters\n",
    "test = True\n"
   ]
  },
  {
   "cell_type": "code",
   "execution_count": 2,
   "id": "57ed177f",
   "metadata": {
    "execution": {
     "iopub.execute_input": "2025-07-13T16:30:26.200250Z",
     "iopub.status.busy": "2025-07-13T16:30:26.200109Z",
     "iopub.status.idle": "2025-07-13T16:30:26.201788Z",
     "shell.execute_reply": "2025-07-13T16:30:26.201552Z"
    },
    "papermill": {
     "duration": 0.004915,
     "end_time": "2025-07-13T16:30:26.202536",
     "exception": false,
     "start_time": "2025-07-13T16:30:26.197621",
     "status": "completed"
    },
    "tags": []
   },
   "outputs": [],
   "source": [
    "# # Param\n",
    "# test = \"True\""
   ]
  },
  {
   "cell_type": "code",
   "execution_count": 3,
   "id": "cfba86b1",
   "metadata": {
    "execution": {
     "iopub.execute_input": "2025-07-13T16:30:26.207052Z",
     "iopub.status.busy": "2025-07-13T16:30:26.206936Z",
     "iopub.status.idle": "2025-07-13T16:30:26.210109Z",
     "shell.execute_reply": "2025-07-13T16:30:26.208904Z"
    },
    "papermill": {
     "duration": 0.006222,
     "end_time": "2025-07-13T16:30:26.210908",
     "exception": false,
     "start_time": "2025-07-13T16:30:26.204686",
     "status": "completed"
    },
    "tags": []
   },
   "outputs": [
    {
     "name": "stdout",
     "output_type": "stream",
     "text": [
      "/Users/dauduchieu/Documents/iSE2025/CBM\n"
     ]
    }
   ],
   "source": [
    "import os\n",
    "print(os.getcwd())"
   ]
  },
  {
   "cell_type": "code",
   "execution_count": 4,
   "id": "b33120e2",
   "metadata": {
    "execution": {
     "iopub.execute_input": "2025-07-13T16:30:26.215835Z",
     "iopub.status.busy": "2025-07-13T16:30:26.215575Z",
     "iopub.status.idle": "2025-07-13T16:30:26.217374Z",
     "shell.execute_reply": "2025-07-13T16:30:26.217144Z"
    },
    "papermill": {
     "duration": 0.004659,
     "end_time": "2025-07-13T16:30:26.218054",
     "exception": false,
     "start_time": "2025-07-13T16:30:26.213395",
     "status": "completed"
    },
    "tags": []
   },
   "outputs": [],
   "source": [
    "is_test = True\n",
    "if test == \"False\" or test == False:\n",
    "    is_test = False"
   ]
  },
  {
   "cell_type": "code",
   "execution_count": 5,
   "id": "0523bc01",
   "metadata": {
    "execution": {
     "iopub.execute_input": "2025-07-13T16:30:26.221927Z",
     "iopub.status.busy": "2025-07-13T16:30:26.221832Z",
     "iopub.status.idle": "2025-07-13T16:30:26.223412Z",
     "shell.execute_reply": "2025-07-13T16:30:26.223171Z"
    },
    "papermill": {
     "duration": 0.004209,
     "end_time": "2025-07-13T16:30:26.224096",
     "exception": false,
     "start_time": "2025-07-13T16:30:26.219887",
     "status": "completed"
    },
    "tags": []
   },
   "outputs": [],
   "source": [
    "dataset = \"data\""
   ]
  },
  {
   "cell_type": "code",
   "execution_count": 6,
   "id": "51e387e0",
   "metadata": {
    "execution": {
     "iopub.execute_input": "2025-07-13T16:30:26.229447Z",
     "iopub.status.busy": "2025-07-13T16:30:26.229295Z",
     "iopub.status.idle": "2025-07-13T16:30:26.551591Z",
     "shell.execute_reply": "2025-07-13T16:30:26.551320Z"
    },
    "papermill": {
     "duration": 0.325999,
     "end_time": "2025-07-13T16:30:26.552491",
     "exception": false,
     "start_time": "2025-07-13T16:30:26.226492",
     "status": "completed"
    },
    "tags": []
   },
   "outputs": [],
   "source": [
    "from utils.data_loader import DataLoader"
   ]
  },
  {
   "cell_type": "code",
   "execution_count": 7,
   "id": "67004985",
   "metadata": {
    "execution": {
     "iopub.execute_input": "2025-07-13T16:30:26.556522Z",
     "iopub.status.busy": "2025-07-13T16:30:26.556380Z",
     "iopub.status.idle": "2025-07-13T16:30:26.558028Z",
     "shell.execute_reply": "2025-07-13T16:30:26.557784Z"
    },
    "papermill": {
     "duration": 0.00425,
     "end_time": "2025-07-13T16:30:26.558631",
     "exception": false,
     "start_time": "2025-07-13T16:30:26.554381",
     "status": "completed"
    },
    "tags": []
   },
   "outputs": [],
   "source": [
    "data_loader = DataLoader(dataset)"
   ]
  },
  {
   "cell_type": "code",
   "execution_count": 8,
   "id": "bb3848b2",
   "metadata": {
    "execution": {
     "iopub.execute_input": "2025-07-13T16:30:26.562690Z",
     "iopub.status.busy": "2025-07-13T16:30:26.562574Z",
     "iopub.status.idle": "2025-07-13T16:30:26.634254Z",
     "shell.execute_reply": "2025-07-13T16:30:26.634010Z"
    },
    "papermill": {
     "duration": 0.07485,
     "end_time": "2025-07-13T16:30:26.635072",
     "exception": false,
     "start_time": "2025-07-13T16:30:26.560222",
     "status": "completed"
    },
    "tags": []
   },
   "outputs": [],
   "source": [
    "train_df = data_loader.get_data_train()"
   ]
  },
  {
   "cell_type": "code",
   "execution_count": 9,
   "id": "5cbbf0b4",
   "metadata": {
    "execution": {
     "iopub.execute_input": "2025-07-13T16:30:26.638828Z",
     "iopub.status.busy": "2025-07-13T16:30:26.638716Z",
     "iopub.status.idle": "2025-07-13T16:30:26.640558Z",
     "shell.execute_reply": "2025-07-13T16:30:26.640341Z"
    },
    "papermill": {
     "duration": 0.004461,
     "end_time": "2025-07-13T16:30:26.641192",
     "exception": false,
     "start_time": "2025-07-13T16:30:26.636731",
     "status": "completed"
    },
    "tags": []
   },
   "outputs": [],
   "source": [
    "data_desc = data_loader.get_data_desc()\n",
    "label_column = data_desc['label_column']\n",
    "text_column = data_desc['text_column']"
   ]
  },
  {
   "cell_type": "code",
   "execution_count": 10,
   "id": "cbd55a11",
   "metadata": {
    "execution": {
     "iopub.execute_input": "2025-07-13T16:30:26.644978Z",
     "iopub.status.busy": "2025-07-13T16:30:26.644879Z",
     "iopub.status.idle": "2025-07-13T16:30:26.648310Z",
     "shell.execute_reply": "2025-07-13T16:30:26.648108Z"
    },
    "papermill": {
     "duration": 0.005924,
     "end_time": "2025-07-13T16:30:26.648887",
     "exception": false,
     "start_time": "2025-07-13T16:30:26.642963",
     "status": "completed"
    },
    "tags": []
   },
   "outputs": [
    {
     "data": {
      "text/plain": [
       "array(['general pathological conditions', 'neoplasms',\n",
       "       'digestive system diseases', 'nervous system diseases',\n",
       "       'cardiovascular diseases'], dtype=object)"
      ]
     },
     "execution_count": 10,
     "metadata": {},
     "output_type": "execute_result"
    }
   ],
   "source": [
    "labels = train_df[label_column].unique()\n",
    "labels"
   ]
  },
  {
   "cell_type": "code",
   "execution_count": 11,
   "id": "6e7770a0",
   "metadata": {
    "execution": {
     "iopub.execute_input": "2025-07-13T16:30:26.652432Z",
     "iopub.status.busy": "2025-07-13T16:30:26.652338Z",
     "iopub.status.idle": "2025-07-13T16:30:26.656679Z",
     "shell.execute_reply": "2025-07-13T16:30:26.656472Z"
    },
    "papermill": {
     "duration": 0.006864,
     "end_time": "2025-07-13T16:30:26.657336",
     "exception": false,
     "start_time": "2025-07-13T16:30:26.650472",
     "status": "completed"
    },
    "tags": []
   },
   "outputs": [],
   "source": [
    "if is_test:\n",
    "    train_df = train_df.groupby(label_column).sample(50)"
   ]
  },
  {
   "cell_type": "code",
   "execution_count": null,
   "id": "4e9ed0c0",
   "metadata": {
    "papermill": {
     "duration": 0.001615,
     "end_time": "2025-07-13T16:30:26.660752",
     "exception": false,
     "start_time": "2025-07-13T16:30:26.659137",
     "status": "completed"
    },
    "tags": []
   },
   "outputs": [],
   "source": []
  },
  {
   "cell_type": "code",
   "execution_count": 12,
   "id": "043d697a",
   "metadata": {
    "execution": {
     "iopub.execute_input": "2025-07-13T16:30:26.664278Z",
     "iopub.status.busy": "2025-07-13T16:30:26.664189Z",
     "iopub.status.idle": "2025-07-13T16:30:26.665767Z",
     "shell.execute_reply": "2025-07-13T16:30:26.665541Z"
    },
    "papermill": {
     "duration": 0.004254,
     "end_time": "2025-07-13T16:30:26.666573",
     "exception": false,
     "start_time": "2025-07-13T16:30:26.662319",
     "status": "completed"
    },
    "tags": []
   },
   "outputs": [],
   "source": [
    "from abc import ABC, abstractmethod\n",
    "class LLMCaller(ABC):\n",
    "    @abstractmethod\n",
    "    def structed_output(self, prompt:str, output_struct):\n",
    "        pass"
   ]
  },
  {
   "cell_type": "code",
   "execution_count": 13,
   "id": "09b00c71",
   "metadata": {
    "execution": {
     "iopub.execute_input": "2025-07-13T16:30:26.670366Z",
     "iopub.status.busy": "2025-07-13T16:30:26.670277Z",
     "iopub.status.idle": "2025-07-13T16:30:26.673838Z",
     "shell.execute_reply": "2025-07-13T16:30:26.673601Z"
    },
    "papermill": {
     "duration": 0.006204,
     "end_time": "2025-07-13T16:30:26.674506",
     "exception": false,
     "start_time": "2025-07-13T16:30:26.668302",
     "status": "completed"
    },
    "tags": []
   },
   "outputs": [],
   "source": [
    "from time import time, sleep\n",
    "from typing import List, Callable, TypeVar\n",
    "\n",
    "T = TypeVar('T')\n",
    "\n",
    "class GeminiRateLimiter:\n",
    "    def __init__(self, requests_per_minute: int = 15):\n",
    "        self.rpm = requests_per_minute\n",
    "        self.times: List[float] = []\n",
    "\n",
    "    def wait(self):\n",
    "        now = time()\n",
    "        self.times = [t for t in self.times if now - t <= 60]\n",
    "        if len(self.times) >= self.rpm:\n",
    "            sleep(60 - (now - self.times[0]))\n",
    "            now = time()\n",
    "            self.times = [t for t in self.times if now - t <= 60]\n",
    "\n",
    "    def record(self):\n",
    "        self.times.append(time())\n",
    "\n",
    "    def execute(self, f: Callable[..., T], *args, **kwargs) -> T:\n",
    "        self.wait()\n",
    "        try:\n",
    "            r = f(*args, **kwargs)\n",
    "            self.record()\n",
    "            return r\n",
    "        except:\n",
    "            self.record()\n",
    "            raise\n",
    "\n",
    "    def __call__(self, f: Callable[..., T]) -> Callable[..., T]:\n",
    "        def wrapper(*args, **kwargs):\n",
    "            return self.execute(f, *args, **kwargs)\n",
    "        return wrapper\n",
    "\n",
    "    def __enter__(self):\n",
    "        self.wait()\n",
    "        return self\n",
    "\n",
    "    def __exit__(self, *args):\n",
    "        self.record()"
   ]
  },
  {
   "cell_type": "code",
   "execution_count": 14,
   "id": "76a92fde",
   "metadata": {
    "execution": {
     "iopub.execute_input": "2025-07-13T16:30:26.678828Z",
     "iopub.status.busy": "2025-07-13T16:30:26.678730Z",
     "iopub.status.idle": "2025-07-13T16:30:28.483131Z",
     "shell.execute_reply": "2025-07-13T16:30:28.482771Z"
    },
    "papermill": {
     "duration": 1.807947,
     "end_time": "2025-07-13T16:30:28.484688",
     "exception": false,
     "start_time": "2025-07-13T16:30:26.676741",
     "status": "completed"
    },
    "tags": []
   },
   "outputs": [],
   "source": [
    "from google import genai\n",
    "\n",
    "class GeminiAPICaller(LLMCaller):\n",
    "    def __init__(self, api_key:str, api_model:str, api_rpm:int):\n",
    "        self.client = genai.Client(api_key=api_key)\n",
    "        self.api_model = api_model\n",
    "        self.rate_limiter = GeminiRateLimiter(requests_per_minute=api_rpm)\n",
    "\n",
    "    def structed_output(self, prompt:str, output_struct):\n",
    "        with self.rate_limiter:\n",
    "            response = self.client.models.generate_content(\n",
    "                model=self.api_model,\n",
    "                contents=prompt,\n",
    "                config={\n",
    "                    'response_mime_type': 'application/json',\n",
    "                    'response_schema': output_struct,\n",
    "                },\n",
    "            )\n",
    "\n",
    "        res = response.parsed\n",
    "        return res"
   ]
  },
  {
   "cell_type": "code",
   "execution_count": 15,
   "id": "62446957",
   "metadata": {
    "execution": {
     "iopub.execute_input": "2025-07-13T16:30:28.489769Z",
     "iopub.status.busy": "2025-07-13T16:30:28.489636Z",
     "iopub.status.idle": "2025-07-13T16:30:28.530871Z",
     "shell.execute_reply": "2025-07-13T16:30:28.530623Z"
    },
    "papermill": {
     "duration": 0.044566,
     "end_time": "2025-07-13T16:30:28.531631",
     "exception": false,
     "start_time": "2025-07-13T16:30:28.487065",
     "status": "completed"
    },
    "tags": []
   },
   "outputs": [],
   "source": [
    "llm_api_config = data_loader.get_llm_config()\n",
    "\n",
    "llm_caller = GeminiAPICaller(\n",
    "    api_key=llm_api_config['api_key'],\n",
    "    api_model=llm_api_config['model'],\n",
    "    api_rpm=llm_api_config['rate_per_minute']\n",
    ")"
   ]
  },
  {
   "cell_type": "code",
   "execution_count": null,
   "id": "95b64417",
   "metadata": {
    "papermill": {
     "duration": 0.001575,
     "end_time": "2025-07-13T16:30:28.534992",
     "exception": false,
     "start_time": "2025-07-13T16:30:28.533417",
     "status": "completed"
    },
    "tags": []
   },
   "outputs": [],
   "source": []
  },
  {
   "cell_type": "code",
   "execution_count": 16,
   "id": "267f9f4c",
   "metadata": {
    "execution": {
     "iopub.execute_input": "2025-07-13T16:30:28.538688Z",
     "iopub.status.busy": "2025-07-13T16:30:28.538589Z",
     "iopub.status.idle": "2025-07-13T16:30:50.539677Z",
     "shell.execute_reply": "2025-07-13T16:30:50.535083Z"
    },
    "papermill": {
     "duration": 22.009039,
     "end_time": "2025-07-13T16:30:50.545587",
     "exception": false,
     "start_time": "2025-07-13T16:30:28.536548",
     "status": "completed"
    },
    "tags": []
   },
   "outputs": [],
   "source": [
    "import numpy as np\n",
    "import spacy\n",
    "from collections import defaultdict\n",
    "import math\n",
    "from tqdm import tqdm"
   ]
  },
  {
   "cell_type": "code",
   "execution_count": 17,
   "id": "449f9892",
   "metadata": {
    "execution": {
     "iopub.execute_input": "2025-07-13T16:30:50.552664Z",
     "iopub.status.busy": "2025-07-13T16:30:50.552468Z",
     "iopub.status.idle": "2025-07-13T16:30:51.144804Z",
     "shell.execute_reply": "2025-07-13T16:30:51.144507Z"
    },
    "papermill": {
     "duration": 0.595865,
     "end_time": "2025-07-13T16:30:51.145777",
     "exception": false,
     "start_time": "2025-07-13T16:30:50.549912",
     "status": "completed"
    },
    "tags": []
   },
   "outputs": [],
   "source": [
    "nlp = spacy.load(\"en_core_web_sm\")"
   ]
  },
  {
   "cell_type": "code",
   "execution_count": 18,
   "id": "adf21784",
   "metadata": {
    "execution": {
     "iopub.execute_input": "2025-07-13T16:30:51.150337Z",
     "iopub.status.busy": "2025-07-13T16:30:51.150228Z",
     "iopub.status.idle": "2025-07-13T16:30:51.152740Z",
     "shell.execute_reply": "2025-07-13T16:30:51.152520Z"
    },
    "papermill": {
     "duration": 0.005591,
     "end_time": "2025-07-13T16:30:51.153518",
     "exception": false,
     "start_time": "2025-07-13T16:30:51.147927",
     "status": "completed"
    },
    "tags": []
   },
   "outputs": [],
   "source": [
    "def extract_custom_candidates(text, use_pos=True, pos_list=None, use_ner=True, use_chunks=True):\n",
    "    doc = nlp(text)\n",
    "    candidates = []\n",
    "\n",
    "    if use_pos:\n",
    "        if pos_list is None:\n",
    "            pos_list = [\"NOUN\", \"PROPN\", \"ADJ\"]\n",
    "        for token in doc:\n",
    "            if token.pos_ in pos_list and not token.is_stop and token.is_alpha:\n",
    "                candidates.append(token.lemma_.lower())\n",
    "\n",
    "    if use_ner:\n",
    "        for ent in doc.ents:\n",
    "            lemmatized_ent_tokens = [token.lemma_.lower() for token in nlp(ent.text)]\n",
    "            candidates.append(\" \".join(lemmatized_ent_tokens))\n",
    "\n",
    "    if use_chunks:\n",
    "        for chunk in doc.noun_chunks:\n",
    "            lemmatized_chunk_tokens = [token.lemma_.lower() for token in chunk if not token.is_stop and token.is_alpha]\n",
    "            chunk_text = \" \".join(lemmatized_chunk_tokens).strip()\n",
    "            if chunk_text:\n",
    "                candidates.append(chunk_text)\n",
    "\n",
    "    return candidates"
   ]
  },
  {
   "cell_type": "code",
   "execution_count": 19,
   "id": "2c5f1e2c",
   "metadata": {
    "execution": {
     "iopub.execute_input": "2025-07-13T16:30:51.159505Z",
     "iopub.status.busy": "2025-07-13T16:30:51.159388Z",
     "iopub.status.idle": "2025-07-13T16:30:51.163028Z",
     "shell.execute_reply": "2025-07-13T16:30:51.162772Z"
    },
    "papermill": {
     "duration": 0.00654,
     "end_time": "2025-07-13T16:30:51.163686",
     "exception": false,
     "start_time": "2025-07-13T16:30:51.157146",
     "status": "completed"
    },
    "tags": []
   },
   "outputs": [],
   "source": [
    "def extract_keywords_with_df_ilf(df, text_column, label_column, top_n=15,\n",
    "    use_pos=True, pos_list=None, use_ner=True, use_chunks=True, smooth=True,\n",
    "    threshold=0.02\n",
    "):\n",
    "    df = df.copy()\n",
    "    labels = df[label_column].unique()\n",
    "    num_labels = len(labels)\n",
    "\n",
    "    doc_freq_by_label = defaultdict(lambda: defaultdict(int))  # DF\n",
    "    label_counts = defaultdict(int)\n",
    "\n",
    "    for label in labels:\n",
    "        texts = df[df[label_column] == label][text_column].astype(str).tolist()\n",
    "        label_counts[label] = len(texts)\n",
    "\n",
    "        for text in tqdm(texts, total=len(texts), desc=f\"Label: {label}\"):\n",
    "            candidates = extract_custom_candidates(\n",
    "                text, use_pos=use_pos, pos_list=pos_list,\n",
    "                use_ner=use_ner, use_chunks=use_chunks\n",
    "            )\n",
    "            unique_terms = set(candidates)\n",
    "            for term in unique_terms:\n",
    "                doc_freq_by_label[label][term] += 1\n",
    "\n",
    "    all_terms = set(term for label_terms in doc_freq_by_label.values() for term in label_terms)\n",
    "    ilf_scores = defaultdict(float)\n",
    "\n",
    "    # ILF\n",
    "    for term in all_terms:\n",
    "        label_occurrences = sum(\n",
    "            1 for label in labels\n",
    "            if (doc_freq_by_label[label][term] / label_counts[label]) > threshold\n",
    "        )\n",
    "        ilf_scores[term] = np.log(num_labels / label_occurrences) if label_occurrences > 0 else 0\n",
    "\n",
    "    ranked_keywords_per_label = defaultdict(list)\n",
    "\n",
    "    for label in labels:\n",
    "        keyword_scores = {}\n",
    "        for term, df_val in doc_freq_by_label[label].items():\n",
    "            normalized_df = df_val / label_counts[label]\n",
    "            df_score = np.log(1 + normalized_df) if smooth else normalized_df\n",
    "            keyword_scores[term] = df_score * ilf_scores[term]\n",
    "        sorted_keywords = sorted(keyword_scores.items(), key=lambda x: x[1], reverse=True)\n",
    "        ranked_keywords_per_label[label] = [kw for kw, score in sorted_keywords[:top_n]]\n",
    "\n",
    "    return ranked_keywords_per_label"
   ]
  },
  {
   "cell_type": "code",
   "execution_count": 20,
   "id": "4c3a9f28",
   "metadata": {
    "execution": {
     "iopub.execute_input": "2025-07-13T16:30:51.167524Z",
     "iopub.status.busy": "2025-07-13T16:30:51.167436Z",
     "iopub.status.idle": "2025-07-13T16:30:59.350305Z",
     "shell.execute_reply": "2025-07-13T16:30:59.349801Z"
    },
    "papermill": {
     "duration": 8.185808,
     "end_time": "2025-07-13T16:30:59.351269",
     "exception": false,
     "start_time": "2025-07-13T16:30:51.165461",
     "status": "completed"
    },
    "tags": []
   },
   "outputs": [
    {
     "name": "stderr",
     "output_type": "stream",
     "text": [
      "\r",
      "Label: cardiovascular diseases:   0%|                                                                                                                                  | 0/50 [00:00<?, ?it/s]"
     ]
    },
    {
     "name": "stderr",
     "output_type": "stream",
     "text": [
      "\r",
      "Label: cardiovascular diseases:   4%|████▉                                                                                                                     | 2/50 [00:00<00:02, 19.99it/s]"
     ]
    },
    {
     "name": "stderr",
     "output_type": "stream",
     "text": [
      "\r",
      "Label: cardiovascular diseases:  12%|██████████████▋                                                                                                           | 6/50 [00:00<00:01, 30.35it/s]"
     ]
    },
    {
     "name": "stderr",
     "output_type": "stream",
     "text": [
      "\r",
      "Label: cardiovascular diseases:  20%|████████████████████████▏                                                                                                | 10/50 [00:00<00:01, 30.86it/s]"
     ]
    },
    {
     "name": "stderr",
     "output_type": "stream",
     "text": [
      "\r",
      "Label: cardiovascular diseases:  28%|█████████████████████████████████▉                                                                                       | 14/50 [00:00<00:01, 25.32it/s]"
     ]
    },
    {
     "name": "stderr",
     "output_type": "stream",
     "text": [
      "\r",
      "Label: cardiovascular diseases:  36%|███████████████████████████████████████████▌                                                                             | 18/50 [00:00<00:01, 24.82it/s]"
     ]
    },
    {
     "name": "stderr",
     "output_type": "stream",
     "text": [
      "\r",
      "Label: cardiovascular diseases:  42%|██████████████████████████████████████████████████▊                                                                      | 21/50 [00:00<00:01, 24.58it/s]"
     ]
    },
    {
     "name": "stderr",
     "output_type": "stream",
     "text": [
      "\r",
      "Label: cardiovascular diseases:  48%|██████████████████████████████████████████████████████████                                                               | 24/50 [00:00<00:01, 22.98it/s]"
     ]
    },
    {
     "name": "stderr",
     "output_type": "stream",
     "text": [
      "\r",
      "Label: cardiovascular diseases:  56%|███████████████████████████████████████████████████████████████████▊                                                     | 28/50 [00:01<00:00, 26.83it/s]"
     ]
    },
    {
     "name": "stderr",
     "output_type": "stream",
     "text": [
      "\r",
      "Label: cardiovascular diseases:  62%|███████████████████████████████████████████████████████████████████████████                                              | 31/50 [00:01<00:00, 25.22it/s]"
     ]
    },
    {
     "name": "stderr",
     "output_type": "stream",
     "text": [
      "\r",
      "Label: cardiovascular diseases:  70%|████████████████████████████████████████████████████████████████████████████████████▋                                    | 35/50 [00:01<00:00, 28.10it/s]"
     ]
    },
    {
     "name": "stderr",
     "output_type": "stream",
     "text": [
      "\r",
      "Label: cardiovascular diseases:  76%|███████████████████████████████████████████████████████████████████████████████████████████▉                             | 38/50 [00:01<00:00, 24.12it/s]"
     ]
    },
    {
     "name": "stderr",
     "output_type": "stream",
     "text": [
      "\r",
      "Label: cardiovascular diseases:  82%|███████████████████████████████████████████████████████████████████████████████████████████████████▏                     | 41/50 [00:01<00:00, 22.86it/s]"
     ]
    },
    {
     "name": "stderr",
     "output_type": "stream",
     "text": [
      "\r",
      "Label: cardiovascular diseases:  88%|██████████████████████████████████████████████████████████████████████████████████████████████████████████▍              | 44/50 [00:01<00:00, 22.46it/s]"
     ]
    },
    {
     "name": "stderr",
     "output_type": "stream",
     "text": [
      "\r",
      "Label: cardiovascular diseases:  94%|█████████████████████████████████████████████████████████████████████████████████████████████████████████████████▋       | 47/50 [00:01<00:00, 23.07it/s]"
     ]
    },
    {
     "name": "stderr",
     "output_type": "stream",
     "text": [
      "\r",
      "Label: cardiovascular diseases: 100%|█████████████████████████████████████████████████████████████████████████████████████████████████████████████████████████| 50/50 [00:02<00:00, 23.84it/s]"
     ]
    },
    {
     "name": "stderr",
     "output_type": "stream",
     "text": [
      "\r",
      "Label: cardiovascular diseases: 100%|█████████████████████████████████████████████████████████████████████████████████████████████████████████████████████████| 50/50 [00:02<00:00, 24.68it/s]"
     ]
    },
    {
     "name": "stderr",
     "output_type": "stream",
     "text": [
      "\n"
     ]
    },
    {
     "name": "stderr",
     "output_type": "stream",
     "text": [
      "\r",
      "Label: digestive system diseases:   0%|                                                                                                                                | 0/50 [00:00<?, ?it/s]"
     ]
    },
    {
     "name": "stderr",
     "output_type": "stream",
     "text": [
      "\r",
      "Label: digestive system diseases:   6%|███████▏                                                                                                                | 3/50 [00:00<00:01, 28.14it/s]"
     ]
    },
    {
     "name": "stderr",
     "output_type": "stream",
     "text": [
      "\r",
      "Label: digestive system diseases:  14%|████████████████▊                                                                                                       | 7/50 [00:00<00:01, 32.95it/s]"
     ]
    },
    {
     "name": "stderr",
     "output_type": "stream",
     "text": [
      "\r",
      "Label: digestive system diseases:  22%|██████████████████████████▏                                                                                            | 11/50 [00:00<00:01, 30.46it/s]"
     ]
    },
    {
     "name": "stderr",
     "output_type": "stream",
     "text": [
      "\r",
      "Label: digestive system diseases:  30%|███████████████████████████████████▋                                                                                   | 15/50 [00:00<00:01, 29.08it/s]"
     ]
    },
    {
     "name": "stderr",
     "output_type": "stream",
     "text": [
      "\r",
      "Label: digestive system diseases:  40%|███████████████████████████████████████████████▌                                                                       | 20/50 [00:00<00:00, 33.88it/s]"
     ]
    },
    {
     "name": "stderr",
     "output_type": "stream",
     "text": [
      "\r",
      "Label: digestive system diseases:  48%|█████████████████████████████████████████████████████████                                                              | 24/50 [00:00<00:00, 35.58it/s]"
     ]
    },
    {
     "name": "stderr",
     "output_type": "stream",
     "text": [
      "\r",
      "Label: digestive system diseases:  56%|██████████████████████████████████████████████████████████████████▋                                                    | 28/50 [00:00<00:00, 35.11it/s]"
     ]
    },
    {
     "name": "stderr",
     "output_type": "stream",
     "text": [
      "\r",
      "Label: digestive system diseases:  64%|████████████████████████████████████████████████████████████████████████████▏                                          | 32/50 [00:00<00:00, 31.81it/s]"
     ]
    },
    {
     "name": "stderr",
     "output_type": "stream",
     "text": [
      "\r",
      "Label: digestive system diseases:  72%|█████████████████████████████████████████████████████████████████████████████████████▋                                 | 36/50 [00:01<00:00, 30.40it/s]"
     ]
    },
    {
     "name": "stderr",
     "output_type": "stream",
     "text": [
      "\r",
      "Label: digestive system diseases:  80%|███████████████████████████████████████████████████████████████████████████████████████████████▏                       | 40/50 [00:01<00:00, 29.39it/s]"
     ]
    },
    {
     "name": "stderr",
     "output_type": "stream",
     "text": [
      "\r",
      "Label: digestive system diseases:  88%|████████████████████████████████████████████████████████████████████████████████████████████████████████▋              | 44/50 [00:01<00:00, 29.35it/s]"
     ]
    },
    {
     "name": "stderr",
     "output_type": "stream",
     "text": [
      "\r",
      "Label: digestive system diseases:  94%|███████████████████████████████████████████████████████████████████████████████████████████████████████████████▊       | 47/50 [00:01<00:00, 27.41it/s]"
     ]
    },
    {
     "name": "stderr",
     "output_type": "stream",
     "text": [
      "\r",
      "Label: digestive system diseases: 100%|███████████████████████████████████████████████████████████████████████████████████████████████████████████████████████| 50/50 [00:01<00:00, 26.87it/s]"
     ]
    },
    {
     "name": "stderr",
     "output_type": "stream",
     "text": [
      "\r",
      "Label: digestive system diseases: 100%|███████████████████████████████████████████████████████████████████████████████████████████████████████████████████████| 50/50 [00:01<00:00, 29.99it/s]"
     ]
    },
    {
     "name": "stderr",
     "output_type": "stream",
     "text": [
      "\n"
     ]
    },
    {
     "name": "stderr",
     "output_type": "stream",
     "text": [
      "\r",
      "Label: general pathological conditions:   0%|                                                                                                                          | 0/50 [00:00<?, ?it/s]"
     ]
    },
    {
     "name": "stderr",
     "output_type": "stream",
     "text": [
      "\r",
      "Label: general pathological conditions:   6%|██████▊                                                                                                           | 3/50 [00:00<00:01, 28.31it/s]"
     ]
    },
    {
     "name": "stderr",
     "output_type": "stream",
     "text": [
      "\r",
      "Label: general pathological conditions:  14%|███████████████▉                                                                                                  | 7/50 [00:00<00:01, 29.65it/s]"
     ]
    },
    {
     "name": "stderr",
     "output_type": "stream",
     "text": [
      "\r",
      "Label: general pathological conditions:  22%|████████████████████████▊                                                                                        | 11/50 [00:00<00:01, 33.51it/s]"
     ]
    },
    {
     "name": "stderr",
     "output_type": "stream",
     "text": [
      "\r",
      "Label: general pathological conditions:  30%|█████████████████████████████████▉                                                                               | 15/50 [00:00<00:00, 35.27it/s]"
     ]
    },
    {
     "name": "stderr",
     "output_type": "stream",
     "text": [
      "\r",
      "Label: general pathological conditions:  40%|█████████████████████████████████████████████▏                                                                   | 20/50 [00:00<00:00, 36.03it/s]"
     ]
    },
    {
     "name": "stderr",
     "output_type": "stream",
     "text": [
      "\r",
      "Label: general pathological conditions:  48%|██████████████████████████████████████████████████████▏                                                          | 24/50 [00:00<00:00, 31.35it/s]"
     ]
    },
    {
     "name": "stderr",
     "output_type": "stream",
     "text": [
      "\r",
      "Label: general pathological conditions:  56%|███████████████████████████████████████████████████████████████▎                                                 | 28/50 [00:00<00:00, 31.92it/s]"
     ]
    },
    {
     "name": "stderr",
     "output_type": "stream",
     "text": [
      "\r",
      "Label: general pathological conditions:  70%|███████████████████████████████████████████████████████████████████████████████                                  | 35/50 [00:00<00:00, 41.63it/s]"
     ]
    },
    {
     "name": "stderr",
     "output_type": "stream",
     "text": [
      "\r",
      "Label: general pathological conditions:  80%|██████████████████████████████████████████████████████████████████████████████████████████▍                      | 40/50 [00:01<00:00, 37.19it/s]"
     ]
    },
    {
     "name": "stderr",
     "output_type": "stream",
     "text": [
      "\r",
      "Label: general pathological conditions:  88%|███████████████████████████████████████████████████████████████████████████████████████████████████▍             | 44/50 [00:01<00:00, 32.22it/s]"
     ]
    },
    {
     "name": "stderr",
     "output_type": "stream",
     "text": [
      "\r",
      "Label: general pathological conditions:  96%|████████████████████████████████████████████████████████████████████████████████████████████████████████████▍    | 48/50 [00:01<00:00, 31.11it/s]"
     ]
    },
    {
     "name": "stderr",
     "output_type": "stream",
     "text": [
      "\r",
      "Label: general pathological conditions: 100%|█████████████████████████████████████████████████████████████████████████████████████████████████████████████████| 50/50 [00:01<00:00, 33.59it/s]"
     ]
    },
    {
     "name": "stderr",
     "output_type": "stream",
     "text": [
      "\n"
     ]
    },
    {
     "name": "stderr",
     "output_type": "stream",
     "text": [
      "\r",
      "Label: neoplasms:   0%|                                                                                                                                                | 0/50 [00:00<?, ?it/s]"
     ]
    },
    {
     "name": "stderr",
     "output_type": "stream",
     "text": [
      "\r",
      "Label: neoplasms:   6%|████████▏                                                                                                                               | 3/50 [00:00<00:01, 29.71it/s]"
     ]
    },
    {
     "name": "stderr",
     "output_type": "stream",
     "text": [
      "\r",
      "Label: neoplasms:  14%|███████████████████                                                                                                                     | 7/50 [00:00<00:01, 32.85it/s]"
     ]
    },
    {
     "name": "stderr",
     "output_type": "stream",
     "text": [
      "\r",
      "Label: neoplasms:  22%|█████████████████████████████▋                                                                                                         | 11/50 [00:00<00:01, 28.38it/s]"
     ]
    },
    {
     "name": "stderr",
     "output_type": "stream",
     "text": [
      "\r",
      "Label: neoplasms:  28%|█████████████████████████████████████▊                                                                                                 | 14/50 [00:00<00:01, 28.46it/s]"
     ]
    },
    {
     "name": "stderr",
     "output_type": "stream",
     "text": [
      "\r",
      "Label: neoplasms:  36%|████████████████████████████████████████████████▌                                                                                      | 18/50 [00:00<00:01, 31.87it/s]"
     ]
    },
    {
     "name": "stderr",
     "output_type": "stream",
     "text": [
      "\r",
      "Label: neoplasms:  46%|██████████████████████████████████████████████████████████████                                                                         | 23/50 [00:00<00:00, 36.09it/s]"
     ]
    },
    {
     "name": "stderr",
     "output_type": "stream",
     "text": [
      "\r",
      "Label: neoplasms:  54%|████████████████████████████████████████████████████████████████████████▉                                                              | 27/50 [00:00<00:00, 33.67it/s]"
     ]
    },
    {
     "name": "stderr",
     "output_type": "stream",
     "text": [
      "\r",
      "Label: neoplasms:  62%|███████████████████████████████████████████████████████████████████████████████████▋                                                   | 31/50 [00:00<00:00, 33.61it/s]"
     ]
    },
    {
     "name": "stderr",
     "output_type": "stream",
     "text": [
      "\r",
      "Label: neoplasms:  70%|██████████████████████████████████████████████████████████████████████████████████████████████▌                                        | 35/50 [00:01<00:00, 32.66it/s]"
     ]
    },
    {
     "name": "stderr",
     "output_type": "stream",
     "text": [
      "\r",
      "Label: neoplasms:  78%|█████████████████████████████████████████████████████████████████████████████████████████████████████████▎                             | 39/50 [00:01<00:00, 31.59it/s]"
     ]
    },
    {
     "name": "stderr",
     "output_type": "stream",
     "text": [
      "\r",
      "Label: neoplasms:  86%|████████████████████████████████████████████████████████████████████████████████████████████████████████████████████                   | 43/50 [00:01<00:00, 31.61it/s]"
     ]
    },
    {
     "name": "stderr",
     "output_type": "stream",
     "text": [
      "\r",
      "Label: neoplasms:  94%|██████████████████████████████████████████████████████████████████████████████████████████████████████████████████████████████▉        | 47/50 [00:01<00:00, 31.31it/s]"
     ]
    },
    {
     "name": "stderr",
     "output_type": "stream",
     "text": [
      "\r",
      "Label: neoplasms: 100%|███████████████████████████████████████████████████████████████████████████████████████████████████████████████████████████████████████| 50/50 [00:01<00:00, 32.48it/s]"
     ]
    },
    {
     "name": "stderr",
     "output_type": "stream",
     "text": [
      "\n"
     ]
    },
    {
     "name": "stderr",
     "output_type": "stream",
     "text": [
      "\r",
      "Label: nervous system diseases:   0%|                                                                                                                                  | 0/50 [00:00<?, ?it/s]"
     ]
    },
    {
     "name": "stderr",
     "output_type": "stream",
     "text": [
      "\r",
      "Label: nervous system diseases:   8%|█████████▊                                                                                                                | 4/50 [00:00<00:01, 35.94it/s]"
     ]
    },
    {
     "name": "stderr",
     "output_type": "stream",
     "text": [
      "\r",
      "Label: nervous system diseases:  18%|█████████████████████▉                                                                                                    | 9/50 [00:00<00:01, 39.76it/s]"
     ]
    },
    {
     "name": "stderr",
     "output_type": "stream",
     "text": [
      "\r",
      "Label: nervous system diseases:  26%|███████████████████████████████▍                                                                                         | 13/50 [00:00<00:00, 38.00it/s]"
     ]
    },
    {
     "name": "stderr",
     "output_type": "stream",
     "text": [
      "\r",
      "Label: nervous system diseases:  38%|█████████████████████████████████████████████▉                                                                           | 19/50 [00:00<00:00, 43.79it/s]"
     ]
    },
    {
     "name": "stderr",
     "output_type": "stream",
     "text": [
      "\r",
      "Label: nervous system diseases:  48%|██████████████████████████████████████████████████████████                                                               | 24/50 [00:00<00:00, 36.49it/s]"
     ]
    },
    {
     "name": "stderr",
     "output_type": "stream",
     "text": [
      "\r",
      "Label: nervous system diseases:  56%|███████████████████████████████████████████████████████████████████▊                                                     | 28/50 [00:00<00:00, 34.95it/s]"
     ]
    },
    {
     "name": "stderr",
     "output_type": "stream",
     "text": [
      "\r",
      "Label: nervous system diseases:  64%|█████████████████████████████████████████████████████████████████████████████▍                                           | 32/50 [00:00<00:00, 35.16it/s]"
     ]
    },
    {
     "name": "stderr",
     "output_type": "stream",
     "text": [
      "\r",
      "Label: nervous system diseases:  72%|███████████████████████████████████████████████████████████████████████████████████████                                  | 36/50 [00:01<00:00, 32.83it/s]"
     ]
    },
    {
     "name": "stderr",
     "output_type": "stream",
     "text": [
      "\r",
      "Label: nervous system diseases:  84%|█████████████████████████████████████████████████████████████████████████████████████████████████████▋                   | 42/50 [00:01<00:00, 35.85it/s]"
     ]
    },
    {
     "name": "stderr",
     "output_type": "stream",
     "text": [
      "\r",
      "Label: nervous system diseases:  96%|████████████████████████████████████████████████████████████████████████████████████████████████████████████████████▏    | 48/50 [00:01<00:00, 37.30it/s]"
     ]
    },
    {
     "name": "stderr",
     "output_type": "stream",
     "text": [
      "\r",
      "Label: nervous system diseases: 100%|█████████████████████████████████████████████████████████████████████████████████████████████████████████████████████████| 50/50 [00:01<00:00, 35.97it/s]"
     ]
    },
    {
     "name": "stderr",
     "output_type": "stream",
     "text": [
      "\n"
     ]
    }
   ],
   "source": [
    "keywords = extract_keywords_with_df_ilf(\n",
    "    df=train_df,\n",
    "    text_column=text_column,\n",
    "    label_column=label_column,\n",
    "    top_n=10,\n",
    "    use_pos=True,\n",
    "    pos_list=[\"NOUN\", \"PROPN\", \"ADJ\"],\n",
    "    use_ner=False,\n",
    "    use_chunks=True,\n",
    "    threshold=0.02\n",
    ")"
   ]
  },
  {
   "cell_type": "code",
   "execution_count": 21,
   "id": "56df06da",
   "metadata": {
    "execution": {
     "iopub.execute_input": "2025-07-13T16:30:59.359528Z",
     "iopub.status.busy": "2025-07-13T16:30:59.359358Z",
     "iopub.status.idle": "2025-07-13T16:30:59.361702Z",
     "shell.execute_reply": "2025-07-13T16:30:59.361428Z"
    },
    "papermill": {
     "duration": 0.007261,
     "end_time": "2025-07-13T16:30:59.362630",
     "exception": false,
     "start_time": "2025-07-13T16:30:59.355369",
     "status": "completed"
    },
    "tags": []
   },
   "outputs": [
    {
     "name": "stdout",
     "output_type": "stream",
     "text": [
      "{'cardiovascular diseases': ['myocardial', 'coronary', 'left', 'heart', 'hypertension', 'ventricular', 'infarction', 'diastolic', 'ischemia', 'min'], 'digestive system diseases': ['obstruction', 'bowel', 'biliary', 'endoscopic', 'stone', 'meal', 'bile', 'pancreatitis', 'ulcer', 'absorption'], 'general pathological conditions': ['hip', 'deficiency', 'mouse', 'eye', 'survey', 'bone', 'disorder', 'oncogene', 'nature', 'necrosis'], 'neoplasms': ['lymph', 'node', 'tumor', 'carcinoma', 'breast', 'metastasis', 'adenocarcinoma', 'chemotherapy', 'classification', 'malignant'], 'nervous system diseases': ['spinal', 'deficit', 'mental', 'neurologic', 'impairment', 'cognitive', 'epilepsy', 'way', 'cord', 'seizure']}\n"
     ]
    }
   ],
   "source": [
    "keywords = dict(keywords)\n",
    "print(keywords)"
   ]
  },
  {
   "cell_type": "code",
   "execution_count": null,
   "id": "9d0b3187",
   "metadata": {
    "papermill": {
     "duration": 0.003611,
     "end_time": "2025-07-13T16:30:59.369555",
     "exception": false,
     "start_time": "2025-07-13T16:30:59.365944",
     "status": "completed"
    },
    "tags": []
   },
   "outputs": [],
   "source": []
  },
  {
   "cell_type": "code",
   "execution_count": 22,
   "id": "c1bcc53f",
   "metadata": {
    "execution": {
     "iopub.execute_input": "2025-07-13T16:30:59.376773Z",
     "iopub.status.busy": "2025-07-13T16:30:59.376623Z",
     "iopub.status.idle": "2025-07-13T16:30:59.381006Z",
     "shell.execute_reply": "2025-07-13T16:30:59.380762Z"
    },
    "papermill": {
     "duration": 0.009,
     "end_time": "2025-07-13T16:30:59.381652",
     "exception": false,
     "start_time": "2025-07-13T16:30:59.372652",
     "status": "completed"
    },
    "tags": []
   },
   "outputs": [],
   "source": [
    "def llm_filter_keyword_concepts(keyword_concepts, data_topic, n_concepts=5):\n",
    "    \"\"\"\n",
    "    Filter keyword concepts for each label with additional context of keywords from other labels.\n",
    "    \n",
    "    Args:\n",
    "        keyword_concepts (dict): Mapping from label name to a list of raw keywords.\n",
    "        data_topic (str): The domain context (e.g., 'biomedical research abstracts').\n",
    "        n_concepts (int): Number of keywords to keep per label.\n",
    "\n",
    "    Returns:\n",
    "        dict: Mapping from label name to list of filtered keywords.\n",
    "    \"\"\"\n",
    "    filtered_keywords_by_label = {}\n",
    "    all_labels = list(keyword_concepts.keys())\n",
    "\n",
    "    for target_label in all_labels:\n",
    "        target_keywords = keyword_concepts[target_label]\n",
    "        keyword_list = \", \".join(target_keywords)\n",
    "\n",
    "        # Add reference keywords from other labels\n",
    "        competing_info = \"\"\n",
    "        for other_label in all_labels:\n",
    "            if other_label == target_label:\n",
    "                continue\n",
    "            other_keywords = keyword_concepts[other_label]\n",
    "            other_kw_str = \", \".join(other_keywords)\n",
    "            competing_info += f'- {other_label}: {other_kw_str}\\n'\n",
    "\n",
    "        # Construct prompt\n",
    "        prompt = f\"\"\"\n",
    "You are a domain expert working on the topic: \"{data_topic}\".\n",
    "\n",
    "Your task is to select the top {n_concepts} most meaningful and representative terms for the category \"{target_label}\".\n",
    "\n",
    "---\n",
    "\n",
    "### CATEGORY:\n",
    "\"{target_label}\"\n",
    "\n",
    "### RAW EXTRACTED KEYWORDS:\n",
    "{keyword_list}\n",
    "\n",
    "---\n",
    "\n",
    "### REFERENCE KEYWORDS FROM OTHER CATEGORIES:\n",
    "(These are keywords from competing labels. Use them to ensure your selections are distinctive.)\n",
    "\n",
    "{competing_info}\n",
    "\n",
    "---\n",
    "\n",
    "### INSTRUCTIONS:\n",
    "- Select exactly {n_concepts} keywords from the provided list under RAW EXTRACTED KEYWORDS.\n",
    "- Chosen terms should:\n",
    "  - Be highly relevant and representative of the target category\n",
    "  - Clearly distinguish the target category from others\n",
    "  - Be specific, unambiguous, and non-generic\n",
    "\n",
    "Avoid:\n",
    "- Generic terms (e.g., \"thing\", \"aspect\", \"problem\")\n",
    "- Redundant or overlapping words\n",
    "- Keywords similar to those in other categories\n",
    "\n",
    "Return your answer as a JSON object in the format:\n",
    "{{ \"{target_label}\": [\"keyword1\", \"keyword2\", ...] }}\n",
    "\"\"\".strip()\n",
    "\n",
    "        output_struct = {\n",
    "            \"type\": \"object\",\n",
    "            \"properties\": {\n",
    "                target_label: {\n",
    "                    \"type\": \"array\",\n",
    "                    \"items\": {\n",
    "                        \"type\": \"string\"\n",
    "                    }\n",
    "                }\n",
    "            },\n",
    "            \"required\": [target_label]\n",
    "        }\n",
    "\n",
    "        result = llm_caller.structed_output(prompt=prompt, output_struct=output_struct)\n",
    "        filtered_keywords_by_label[target_label] = result.get(target_label, [])\n",
    "\n",
    "    return filtered_keywords_by_label"
   ]
  },
  {
   "cell_type": "code",
   "execution_count": 23,
   "id": "4ce0d70e",
   "metadata": {
    "execution": {
     "iopub.execute_input": "2025-07-13T16:30:59.388228Z",
     "iopub.status.busy": "2025-07-13T16:30:59.388122Z",
     "iopub.status.idle": "2025-07-13T16:31:03.633130Z",
     "shell.execute_reply": "2025-07-13T16:31:03.631675Z"
    },
    "papermill": {
     "duration": 4.251237,
     "end_time": "2025-07-13T16:31:03.636000",
     "exception": false,
     "start_time": "2025-07-13T16:30:59.384763",
     "status": "completed"
    },
    "tags": []
   },
   "outputs": [],
   "source": [
    "keyword_concepts = llm_filter_keyword_concepts(keywords, data_desc['data_topic'], n_concepts=5)"
   ]
  },
  {
   "cell_type": "code",
   "execution_count": 24,
   "id": "8f0f75cc",
   "metadata": {
    "execution": {
     "iopub.execute_input": "2025-07-13T16:31:03.653221Z",
     "iopub.status.busy": "2025-07-13T16:31:03.652777Z",
     "iopub.status.idle": "2025-07-13T16:31:03.656814Z",
     "shell.execute_reply": "2025-07-13T16:31:03.656420Z"
    },
    "papermill": {
     "duration": 0.015807,
     "end_time": "2025-07-13T16:31:03.661387",
     "exception": false,
     "start_time": "2025-07-13T16:31:03.645580",
     "status": "completed"
    },
    "tags": []
   },
   "outputs": [
    {
     "data": {
      "text/plain": [
       "{'cardiovascular diseases': ['hypertension',\n",
       "  'myocardial',\n",
       "  'infarction',\n",
       "  'ischemia',\n",
       "  'coronary'],\n",
       " 'digestive system diseases': ['pancreatitis',\n",
       "  'ulcer',\n",
       "  'obstruction',\n",
       "  'biliary',\n",
       "  'bowel'],\n",
       " 'general pathological conditions': ['deficiency',\n",
       "  'disorder',\n",
       "  'necrosis',\n",
       "  'oncogene',\n",
       "  'bone'],\n",
       " 'neoplasms': ['tumor',\n",
       "  'carcinoma',\n",
       "  'adenocarcinoma',\n",
       "  'malignant',\n",
       "  'metastasis'],\n",
       " 'nervous system diseases': ['neurologic',\n",
       "  'epilepsy',\n",
       "  'seizure',\n",
       "  'spinal',\n",
       "  'cord']}"
      ]
     },
     "execution_count": 24,
     "metadata": {},
     "output_type": "execute_result"
    }
   ],
   "source": [
    "keyword_concepts"
   ]
  },
  {
   "cell_type": "code",
   "execution_count": 25,
   "id": "9e68bb54",
   "metadata": {
    "execution": {
     "iopub.execute_input": "2025-07-13T16:31:03.671318Z",
     "iopub.status.busy": "2025-07-13T16:31:03.671139Z",
     "iopub.status.idle": "2025-07-13T16:31:03.674911Z",
     "shell.execute_reply": "2025-07-13T16:31:03.674648Z"
    },
    "papermill": {
     "duration": 0.009553,
     "end_time": "2025-07-13T16:31:03.675673",
     "exception": false,
     "start_time": "2025-07-13T16:31:03.666120",
     "status": "completed"
    },
    "tags": []
   },
   "outputs": [],
   "source": [
    "def abstract_concept_prompt(\n",
    "    data_topic,\n",
    "    text_column, label_column,\n",
    "    text_description, label_description,\n",
    "    label_concepts,\n",
    "    keyword_concepts, \n",
    "    min_abstract_concepts_per_label=3, max_abstract_concepts_per_label=4\n",
    "):\n",
    " \n",
    "\n",
    "    label_concepts = [str(l) for l in label_concepts]\n",
    "    label_concepts_str = \"\\n- \" + \"\\n- \".join(label_concepts)\n",
    "\n",
    "    keyword_list_str = \"\"\n",
    "    for label, keywords in keyword_concepts.items():\n",
    "        for kw in keywords:\n",
    "            keyword_list_str += f\"- Keyword: \\\"{kw}\\\", Label: \\\"{label}\\\"\\n\"\n",
    "\n",
    "    constraint_instruction = f\"- For each label, you must group the keywords into at least {min_abstract_concepts_per_label}\"\n",
    "    if max_abstract_concepts_per_label is not None:\n",
    "        constraint_instruction += f\" and at most {max_abstract_concepts_per_label}\"\n",
    "    constraint_instruction += \" distinct and meaningful abstract concepts.\"\n",
    "\n",
    "    prompt = f\"\"\"\n",
    "Data context:\n",
    "\n",
    "- Data topic: {data_topic}\n",
    "- Text column description: {text_description}\n",
    "- Label column description: {label_description}\n",
    "\n",
    "Input:\n",
    "\n",
    "- List of label concepts in the dataset: {label_concepts_str}\n",
    "\n",
    "- List of extracted keyword concepts, each associated with a label:\n",
    "{keyword_list_str}\n",
    "\n",
    "Important instructions:\n",
    "\n",
    "- A keyword can belong to multiple abstract concepts if semantically appropriate.\n",
    "- Likewise, an abstract concept can contain multiple keywords.\n",
    "- The abstract concepts must act as meaningful intermediate concepts between keywords and labels.\n",
    "- Abstract concepts must be:\n",
    "  - More specific than the label concept.\n",
    "  - More general and meaningful than individual keywords.\n",
    "  - They should never simply repeat or copy the label names.\n",
    "\n",
    "{constraint_instruction}\n",
    "\n",
    "Your task:\n",
    "\n",
    "- Group the keywords into abstract, higher-level concepts (abstract concepts).\n",
    "- Each abstract concept must:\n",
    "  - Include a list of related keywords (allowing keyword overlap across groups if appropriate).\n",
    "  - Have a clear, concise, and meaningful name relevant to the {data_topic} domain.\n",
    "  - Be clearly mapped to one of the provided label concepts.\n",
    "\n",
    "Expected output:\n",
    "\n",
    "- A valid JSON array where each item represents one abstract concept.\n",
    "- Each item contains:\n",
    "  - \"abstract_concept_name\": Name of the abstract concept (cannot be identical to the label).\n",
    "  - \"description\": Optional short description (1-2 sentences) explaining the abstract concept.\n",
    "  - \"keywords\": List of related keywords (strings).\n",
    "  - \"label\": The corresponding label concept from the provided list.\n",
    "\n",
    "Note: Only return valid JSON. Do not add explanations, comments, or extra text.\n",
    "\"\"\".strip()\n",
    "\n",
    "    return prompt"
   ]
  },
  {
   "cell_type": "code",
   "execution_count": 26,
   "id": "0a85d414",
   "metadata": {
    "execution": {
     "iopub.execute_input": "2025-07-13T16:31:03.684012Z",
     "iopub.status.busy": "2025-07-13T16:31:03.683912Z",
     "iopub.status.idle": "2025-07-13T16:31:03.685754Z",
     "shell.execute_reply": "2025-07-13T16:31:03.685546Z"
    },
    "papermill": {
     "duration": 0.006606,
     "end_time": "2025-07-13T16:31:03.686441",
     "exception": false,
     "start_time": "2025-07-13T16:31:03.679835",
     "status": "completed"
    },
    "tags": []
   },
   "outputs": [],
   "source": [
    "abstract_prompt = abstract_concept_prompt(\n",
    "    data_topic=data_desc['data_topic'],\n",
    "    text_column=data_desc['text_column'],\n",
    "    label_column=data_desc['label_column'],\n",
    "    text_description=data_desc['text_description'],\n",
    "    label_description=data_desc['label_description'],\n",
    "    label_concepts=labels,\n",
    "    keyword_concepts=keyword_concepts\n",
    ")"
   ]
  },
  {
   "cell_type": "code",
   "execution_count": 27,
   "id": "c86ff6e1",
   "metadata": {
    "execution": {
     "iopub.execute_input": "2025-07-13T16:31:03.694507Z",
     "iopub.status.busy": "2025-07-13T16:31:03.694398Z",
     "iopub.status.idle": "2025-07-13T16:31:03.696317Z",
     "shell.execute_reply": "2025-07-13T16:31:03.696092Z"
    },
    "papermill": {
     "duration": 0.006704,
     "end_time": "2025-07-13T16:31:03.696966",
     "exception": false,
     "start_time": "2025-07-13T16:31:03.690262",
     "status": "completed"
    },
    "tags": []
   },
   "outputs": [],
   "source": [
    "output_struct = {\n",
    "    \"type\": \"array\",\n",
    "    \"items\": {\n",
    "        \"type\": \"object\",\n",
    "        \"properties\": {\n",
    "            \"abstract_concept_name\": {\"type\": \"string\"},\n",
    "            \"description\": {\"type\": \"string\"},\n",
    "            \"keywords\": {\n",
    "                \"type\": \"array\",\n",
    "                \"items\": {\"type\": \"string\"}\n",
    "            },\n",
    "            \"label\": {\"type\": \"string\"}\n",
    "        },\n",
    "        \"required\": [\"abstract_concept_name\", \"keywords\", \"label\"]\n",
    "    }\n",
    "}"
   ]
  },
  {
   "cell_type": "code",
   "execution_count": 28,
   "id": "88a12aba",
   "metadata": {
    "execution": {
     "iopub.execute_input": "2025-07-13T16:31:03.704305Z",
     "iopub.status.busy": "2025-07-13T16:31:03.704211Z",
     "iopub.status.idle": "2025-07-13T16:31:06.433258Z",
     "shell.execute_reply": "2025-07-13T16:31:06.432599Z"
    },
    "papermill": {
     "duration": 2.734244,
     "end_time": "2025-07-13T16:31:06.434774",
     "exception": false,
     "start_time": "2025-07-13T16:31:03.700530",
     "status": "completed"
    },
    "tags": []
   },
   "outputs": [
    {
     "data": {
      "text/plain": [
       "[{'abstract_concept_name': 'Cardiovascular Conditions',\n",
       "  'description': 'Diseases affecting the heart and blood vessels.',\n",
       "  'keywords': ['hypertension',\n",
       "   'myocardial',\n",
       "   'infarction',\n",
       "   'ischemia',\n",
       "   'coronary'],\n",
       "  'label': 'cardiovascular diseases'},\n",
       " {'abstract_concept_name': 'Gastrointestinal Tract Disorders',\n",
       "  'description': 'Diseases affecting the digestive system, including the stomach, intestines, and associated organs.',\n",
       "  'keywords': ['pancreatitis', 'ulcer', 'obstruction', 'biliary', 'bowel'],\n",
       "  'label': 'digestive system diseases'},\n",
       " {'abstract_concept_name': 'General Pathological States',\n",
       "  'description': 'Broad categories of abnormal conditions affecting the body.',\n",
       "  'keywords': ['deficiency', 'disorder', 'necrosis', 'oncogene', 'bone'],\n",
       "  'label': 'general pathological conditions'},\n",
       " {'abstract_concept_name': 'Neoplastic Growths',\n",
       "  'description': 'Abnormal and uncontrolled cell growth, including tumors and cancers.',\n",
       "  'keywords': ['tumor',\n",
       "   'carcinoma',\n",
       "   'adenocarcinoma',\n",
       "   'malignant',\n",
       "   'metastasis'],\n",
       "  'label': 'neoplasms'},\n",
       " {'abstract_concept_name': 'Neurological Impairments',\n",
       "  'description': 'Conditions affecting the brain, spinal cord, and nerves.',\n",
       "  'keywords': ['neurologic', 'epilepsy', 'seizure', 'spinal', 'cord'],\n",
       "  'label': 'nervous system diseases'},\n",
       " {'abstract_concept_name': 'Ischemic Events',\n",
       "  'description': 'Conditions caused by insufficient blood flow to tissues.',\n",
       "  'keywords': ['ischemia', 'necrosis', 'infarction'],\n",
       "  'label': 'cardiovascular diseases'},\n",
       " {'abstract_concept_name': 'Cellular Abnormalities',\n",
       "  'description': 'States of cellular dysfunction or malignancy.',\n",
       "  'keywords': ['necrosis', 'oncogene', 'tumor', 'carcinoma', 'malignant'],\n",
       "  'label': 'general pathological conditions'},\n",
       " {'abstract_concept_name': 'Malignant Neoplasms',\n",
       "  'description': 'Cancers characterized by uncontrolled cell growth and potential for invasion and metastasis.',\n",
       "  'keywords': ['carcinoma', 'adenocarcinoma', 'malignant', 'metastasis'],\n",
       "  'label': 'neoplasms'},\n",
       " {'abstract_concept_name': 'Central Nervous System Disorders',\n",
       "  'description': 'Diseases affecting the brain and spinal cord.',\n",
       "  'keywords': ['neurologic', 'epilepsy', 'seizure', 'spinal', 'cord'],\n",
       "  'label': 'nervous system diseases'},\n",
       " {'abstract_concept_name': 'Vascular Conditions',\n",
       "  'description': 'Diseases primarily affecting the blood vessels.',\n",
       "  'keywords': ['hypertension', 'ischemia', 'coronary'],\n",
       "  'label': 'cardiovascular diseases'},\n",
       " {'abstract_concept_name': 'Digestive System Issues',\n",
       "  'description': 'Problems related to the organs of digestion.',\n",
       "  'keywords': ['pancreatitis', 'ulcer', 'obstruction', 'biliary', 'bowel'],\n",
       "  'label': 'digestive system diseases'},\n",
       " {'abstract_concept_name': 'Generalized Pathologies',\n",
       "  'description': 'Non-specific abnormal conditions.',\n",
       "  'keywords': ['deficiency', 'disorder', 'necrosis', 'bone'],\n",
       "  'label': 'general pathological conditions'},\n",
       " {'abstract_concept_name': 'Oncological Conditions',\n",
       "  'description': 'Diseases related to cancer and tumor formation.',\n",
       "  'keywords': ['oncogene',\n",
       "   'tumor',\n",
       "   'carcinoma',\n",
       "   'adenocarcinoma',\n",
       "   'malignant',\n",
       "   'metastasis'],\n",
       "  'label': 'neoplasms'},\n",
       " {'abstract_concept_name': 'Neurological System Diseases',\n",
       "  'description': 'Disorders impacting the nervous system.',\n",
       "  'keywords': ['neurologic', 'epilepsy', 'seizure', 'spinal', 'cord'],\n",
       "  'label': 'nervous system diseases'}]"
      ]
     },
     "execution_count": 28,
     "metadata": {},
     "output_type": "execute_result"
    }
   ],
   "source": [
    "abstract_concepts = llm_caller.structed_output(\n",
    "    prompt=abstract_prompt,\n",
    "    output_struct=output_struct\n",
    ")\n",
    "\n",
    "abstract_concepts"
   ]
  },
  {
   "cell_type": "code",
   "execution_count": 29,
   "id": "7dc57549",
   "metadata": {
    "execution": {
     "iopub.execute_input": "2025-07-13T16:31:06.452590Z",
     "iopub.status.busy": "2025-07-13T16:31:06.452285Z",
     "iopub.status.idle": "2025-07-13T16:31:06.456070Z",
     "shell.execute_reply": "2025-07-13T16:31:06.455712Z"
    },
    "papermill": {
     "duration": 0.012876,
     "end_time": "2025-07-13T16:31:06.457017",
     "exception": false,
     "start_time": "2025-07-13T16:31:06.444141",
     "status": "completed"
    },
    "tags": []
   },
   "outputs": [],
   "source": [
    "from utils.data_io import join_path, save_json"
   ]
  },
  {
   "cell_type": "code",
   "execution_count": 30,
   "id": "185f0463",
   "metadata": {
    "execution": {
     "iopub.execute_input": "2025-07-13T16:31:06.467918Z",
     "iopub.status.busy": "2025-07-13T16:31:06.467772Z",
     "iopub.status.idle": "2025-07-13T16:31:06.470109Z",
     "shell.execute_reply": "2025-07-13T16:31:06.469822Z"
    },
    "papermill": {
     "duration": 0.008446,
     "end_time": "2025-07-13T16:31:06.470896",
     "exception": false,
     "start_time": "2025-07-13T16:31:06.462450",
     "status": "completed"
    },
    "tags": []
   },
   "outputs": [],
   "source": [
    "save_json(obj=keyword_concepts, dir=join_path(dataset, 'concepts'), file_name='keyword_concepts.json')"
   ]
  },
  {
   "cell_type": "code",
   "execution_count": 31,
   "id": "d125c39f",
   "metadata": {
    "execution": {
     "iopub.execute_input": "2025-07-13T16:31:06.480481Z",
     "iopub.status.busy": "2025-07-13T16:31:06.480360Z",
     "iopub.status.idle": "2025-07-13T16:31:06.482671Z",
     "shell.execute_reply": "2025-07-13T16:31:06.482370Z"
    },
    "papermill": {
     "duration": 0.007822,
     "end_time": "2025-07-13T16:31:06.483432",
     "exception": false,
     "start_time": "2025-07-13T16:31:06.475610",
     "status": "completed"
    },
    "tags": []
   },
   "outputs": [],
   "source": [
    "save_json(obj=abstract_concepts, dir=join_path(dataset, 'concepts'), file_name='abstract_concepts.json')"
   ]
  },
  {
   "cell_type": "code",
   "execution_count": null,
   "id": "306f80d8",
   "metadata": {
    "papermill": {
     "duration": 0.004024,
     "end_time": "2025-07-13T16:31:06.491812",
     "exception": false,
     "start_time": "2025-07-13T16:31:06.487788",
     "status": "completed"
    },
    "tags": []
   },
   "outputs": [],
   "source": []
  }
 ],
 "metadata": {
  "kernelspec": {
   "display_name": "venv",
   "language": "python",
   "name": "python3"
  },
  "language_info": {
   "codemirror_mode": {
    "name": "ipython",
    "version": 3
   },
   "file_extension": ".py",
   "mimetype": "text/x-python",
   "name": "python",
   "nbconvert_exporter": "python",
   "pygments_lexer": "ipython3",
   "version": "3.13.2"
  },
  "papermill": {
   "default_parameters": {},
   "duration": 43.85863,
   "end_time": "2025-07-13T16:31:09.113550",
   "environment_variables": {},
   "exception": null,
   "input_path": "concepts_generation.ipynb",
   "output_path": "output/concepts_generation.ipynb",
   "parameters": {
    "test": true
   },
   "start_time": "2025-07-13T16:30:25.254920",
   "version": "2.6.0"
  }
 },
 "nbformat": 4,
 "nbformat_minor": 5
}