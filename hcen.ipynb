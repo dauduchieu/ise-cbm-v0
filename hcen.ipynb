{
 "cells": [
  {
   "cell_type": "code",
   "execution_count": null,
   "id": "cb2a156c",
   "metadata": {},
   "outputs": [],
   "source": [
    "# # Param\n",
    "# test = \"True\""
   ]
  },
  {
   "cell_type": "code",
   "execution_count": 2,
   "id": "9e90e029",
   "metadata": {},
   "outputs": [],
   "source": [
    "is_test = True\n",
    "if test == \"False\" or test == False:\n",
    "    is_test = False"
   ]
  },
  {
   "cell_type": "code",
   "execution_count": 3,
   "id": "b2e60a0d",
   "metadata": {},
   "outputs": [],
   "source": [
    "dataset = \"data\""
   ]
  },
  {
   "cell_type": "code",
   "execution_count": 4,
   "id": "3db3c56d",
   "metadata": {},
   "outputs": [],
   "source": [
    "from utils.data_loader import DataLoader\n",
    "from utils.data_io import join_path"
   ]
  },
  {
   "cell_type": "code",
   "execution_count": 5,
   "id": "08cc2e65",
   "metadata": {},
   "outputs": [],
   "source": [
    "data_loader = DataLoader(dataset)"
   ]
  },
  {
   "cell_type": "code",
   "execution_count": 6,
   "id": "2520ac65",
   "metadata": {},
   "outputs": [],
   "source": [
    "train_df = data_loader.get_data_train()\n",
    "test_df = data_loader.get_data_test()"
   ]
  },
  {
   "cell_type": "code",
   "execution_count": 7,
   "id": "55ffb166",
   "metadata": {},
   "outputs": [],
   "source": [
    "data_desc = data_loader.get_data_desc()\n",
    "\n",
    "label_column = data_desc['label_column']\n",
    "text_column = data_desc['text_column']"
   ]
  },
  {
   "cell_type": "code",
   "execution_count": 8,
   "id": "f76d9830",
   "metadata": {},
   "outputs": [
    {
     "name": "stdout",
     "output_type": "stream",
     "text": [
      "['coronary', 'hypertension', 'systolic', 'diastolic', 'stenosis', 'cirrhosis', 'hepatitis', 'dysphagia', 'peritonitis', 'liver disease', 'infection', 'cardiac', 'vaginal', 'nervous', 'ocular', 'carcinoma', 'malignancy', 'metastasis', 'tumor', 'cancer', 'neurologic', 'spinal', 'brain', 'sclerosis', 'spasticity']\n"
     ]
    }
   ],
   "source": [
    "keyword_concepts = data_loader.get_keyword_concepts()\n",
    "keywords = []\n",
    "for k in keyword_concepts.keys():\n",
    "    keywords += keyword_concepts[k]\n",
    "\n",
    "print(keywords)"
   ]
  },
  {
   "cell_type": "code",
   "execution_count": 9,
   "id": "21a05ade",
   "metadata": {},
   "outputs": [
    {
     "data": {
      "text/plain": [
       "['Cardiac Function Impairment',\n",
       " 'Coronary Artery Disease',\n",
       " 'Liver Pathologies',\n",
       " 'Swallowing and Digestive Tract Issues',\n",
       " 'General Inflammation and Infection',\n",
       " 'Systemic Conditions',\n",
       " 'Malignant Growths',\n",
       " 'Neoplastic Spread and Masses',\n",
       " 'Central Nervous System Disorders',\n",
       " 'Neuromuscular and Motor Control Issues']"
      ]
     },
     "execution_count": 9,
     "metadata": {},
     "output_type": "execute_result"
    }
   ],
   "source": [
    "abstract_concepts = data_loader.get_abstract_concepts()\n",
    "abstract_concepts = [ac['abstract_concept_name'] for ac in abstract_concepts]\n",
    "abstract_concepts"
   ]
  },
  {
   "cell_type": "code",
   "execution_count": 10,
   "id": "ccc8e13a",
   "metadata": {},
   "outputs": [],
   "source": [
    "from sklearn.preprocessing import LabelEncoder"
   ]
  },
  {
   "cell_type": "code",
   "execution_count": 11,
   "id": "ea1797b8",
   "metadata": {},
   "outputs": [],
   "source": [
    "le = LabelEncoder()\n",
    "le.fit(train_df[label_column])\n",
    "train_df[label_column] = le.transform(train_df[label_column])\n",
    "test_df[label_column] = le.transform(test_df[label_column])"
   ]
  },
  {
   "cell_type": "code",
   "execution_count": 12,
   "id": "e7db2b7d",
   "metadata": {},
   "outputs": [
    {
     "data": {
      "text/plain": [
       "['cardiovascular diseases',\n",
       " 'digestive system diseases',\n",
       " 'general pathological conditions',\n",
       " 'neoplasms',\n",
       " 'nervous system diseases']"
      ]
     },
     "execution_count": 12,
     "metadata": {},
     "output_type": "execute_result"
    }
   ],
   "source": [
    "labels = list(le.classes_)\n",
    "labels"
   ]
  },
  {
   "cell_type": "code",
   "execution_count": 13,
   "id": "6ce8535b",
   "metadata": {},
   "outputs": [],
   "source": [
    "if is_test:\n",
    "    train_df = train_df.groupby(label_column).sample(1)\n",
    "    test_df = test_df.groupby(label_column).sample(1)"
   ]
  },
  {
   "cell_type": "code",
   "execution_count": 14,
   "id": "598efcac",
   "metadata": {},
   "outputs": [],
   "source": [
    "train_texts = train_df[text_column].to_list()\n",
    "train_labels = train_df[label_column].to_list()\n",
    "test_texts = test_df[text_column].to_list()\n",
    "test_labels = test_df[label_column].to_list()"
   ]
  },
  {
   "cell_type": "code",
   "execution_count": 15,
   "id": "ef67e457",
   "metadata": {},
   "outputs": [],
   "source": [
    "from sklearn.model_selection import train_test_split"
   ]
  },
  {
   "cell_type": "code",
   "execution_count": 16,
   "id": "01a52883",
   "metadata": {},
   "outputs": [],
   "source": [
    "train_texts, val_texts, train_labels, val_labels = train_test_split(train_texts, train_labels, test_size=0.2, random_state=42)"
   ]
  },
  {
   "cell_type": "code",
   "execution_count": 17,
   "id": "21c1ad43",
   "metadata": {},
   "outputs": [],
   "source": [
    "keyword_nli_model_path = join_path(dataset, 'scorer_model', 'keyword_scorer')\n",
    "abstract_nli_model_path = join_path(dataset, 'scorer_model', 'abstract_scorer')"
   ]
  },
  {
   "cell_type": "code",
   "execution_count": 18,
   "id": "fe9d7a78",
   "metadata": {},
   "outputs": [],
   "source": [
    "import torch\n",
    "import torch.nn as nn\n",
    "import torch.optim as optim\n",
    "from transformers import BertTokenizer, BertForSequenceClassification\n",
    "import numpy as np\n",
    "from sklearn.metrics import classification_report\n",
    "import matplotlib.pyplot as plt\n",
    "from tqdm import tqdm\n",
    "import os\n",
    "import networkx as nx\n",
    "from matplotlib import cm\n",
    "from sentence_transformers import SentenceTransformer"
   ]
  },
  {
   "cell_type": "code",
   "execution_count": null,
   "id": "44b75df1",
   "metadata": {},
   "outputs": [],
   "source": []
  },
  {
   "cell_type": "code",
   "execution_count": 19,
   "id": "0f5edb14",
   "metadata": {},
   "outputs": [],
   "source": [
    "import torch\n",
    "import torch.nn as nn\n",
    "import torch.nn.functional as F\n",
    "from transformers import BertTokenizer, BertForSequenceClassification\n",
    "from sentence_transformers import SentenceTransformer\n",
    "\n",
    "\n",
    "def load_model(path):\n",
    "    model = BertForSequenceClassification.from_pretrained(path)\n",
    "    tokenizer = BertTokenizer.from_pretrained(path)\n",
    "    return model, tokenizer"
   ]
  },
  {
   "cell_type": "code",
   "execution_count": null,
   "id": "cc74ca58",
   "metadata": {},
   "outputs": [],
   "source": [
    "import torch\n",
    "from torch.utils.data import DataLoader as TorchDataLoader\n",
    "from transformers import BertTokenizer, BertForSequenceClassification\n",
    "from sentence_transformers import SentenceTransformer\n",
    "import numpy as np\n",
    "from tqdm import tqdm\n",
    "\n",
    "def precompute_nli_scores(texts, concept_names, tokenizer, scorer, device, batch_size=512):\n",
    "    scorer = scorer.to(device)\n",
    "    scorer.eval()\n",
    "    scores = []\n",
    "    \n",
    "    for i in range(0, len(texts), batch_size):\n",
    "        batch_texts = texts[i:i + batch_size]\n",
    "        batch_scores = []\n",
    "        for cname in concept_names:\n",
    "            inputs = tokenizer(batch_texts, [cname] * len(batch_texts),\n",
    "                              return_tensors='pt', padding=True, truncation=True, max_length=512).to(device)\n",
    "            with torch.no_grad():\n",
    "                outputs = scorer(**inputs)\n",
    "                probs = torch.softmax(outputs.logits, dim=-1)\n",
    "                batch_scores.append(probs[:, 1].cpu())  # Entailment scores\n",
    "        scores.append(torch.stack(batch_scores, dim=1))  # [batch_size, n_concepts]\n",
    "    return torch.cat(scores, dim=0)  # [n_texts, n_concepts]\n",
    "\n",
    "# Precompute scores for train, validation, and test sets\n",
    "device = 'cuda' if torch.cuda.is_available() else 'cpu'\n",
    "keyword_scorer, keyword_tokenizer = load_model(keyword_nli_model_path)\n",
    "abstract_scorer, abstract_tokenizer = load_model(abstract_nli_model_path)\n",
    "\n",
    "train_keyword_scores = precompute_nli_scores(train_texts, keywords, keyword_tokenizer, keyword_scorer, device)\n",
    "train_abstract_scores = precompute_nli_scores(train_texts, abstract_concepts, abstract_tokenizer, abstract_scorer, device)\n",
    "val_keyword_scores = precompute_nli_scores(val_texts, keywords, keyword_tokenizer, keyword_scorer, device)\n",
    "val_abstract_scores = precompute_nli_scores(val_texts, abstract_concepts, abstract_tokenizer, abstract_scorer, device)\n",
    "test_keyword_scores = precompute_nli_scores(test_texts, keywords, keyword_tokenizer, keyword_scorer, device)\n",
    "test_abstract_scores = precompute_nli_scores(test_texts, abstract_concepts, abstract_tokenizer, abstract_scorer, device)"
   ]
  },
  {
   "cell_type": "code",
   "execution_count": 21,
   "id": "75447f27",
   "metadata": {},
   "outputs": [],
   "source": [
    "class ConceptNetwork(nn.Module):\n",
    "    def __init__(self, concept_names, embedding_dim):\n",
    "        super(ConceptNetwork, self).__init__()\n",
    "        self.embedding_dim = embedding_dim\n",
    "        self.concept_names = concept_names  # [[keywords], [abstracts], [labels]]\n",
    "        \n",
    "        # Embeddings\n",
    "        self.keyword_embeddings = nn.Parameter(torch.randn(len(concept_names[0]), embedding_dim))\n",
    "        self.abstract_embeddings = nn.Parameter(torch.randn(len(concept_names[1]), embedding_dim))\n",
    "        self.label_embeddings = nn.Parameter(torch.randn(len(concept_names[2]), embedding_dim))\n",
    "        \n",
    "        # Beta parameters (learnable reliability weights)\n",
    "        self.keyword_betas = nn.Parameter(torch.zeros(len(concept_names[0])))\n",
    "        self.abstract_betas = nn.Parameter(torch.zeros(len(concept_names[1])))\n",
    "        \n",
    "        # Semantic predictor\n",
    "        self.semantic_predictor = nn.Linear(embedding_dim, 384)  # SBERT output dim\n",
    "\n",
    "    def forward(self, keyword_scores, abstract_direct):\n",
    "        \"\"\"\n",
    "        keyword_scores: [B, n_keywords] - Precomputed keyword NLI scores\n",
    "        abstract_direct: [B, n_abstracts] - Precomputed abstract NLI scores\n",
    "        Returns: predictions, keyword_semantic, abstract_semantic, label_semantic, keyword_scores, abstract_scores\n",
    "        \"\"\"\n",
    "        # Keyword layer: use precomputed scores\n",
    "        keyword_scores = keyword_scores  # [B, n_kw]\n",
    "        \n",
    "        # Abstract layer: combine direct and relation scores\n",
    "        attn_kw_abs = torch.matmul(self.keyword_embeddings, self.abstract_embeddings.T)  # [n_kw, n_abs]\n",
    "        attn_kw_abs = torch.softmax(attn_kw_abs, dim=0)  # Softmax over keywords\n",
    "        relation_kw_abs = torch.matmul(keyword_scores, attn_kw_abs)  # [B, n_abs]\n",
    "        \n",
    "        abstract_betas = torch.sigmoid(self.abstract_betas)  # [n_abs]\n",
    "        abstract_scores = abstract_direct * abstract_betas + relation_kw_abs * (1 - abstract_betas)  # [B, n_abs]\n",
    "        \n",
    "        # Label layer: relation only (abstract → label)\n",
    "        attn_abs_lbl = torch.matmul(self.abstract_embeddings, self.label_embeddings.T)  # [n_abs, n_lbl]\n",
    "        attn_abs_lbl = torch.softmax(attn_abs_lbl, dim=0)  # Softmax over abstracts\n",
    "        predictions = torch.matmul(abstract_scores, attn_abs_lbl)  # [B, n_lbl]\n",
    "        \n",
    "        # Semantic predictions\n",
    "        keyword_semantic = self.semantic_predictor(self.keyword_embeddings)  # [n_kw, 384]\n",
    "        abstract_semantic = self.semantic_predictor(self.abstract_embeddings)  # [n_abs, 384]\n",
    "        label_semantic = self.semantic_predictor(self.label_embeddings)  # [n_lbl, 384]\n",
    "        \n",
    "        return predictions, keyword_semantic, abstract_semantic, label_semantic, keyword_scores, abstract_scores"
   ]
  },
  {
   "cell_type": "code",
   "execution_count": null,
   "id": "7309584d",
   "metadata": {},
   "outputs": [],
   "source": [
    "from torch.cuda.amp import GradScaler, autocast\n",
    "from torch.utils.data import TensorDataset, DataLoader as TorchDataLoader\n",
    "\n",
    "def train_model(model, train_texts, train_labels, train_keyword_scores, train_abstract_scores,\n",
    "                val_texts, val_labels, val_keyword_scores, val_abstract_scores,\n",
    "                concept_names, sbert_embeddings, batch_size=32, num_epochs=50,\n",
    "                patience=5, lambda_semantic=0.1, device='cuda'):\n",
    "    \n",
    "    model = model.to(device)\n",
    "    optimizer = optim.Adam(model.parameters(), lr=1e-3)\n",
    "    criterion = nn.CrossEntropyLoss()\n",
    "    mse_loss = nn.MSELoss()\n",
    "    scaler = GradScaler()  # For mixed precision\n",
    "    \n",
    "    # Convert SBERT embeddings to tensors\n",
    "    sbert_tensors = [torch.tensor(arr, device=device, dtype=torch.float32) for arr in sbert_embeddings]\n",
    "    \n",
    "    # Create DataLoader\n",
    "    train_dataset = TensorDataset(\n",
    "        train_keyword_scores, train_abstract_scores,\n",
    "        torch.tensor(train_labels, dtype=torch.long)\n",
    "    )\n",
    "    train_loader = TorchDataLoader(train_dataset, batch_size=batch_size, shuffle=True, num_workers=4, pin_memory=True)\n",
    "    \n",
    "    val_dataset = TensorDataset(\n",
    "        val_keyword_scores, val_abstract_scores,\n",
    "        torch.tensor(val_labels, dtype=torch.long)\n",
    "    )\n",
    "    val_loader = TorchDataLoader(val_dataset, batch_size=batch_size, num_workers=4, pin_memory=True)\n",
    "    \n",
    "    train_losses = []\n",
    "    val_losses = []\n",
    "    best_val_loss = float('inf')\n",
    "    patience_counter = 0\n",
    "    \n",
    "    for epoch in range(num_epochs):\n",
    "        model.train()\n",
    "        epoch_train_loss = 0\n",
    "        for batch_keyword_scores, batch_abstract_scores, batch_labels in tqdm(train_loader, desc=f\"Epoch {epoch+1}\"):\n",
    "            batch_keyword_scores = batch_keyword_scores.to(device)\n",
    "            batch_abstract_scores = batch_abstract_scores.to(device)\n",
    "            batch_labels = batch_labels.to(device)\n",
    "            \n",
    "            optimizer.zero_grad()\n",
    "            with autocast():  # Mixed precision\n",
    "                predictions, keyword_semantic, abstract_semantic, label_semantic, _, _ = model(\n",
    "                    batch_keyword_scores, batch_abstract_scores\n",
    "                )\n",
    "                pred_loss = criterion(predictions, batch_labels)\n",
    "                semantic_loss = sum(mse_loss(emb, sbert_tensors[i]) for i, emb in enumerate(\n",
    "                    [keyword_semantic, abstract_semantic, label_semantic]\n",
    "                ))\n",
    "                total_loss = pred_loss + lambda_semantic * semantic_loss\n",
    "            \n",
    "            scaler.scale(total_loss).backward()\n",
    "            scaler.step(optimizer)\n",
    "            scaler.update()\n",
    "            epoch_train_loss += total_loss.item()\n",
    "        \n",
    "        avg_train_loss = epoch_train_loss / len(train_loader)\n",
    "        train_losses.append(avg_train_loss)\n",
    "        \n",
    "        # Validation\n",
    "        model.eval()\n",
    "        val_loss = 0\n",
    "        with torch.no_grad():\n",
    "            for batch_keyword_scores, batch_abstract_scores, batch_labels in val_loader:\n",
    "                batch_keyword_scores = batch_keyword_scores.to(device)\n",
    "                batch_abstract_scores = batch_abstract_scores.to(device)\n",
    "                batch_labels = batch_labels.to(device)\n",
    "                \n",
    "                with autocast():\n",
    "                    predictions, keyword_semantic, abstract_semantic, label_semantic, _, _ = model(\n",
    "                        batch_keyword_scores, batch_abstract_scores\n",
    "                    )\n",
    "                    pred_loss = criterion(predictions, batch_labels)\n",
    "                    semantic_loss = sum(mse_loss(emb, sbert_tensors[i]) for i, emb in enumerate(\n",
    "                        [keyword_semantic, abstract_semantic, label_semantic]\n",
    "                    ))\n",
    "                    val_loss += (pred_loss + lambda_semantic * semantic_loss).item()\n",
    "        \n",
    "        avg_val_loss = val_loss / len(val_loader)\n",
    "        val_losses.append(avg_val_loss)\n",
    "        \n",
    "        print(f\"Epoch {epoch+1}, Train Loss: {avg_train_loss:.4f}, Val Loss: {avg_val_loss:.4f}\")\n",
    "        \n",
    "        # Early stopping\n",
    "        if avg_val_loss < best_val_loss:\n",
    "            best_val_loss = avg_val_loss\n",
    "            patience_counter = 0\n",
    "            torch.save(model.state_dict(), 'best_model.pt')\n",
    "            print(\"Saved new best model.\")\n",
    "        else:\n",
    "            patience_counter += 1\n",
    "            if patience_counter >= patience:\n",
    "                print(\"Early stopping triggered.\")\n",
    "                break\n",
    "    \n",
    "    # Plot losses\n",
    "    plt.figure(figsize=(10, 5))\n",
    "    plt.plot(train_losses, label='Train Loss')\n",
    "    plt.plot(val_losses, label='Val Loss')\n",
    "    plt.xlabel('Epoch')\n",
    "    plt.ylabel('Loss')\n",
    "    plt.title('Training vs Validation Loss')\n",
    "    plt.legend()\n",
    "    plt.grid(True)\n",
    "    plt.show()\n",
    "    plt.savefig('loss_plot.png')\n",
    "    plt.close()\n",
    "    \n",
    "    return train_losses, val_losses"
   ]
  },
  {
   "cell_type": "code",
   "execution_count": 29,
   "id": "1e870d7f",
   "metadata": {},
   "outputs": [],
   "source": [
    "def test_model(model, test_keyword_scores, test_abstract_scores, test_labels, concept_names, batch_size=32, device='cuda'):\n",
    "    model = model.to(device)\n",
    "    model.eval()\n",
    "    predictions = []\n",
    "    true_labels = []\n",
    "    \n",
    "    test_dataset = TensorDataset(test_keyword_scores, test_abstract_scores, torch.tensor(test_labels, dtype=torch.long))\n",
    "    test_loader = TorchDataLoader(test_dataset, batch_size=batch_size, num_workers=4, pin_memory=True)\n",
    "    \n",
    "    with torch.no_grad():\n",
    "        for batch_keyword_scores, batch_abstract_scores, batch_labels in tqdm(test_loader, desc=\"Testing\"):\n",
    "            batch_keyword_scores = batch_keyword_scores.to(device)\n",
    "            batch_abstract_scores = batch_abstract_scores.to(device)\n",
    "            \n",
    "            outputs, _, _, _, _, _ = model(batch_keyword_scores, batch_abstract_scores)\n",
    "            preds = torch.argmax(outputs, dim=1).cpu().numpy()\n",
    "            predictions.extend(preds)\n",
    "            true_labels.extend(batch_labels.cpu().numpy())\n",
    "    \n",
    "    print(\"\\nClassification Report:\")\n",
    "    print(classification_report(true_labels, predictions, target_names=concept_names[2]))\n",
    "\n",
    "def interpretable_prediction(model, test_text, test_label, test_keyword_scores, test_abstract_scores, concept_names, device='cuda'):\n",
    "    model = model.to(device)\n",
    "    model.eval()\n",
    "    \n",
    "    print(\"\\nInterpretable Prediction for Sample:\")\n",
    "    print(f\"Input Text: {test_text}\")\n",
    "    print(f\"True Label: {concept_names[2][test_label]}\")\n",
    "    \n",
    "    with torch.no_grad():\n",
    "        keyword_scores = test_keyword_scores[0:1].to(device)  # [1, n_keywords]\n",
    "        abstract_direct = test_abstract_scores[0:1].to(device)  # [1, n_abstracts]\n",
    "        predictions, _, _, _, keyword_scores, abstract_scores = model(keyword_scores, abstract_direct)\n",
    "        \n",
    "        print(\"\\nKeyword Layer Activations:\")\n",
    "        for concept_name, score in zip(concept_names[0], keyword_scores[0]):\n",
    "            print(f\"  {concept_name}: {score:.4f}\")\n",
    "        \n",
    "        print(\"\\nAbstract Layer Activations:\")\n",
    "        for concept_name, score in zip(concept_names[1], abstract_scores[0]):\n",
    "            print(f\"  {concept_name}: {score:.4f}\")\n",
    "        \n",
    "        label_probs = torch.softmax(predictions, dim=-1)[0]\n",
    "        print(\"\\nLabel Layer Probabilities:\")\n",
    "        for concept_name, prob in zip(concept_names[2], label_probs):\n",
    "            print(f\"  {concept_name}: {prob:.4f}\")\n",
    "        \n",
    "        predicted_label_idx = torch.argmax(predictions, dim=-1).item()\n",
    "        print(f\"\\nPredicted Label: {concept_names[2][predicted_label_idx]}\")\n",
    "        \n",
    "        return (keyword_scores[0].cpu().numpy(), abstract_scores[0].cpu().numpy(),\n",
    "                label_probs.cpu().numpy(), predicted_label_idx)"
   ]
  },
  {
   "cell_type": "code",
   "execution_count": 30,
   "id": "b76a6ebc",
   "metadata": {},
   "outputs": [],
   "source": [
    "import matplotlib.pyplot as plt\n",
    "import networkx as nx\n",
    "from matplotlib import cm\n",
    "\n",
    "def visualize_network(model, concept_names, keyword_scores, abstract_scores, label_probs, predicted_label_idx, output_file='network_visualization.png'):\n",
    "    G = nx.DiGraph()\n",
    "\n",
    "    # Add nodes\n",
    "    for i, kw in enumerate(concept_names[0]):\n",
    "        G.add_node(f\"K_{i}\", label=kw, layer='keyword', score=keyword_scores[i])\n",
    "    for i, abs_c in enumerate(concept_names[1]):\n",
    "        G.add_node(f\"A_{i}\", label=abs_c, layer='abstract', score=abstract_scores[i])\n",
    "    for i, lbl in enumerate(concept_names[2]):\n",
    "        G.add_node(f\"L_{i}\", label=lbl, layer='label', score=label_probs[i])\n",
    "\n",
    "    # Edges: keyword → abstract (use beta)\n",
    "    for i in range(len(concept_names[0])):\n",
    "        for j in range(len(concept_names[1])):\n",
    "            weight = model.keyword_betas[i].item() * model.abstract_betas[j].item()\n",
    "            G.add_edge(f\"K_{i}\", f\"A_{j}\", weight=weight)\n",
    "\n",
    "    # Edges: abstract → label (recompute attention)\n",
    "    with torch.no_grad():\n",
    "        abs_emb = model.abstract_embeddings.detach().cpu()\n",
    "        lbl_emb = model.label_embeddings.detach().cpu()\n",
    "        attn = torch.matmul(abs_emb, lbl_emb.T)  # [n_abs, n_lbl]\n",
    "        attn = torch.softmax(attn, dim=0)\n",
    "\n",
    "    for i in range(len(concept_names[1])):\n",
    "        for j in range(len(concept_names[2])):\n",
    "            weight = attn[i, j].item()\n",
    "            G.add_edge(f\"A_{i}\", f\"L_{j}\", weight=weight)\n",
    "\n",
    "    # Positioning\n",
    "    pos = {}\n",
    "    max_nodes = max(len(concept_names[0]), len(concept_names[1]), len(concept_names[2]))\n",
    "    for i in range(len(concept_names[0])):\n",
    "        pos[f\"K_{i}\"] = (0, max_nodes - i)\n",
    "    for i in range(len(concept_names[1])):\n",
    "        pos[f\"A_{i}\"] = (1, max_nodes - i)\n",
    "    for i in range(len(concept_names[2])):\n",
    "        pos[f\"L_{i}\"] = (2, max_nodes - i)\n",
    "\n",
    "    # Node visuals\n",
    "    node_colors = [data['score'] for _, data in G.nodes(data=True)]\n",
    "    node_sizes = [500 + data['score'] * 2000 for _, data in G.nodes(data=True)]\n",
    "    edge_widths = [abs(G[u][v]['weight']) * 2 for u, v in G.edges()]\n",
    "\n",
    "    # Draw\n",
    "    plt.figure(figsize=(12, 8))\n",
    "    nx.draw_networkx_nodes(G, pos, node_color=node_colors, node_size=node_sizes, cmap=cm.viridis)\n",
    "    nx.draw_networkx_edges(G, pos, width=edge_widths, alpha=0.5)\n",
    "\n",
    "    labels = {n: f\"{d['label']}\\n{d['score']:.2f}\" for n, d in G.nodes(data=True)}\n",
    "    nx.draw_networkx_labels(G, pos, labels, font_size=8)\n",
    "\n",
    "    # Highlight predicted node\n",
    "    pred_node = f\"L_{predicted_label_idx}\"\n",
    "    pred_size = 500 + G.nodes[pred_node]['score'] * 2000\n",
    "    nx.draw_networkx_nodes(G, pos, nodelist=[pred_node], node_color='red', node_size=pred_size)\n",
    "\n",
    "    plt.title(\"Concept Network Visualization\")\n",
    "    plt.savefig(output_file)\n",
    "    plt.show()\n",
    "    plt.close()\n"
   ]
  },
  {
   "cell_type": "code",
   "execution_count": 31,
   "id": "7d0f62a7",
   "metadata": {},
   "outputs": [],
   "source": [
    "# SBERT embeddings (precomputed for efficiency)\n",
    "from sentence_transformers import SentenceTransformer\n",
    "sbert_model = SentenceTransformer('all-MiniLM-L6-v2')\n",
    "sbert_embeddings = [\n",
    "    sbert_model.encode(keywords, convert_to_numpy=True),\n",
    "    sbert_model.encode(abstract_concepts, convert_to_numpy=True),\n",
    "    sbert_model.encode(labels, convert_to_numpy=True)\n",
    "]"
   ]
  },
  {
   "cell_type": "code",
   "execution_count": 32,
   "id": "ff23e38b",
   "metadata": {},
   "outputs": [],
   "source": [
    "from transformers.utils import logging\n",
    "\n",
    "logging.set_verbosity_error()\n",
    "\n",
    "import os\n",
    "import warnings\n",
    "\n",
    "warnings.filterwarnings(\"ignore\", category=UserWarning)\n",
    "warnings.filterwarnings(\"ignore\", category=FutureWarning)\n",
    "os.environ[\"TOKENIZERS_PARALLELISM\"] = \"false\""
   ]
  },
  {
   "cell_type": "code",
   "execution_count": null,
   "id": "2f9b6847",
   "metadata": {},
   "outputs": [
    {
     "name": "stderr",
     "output_type": "stream",
     "text": [
      "Epoch 1: 100%|██████████| 1/1 [00:02<00:00,  2.17s/it]\n"
     ]
    },
    {
     "name": "stdout",
     "output_type": "stream",
     "text": [
      "Epoch 1, Train Loss: 1.7214, Val Loss: 1.6953\n",
      "Saved new best model.\n"
     ]
    },
    {
     "name": "stderr",
     "output_type": "stream",
     "text": [
      "Epoch 2: 100%|██████████| 1/1 [00:01<00:00,  1.58s/it]\n"
     ]
    },
    {
     "name": "stdout",
     "output_type": "stream",
     "text": [
      "Epoch 2, Train Loss: 1.7185, Val Loss: 1.6948\n",
      "Saved new best model.\n"
     ]
    },
    {
     "name": "stderr",
     "output_type": "stream",
     "text": [
      "Epoch 3: 100%|██████████| 1/1 [00:01<00:00,  1.01s/it]\n"
     ]
    },
    {
     "name": "stdout",
     "output_type": "stream",
     "text": [
      "Epoch 3, Train Loss: 1.7157, Val Loss: 1.6943\n",
      "Saved new best model.\n"
     ]
    },
    {
     "name": "stderr",
     "output_type": "stream",
     "text": [
      "Epoch 4: 100%|██████████| 1/1 [00:00<00:00,  1.05it/s]\n"
     ]
    },
    {
     "name": "stdout",
     "output_type": "stream",
     "text": [
      "Epoch 4, Train Loss: 1.7130, Val Loss: 1.6938\n",
      "Saved new best model.\n"
     ]
    },
    {
     "name": "stderr",
     "output_type": "stream",
     "text": [
      "Epoch 5: 100%|██████████| 1/1 [00:00<00:00,  1.04it/s]\n"
     ]
    },
    {
     "name": "stdout",
     "output_type": "stream",
     "text": [
      "Epoch 5, Train Loss: 1.7102, Val Loss: 1.6934\n",
      "Saved new best model.\n"
     ]
    },
    {
     "name": "stderr",
     "output_type": "stream",
     "text": [
      "Epoch 6: 100%|██████████| 1/1 [00:00<00:00,  1.06it/s]\n"
     ]
    },
    {
     "name": "stdout",
     "output_type": "stream",
     "text": [
      "Epoch 6, Train Loss: 1.7076, Val Loss: 1.6929\n",
      "Saved new best model.\n"
     ]
    },
    {
     "name": "stderr",
     "output_type": "stream",
     "text": [
      "Epoch 7: 100%|██████████| 1/1 [00:00<00:00,  1.05it/s]\n"
     ]
    },
    {
     "name": "stdout",
     "output_type": "stream",
     "text": [
      "Epoch 7, Train Loss: 1.7050, Val Loss: 1.6925\n",
      "Saved new best model.\n"
     ]
    },
    {
     "name": "stderr",
     "output_type": "stream",
     "text": [
      "Epoch 8: 100%|██████████| 1/1 [00:01<00:00,  1.00s/it]\n"
     ]
    },
    {
     "name": "stdout",
     "output_type": "stream",
     "text": [
      "Epoch 8, Train Loss: 1.7025, Val Loss: 1.6922\n",
      "Saved new best model.\n"
     ]
    },
    {
     "name": "stderr",
     "output_type": "stream",
     "text": [
      "Epoch 9: 100%|██████████| 1/1 [00:00<00:00,  1.03it/s]\n"
     ]
    },
    {
     "name": "stdout",
     "output_type": "stream",
     "text": [
      "Epoch 9, Train Loss: 1.7000, Val Loss: 1.6918\n",
      "Saved new best model.\n"
     ]
    },
    {
     "name": "stderr",
     "output_type": "stream",
     "text": [
      "Epoch 10: 100%|██████████| 1/1 [00:01<00:00,  1.03s/it]\n"
     ]
    },
    {
     "name": "stdout",
     "output_type": "stream",
     "text": [
      "Epoch 10, Train Loss: 1.6976, Val Loss: 1.6914\n",
      "Saved new best model.\n"
     ]
    },
    {
     "name": "stderr",
     "output_type": "stream",
     "text": [
      "Epoch 11: 100%|██████████| 1/1 [00:00<00:00,  1.05it/s]\n"
     ]
    },
    {
     "name": "stdout",
     "output_type": "stream",
     "text": [
      "Epoch 11, Train Loss: 1.6953, Val Loss: 1.6910\n",
      "Saved new best model.\n"
     ]
    },
    {
     "name": "stderr",
     "output_type": "stream",
     "text": [
      "Epoch 12: 100%|██████████| 1/1 [00:01<00:00,  1.23s/it]\n"
     ]
    },
    {
     "name": "stdout",
     "output_type": "stream",
     "text": [
      "Epoch 12, Train Loss: 1.6930, Val Loss: 1.6906\n",
      "Saved new best model.\n"
     ]
    },
    {
     "name": "stderr",
     "output_type": "stream",
     "text": [
      "Epoch 13: 100%|██████████| 1/1 [00:01<00:00,  1.03s/it]\n"
     ]
    },
    {
     "name": "stdout",
     "output_type": "stream",
     "text": [
      "Epoch 13, Train Loss: 1.6908, Val Loss: 1.6901\n",
      "Saved new best model.\n"
     ]
    },
    {
     "name": "stderr",
     "output_type": "stream",
     "text": [
      "Epoch 14: 100%|██████████| 1/1 [00:00<00:00,  1.05it/s]\n"
     ]
    },
    {
     "name": "stdout",
     "output_type": "stream",
     "text": [
      "Epoch 14, Train Loss: 1.6886, Val Loss: 1.6897\n",
      "Saved new best model.\n"
     ]
    },
    {
     "name": "stderr",
     "output_type": "stream",
     "text": [
      "Epoch 15: 100%|██████████| 1/1 [00:00<00:00,  1.02it/s]\n"
     ]
    },
    {
     "name": "stdout",
     "output_type": "stream",
     "text": [
      "Epoch 15, Train Loss: 1.6865, Val Loss: 1.6892\n",
      "Saved new best model.\n"
     ]
    },
    {
     "name": "stderr",
     "output_type": "stream",
     "text": [
      "Epoch 16: 100%|██████████| 1/1 [00:00<00:00,  1.05it/s]\n"
     ]
    },
    {
     "name": "stdout",
     "output_type": "stream",
     "text": [
      "Epoch 16, Train Loss: 1.6845, Val Loss: 1.6887\n",
      "Saved new best model.\n"
     ]
    },
    {
     "name": "stderr",
     "output_type": "stream",
     "text": [
      "Epoch 17: 100%|██████████| 1/1 [00:00<00:00,  1.03it/s]\n"
     ]
    },
    {
     "name": "stdout",
     "output_type": "stream",
     "text": [
      "Epoch 17, Train Loss: 1.6825, Val Loss: 1.6882\n",
      "Saved new best model.\n"
     ]
    },
    {
     "name": "stderr",
     "output_type": "stream",
     "text": [
      "Epoch 18: 100%|██████████| 1/1 [00:01<00:00,  1.02s/it]\n"
     ]
    },
    {
     "name": "stdout",
     "output_type": "stream",
     "text": [
      "Epoch 18, Train Loss: 1.6806, Val Loss: 1.6877\n",
      "Saved new best model.\n"
     ]
    },
    {
     "name": "stderr",
     "output_type": "stream",
     "text": [
      "Epoch 19: 100%|██████████| 1/1 [00:01<00:00,  1.01s/it]\n"
     ]
    },
    {
     "name": "stdout",
     "output_type": "stream",
     "text": [
      "Epoch 19, Train Loss: 1.6787, Val Loss: 1.6871\n",
      "Saved new best model.\n"
     ]
    },
    {
     "name": "stderr",
     "output_type": "stream",
     "text": [
      "Epoch 20: 100%|██████████| 1/1 [00:00<00:00,  1.02it/s]\n"
     ]
    },
    {
     "name": "stdout",
     "output_type": "stream",
     "text": [
      "Epoch 20, Train Loss: 1.6768, Val Loss: 1.6866\n",
      "Saved new best model.\n"
     ]
    },
    {
     "data": {
      "image/png": "[encoded data removed]",
      "text/plain": [
       "<Figure size 1000x500 with 1 Axes>"
      ]
     },
     "metadata": {},
     "output_type": "display_data"
    }
   ],
   "source": [
    "# Initialize model\n",
    "concept_names = [keywords, abstract_concepts, labels]\n",
    "model = ConceptNetwork(concept_names, embedding_dim=32)  # Reduced embedding dim for speed\n",
    "\n",
    "# Train\n",
    "train_losses, val_losses = train_model(\n",
    "    model, train_texts, train_labels, train_keyword_scores, train_abstract_scores,\n",
    "    val_texts, val_labels, val_keyword_scores, val_abstract_scores,\n",
    "    concept_names, sbert_embeddings, batch_size=32, num_epochs=50,\n",
    "    patience=5, lambda_semantic=0.1, device=device\n",
    ")\n"
   ]
  },
  {
   "cell_type": "code",
   "execution_count": 34,
   "id": "8e98052a",
   "metadata": {},
   "outputs": [
    {
     "data": {
      "text/plain": [
       "<All keys matched successfully>"
      ]
     },
     "execution_count": 34,
     "metadata": {},
     "output_type": "execute_result"
    }
   ],
   "source": [
    "# Load best model\n",
    "model.load_state_dict(torch.load('best_model.pt'))"
   ]
  },
  {
   "cell_type": "code",
   "execution_count": 35,
   "id": "2f57c1e5",
   "metadata": {},
   "outputs": [
    {
     "name": "stderr",
     "output_type": "stream",
     "text": [
      "Testing: 100%|██████████| 1/1 [00:01<00:00,  1.30s/it]"
     ]
    },
    {
     "name": "stdout",
     "output_type": "stream",
     "text": [
      "\n",
      "Classification Report:\n",
      "                                 precision    recall  f1-score   support\n",
      "\n",
      "        cardiovascular diseases       0.00      0.00      0.00         1\n",
      "      digestive system diseases       0.00      0.00      0.00         1\n",
      "general pathological conditions       0.00      0.00      0.00         1\n",
      "                      neoplasms       0.00      0.00      0.00         1\n",
      "        nervous system diseases       0.20      1.00      0.33         1\n",
      "\n",
      "                       accuracy                           0.20         5\n",
      "                      macro avg       0.04      0.20      0.07         5\n",
      "                   weighted avg       0.04      0.20      0.07         5\n",
      "\n"
     ]
    },
    {
     "name": "stderr",
     "output_type": "stream",
     "text": [
      "\n"
     ]
    }
   ],
   "source": [
    "# Test\n",
    "test_model(model, test_keyword_scores, test_abstract_scores, test_labels, concept_names, batch_size=32, device=device)"
   ]
  },
  {
   "cell_type": "code",
   "execution_count": 36,
   "id": "1310c79c",
   "metadata": {},
   "outputs": [
    {
     "name": "stdout",
     "output_type": "stream",
     "text": [
      "\n",
      "Interpretable Prediction for Sample:\n",
      "Input Text: Noninvasive measurement of renal blood flow with technetium-99m-DTPA in the evaluation of patients with suspected renovascular hypertension If a hypertensive patient with renal artery stenosis (RAS) is to benefit from percutaneous transluminal renal angioplasty (PTRA) in terms of a sustained improvement in blood pressure control, one may postulate a demonstrable reduction in renal blood flow (RBF) to that kidney, reversible by PTRA. In a population of 32 hypertensive patients, RAS was present in 23 of 62 kidneys. Eleven of the 32 patients underwent renal revascularization, of whom 6 showed improvement in blood pressure control at 6 mo, i.e., had renovascular hypertension (RVH). There was no correlation between RBF and angiographic appearances of the renal artery. Furthermore, there was no significant difference between RBF in the stenosed kidneys of the patients with RVH compared with the stenosed kidneys of patients without RVH. Individual kidney RBF was 22% (s.d. 11) higher 1-3 wk after PTRA but the increase did not correlate with clinical outcome. Angiotensin converting enzyme (ACE) inhibition increased RBF by 25% (s.d. 25) of baseline flow before PTRA but the increase did not correlate with clinical outcome. Measurement of RBF is of limited value for the prediction of the long-term blood pressure response following PTRA. \n",
      "True Label: cardiovascular diseases\n",
      "\n",
      "Keyword Layer Activations:\n",
      "  coronary: 0.3803\n",
      "  hypertension: 0.4526\n",
      "  systolic: 0.4897\n",
      "  diastolic: 0.4887\n",
      "  stenosis: 0.4500\n",
      "  cirrhosis: 0.4475\n",
      "  hepatitis: 0.5166\n",
      "  dysphagia: 0.4279\n",
      "  peritonitis: 0.4341\n",
      "  liver disease: 0.3141\n",
      "  infection: 0.4799\n",
      "  cardiac: 0.5360\n",
      "  vaginal: 0.5550\n",
      "  nervous: 0.5511\n",
      "  ocular: 0.5366\n",
      "  carcinoma: 0.4441\n",
      "  malignancy: 0.3978\n",
      "  metastasis: 0.4465\n",
      "  tumor: 0.5074\n",
      "  cancer: 0.5153\n",
      "  neurologic: 0.3667\n",
      "  spinal: 0.5327\n",
      "  brain: 0.5365\n",
      "  sclerosis: 0.4004\n",
      "  spasticity: 0.3704\n",
      "\n",
      "Abstract Layer Activations:\n",
      "  Cardiac Function Impairment: 0.5217\n",
      "  Coronary Artery Disease: 0.4570\n",
      "  Liver Pathologies: 0.4399\n",
      "  Swallowing and Digestive Tract Issues: 0.5340\n",
      "  General Inflammation and Infection: 0.4850\n",
      "  Systemic Conditions: 0.4360\n",
      "  Malignant Growths: 0.4699\n",
      "  Neoplastic Spread and Masses: 0.5021\n",
      "  Central Nervous System Disorders: 0.4837\n",
      "  Neuromuscular and Motor Control Issues: 0.4785\n",
      "\n",
      "Label Layer Probabilities:\n",
      "  cardiovascular diseases: 0.1979\n",
      "  digestive system diseases: 0.1976\n",
      "  general pathological conditions: 0.1973\n",
      "  neoplasms: 0.1999\n",
      "  nervous system diseases: 0.2073\n",
      "\n",
      "Predicted Label: nervous system diseases\n"
     ]
    },
    {
     "data": {
      "image/png": "[encoded data removed]",
      "text/plain": [
       "<Figure size 1200x800 with 1 Axes>"
      ]
     },
     "metadata": {},
     "output_type": "display_data"
    }
   ],
   "source": [
    "# Interpretable prediction\n",
    "if test_texts and test_labels:\n",
    "    keyword_scores, abstract_scores, label_probs, predicted_label_idx = interpretable_prediction(\n",
    "        model, test_texts[0], test_labels[0], test_keyword_scores, test_abstract_scores, concept_names, device=device\n",
    "    )\n",
    "    visualize_network(model, concept_names, keyword_scores, abstract_scores, label_probs, predicted_label_idx)"
   ]
  },
  {
   "cell_type": "code",
   "execution_count": null,
   "id": "f5de08c7",
   "metadata": {},
   "outputs": [],
   "source": []
  },
  {
   "cell_type": "code",
   "execution_count": null,
   "id": "3fc4b4d8",
   "metadata": {},
   "outputs": [],
   "source": []
  },
  {
   "cell_type": "code",
   "execution_count": null,
   "id": "cbc6f13f",
   "metadata": {},
   "outputs": [],
   "source": []
  },
  {
   "cell_type": "code",
   "execution_count": null,
   "id": "5f52748e",
   "metadata": {},
   "outputs": [],
   "source": []
  },
  {
   "cell_type": "code",
   "execution_count": null,
   "id": "dfd6fddc",
   "metadata": {},
   "outputs": [],
   "source": []
  }
 ],
 "metadata": {
  "kernelspec": {
   "display_name": "venv",
   "language": "python",
   "name": "python3"
  },
  "language_info": {
   "codemirror_mode": {
    "name": "ipython",
    "version": 3
   },
   "file_extension": ".py",
   "mimetype": "text/x-python",
   "name": "python",
   "nbconvert_exporter": "python",
   "pygments_lexer": "ipython3",
   "version": "3.13.2"
  }
 },
 "nbformat": 4,
 "nbformat_minor": 5
}
