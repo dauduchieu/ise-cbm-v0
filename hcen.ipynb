{
 "cells": [
  {
   "cell_type": "code",
   "execution_count": null,
   "id": "cb2a156c",
   "metadata": {},
   "outputs": [],
   "source": [
    "# Define whether to use a small subset of data for testing\n",
    "# is_test = True"
   ]
  },
  {
   "cell_type": "code",
   "execution_count": 2,
   "id": "9e90e029",
   "metadata": {},
   "outputs": [],
   "source": [
    "# Set the dataset path\n",
    "dataset = \"data\""
   ]
  },
  {
   "cell_type": "code",
   "execution_count": 3,
   "id": "3db3c56d",
   "metadata": {},
   "outputs": [],
   "source": [
    "# Import utility functions for data loading and path joining\n",
    "from utils.data_loader import DataLoader\n",
    "from utils.data_io import join_path"
   ]
  },
  {
   "cell_type": "code",
   "execution_count": 4,
   "id": "08cc2e65",
   "metadata": {},
   "outputs": [],
   "source": [
    "# Initialize the data loader with the dataset path\n",
    "data_loader = DataLoader(dataset)"
   ]
  },
  {
   "cell_type": "code",
   "execution_count": 5,
   "id": "2520ac65",
   "metadata": {},
   "outputs": [],
   "source": [
    "# Load training and test data\n",
    "train_df = data_loader.get_data_train()\n",
    "test_df = data_loader.get_data_test()"
   ]
  },
  {
   "cell_type": "code",
   "execution_count": 6,
   "id": "55ffb166",
   "metadata": {},
   "outputs": [],
   "source": [
    "# Get data description (column names for labels and text)\n",
    "data_desc = data_loader.get_data_desc()\n",
    "label_column = data_desc['label_column']\n",
    "text_column = data_desc['text_column']"
   ]
  },
  {
   "cell_type": "code",
   "execution_count": 7,
   "id": "f76d9830",
   "metadata": {},
   "outputs": [
    {
     "name": "stdout",
     "output_type": "stream",
     "text": [
      "['hypertension', 'coronary', 'infarction', 'myocardial', 'ischemia', 'hepatitis', 'biliary', 'intestinal', 'pancrea', 'bowel', 'respiratory', 'pulmonary', 'hemorrhage', 'pathogen', 'gene', 'carcinoma', 'cancer', 'tumor', 'squamous', 'benign', 'brain', 'dementia', 'headache', 'nerve', 'atrophy']\n"
     ]
    }
   ],
   "source": [
    "# Extract and print keyword concepts\n",
    "keyword_concepts = data_loader.get_keyword_concepts()\n",
    "keywords = []\n",
    "for k in keyword_concepts.keys():\n",
    "    keywords += keyword_concepts[k]\n",
    "print(keywords)"
   ]
  },
  {
   "cell_type": "code",
   "execution_count": 8,
   "id": "21a05ade",
   "metadata": {},
   "outputs": [
    {
     "name": "stdout",
     "output_type": "stream",
     "text": [
      "['Cardiac Conditions', 'Vascular Issues', 'Heart Muscle Diseases', 'Liver and Gallbladder Ailments', 'Intestinal Tract Disorders', 'Pancreatic Conditions', 'Respiratory Tract Issues', 'Bleeding Disorders', 'Infectious Agents and Genetic Factors', 'Malignant Tumors', 'Neoplastic Growths', 'Non-Malignant Growths', 'Central Nervous System Disorders', 'Neurological Symptoms', 'Degenerative Brain Conditions']\n"
     ]
    }
   ],
   "source": [
    "# Extract abstract concepts\n",
    "abstract_concepts = data_loader.get_abstract_concepts()\n",
    "abstract_concepts = [ac['abstract_concept_name'] for ac in abstract_concepts]\n",
    "print(abstract_concepts)"
   ]
  },
  {
   "cell_type": "code",
   "execution_count": 9,
   "id": "ccc8e13a",
   "metadata": {},
   "outputs": [],
   "source": [
    "# Import LabelEncoder for encoding labels\n",
    "from sklearn.preprocessing import LabelEncoder"
   ]
  },
  {
   "cell_type": "code",
   "execution_count": 10,
   "id": "ea1797b8",
   "metadata": {},
   "outputs": [],
   "source": [
    "# Encode labels in training and test data\n",
    "le = LabelEncoder()\n",
    "le.fit(train_df[label_column])\n",
    "train_df[label_column] = le.transform(train_df[label_column])\n",
    "test_df[label_column] = le.transform(test_df[label_column])"
   ]
  },
  {
   "cell_type": "code",
   "execution_count": 11,
   "id": "e7db2b7d",
   "metadata": {},
   "outputs": [
    {
     "name": "stdout",
     "output_type": "stream",
     "text": [
      "['cardiovascular diseases', 'digestive system diseases', 'general pathological conditions', 'neoplasms', 'nervous system diseases']\n"
     ]
    }
   ],
   "source": [
    "# Get the list of label names\n",
    "labels = list(le.classes_)\n",
    "print(labels)"
   ]
  },
  {
   "cell_type": "code",
   "execution_count": 12,
   "id": "6ce8535b",
   "metadata": {},
   "outputs": [],
   "source": [
    "# If in test mode, sample one example per label\n",
    "if is_test:\n",
    "    train_df = train_df.groupby(label_column).sample(5)\n",
    "    test_df = test_df.groupby(label_column).sample(5)"
   ]
  },
  {
   "cell_type": "code",
   "execution_count": 13,
   "id": "598efcac",
   "metadata": {},
   "outputs": [],
   "source": [
    "# Convert data to lists for training\n",
    "train_texts = train_df[text_column].to_list()\n",
    "train_labels = train_df[label_column].to_list()\n",
    "test_texts = test_df[text_column].to_list()\n",
    "test_labels = test_df[label_column].to_list()"
   ]
  },
  {
   "cell_type": "code",
   "execution_count": 14,
   "id": "ef67e457",
   "metadata": {},
   "outputs": [],
   "source": [
    "# Split training data into training and validation sets\n",
    "from sklearn.model_selection import train_test_split\n",
    "train_texts, val_texts, train_labels, val_labels = train_test_split(\n",
    "    train_texts, train_labels, test_size=0.2, random_state=42\n",
    ")"
   ]
  },
  {
   "cell_type": "code",
   "execution_count": 15,
   "id": "21c1ad43",
   "metadata": {},
   "outputs": [],
   "source": [
    "# Define paths for pre-trained NLI models\n",
    "keyword_nli_model_path = join_path(dataset, 'scorer_model', 'keyword_scorer')\n",
    "abstract_nli_model_path = join_path(dataset, 'scorer_model', 'abstract_scorer')"
   ]
  },
  {
   "cell_type": "code",
   "execution_count": 16,
   "id": "fe9d7a78",
   "metadata": {},
   "outputs": [],
   "source": [
    "# Import necessary libraries\n",
    "import torch\n",
    "import torch.nn as nn\n",
    "import torch.nn.functional as F\n",
    "import torch.optim as optim\n",
    "from transformers import BertTokenizer, BertForSequenceClassification\n",
    "from sentence_transformers import SentenceTransformer\n",
    "from torch.utils.data import DataLoader as TorchDataLoader, TensorDataset\n",
    "from torch.cuda.amp import GradScaler, autocast\n",
    "from sklearn.metrics import classification_report\n",
    "import matplotlib.pyplot as plt\n",
    "from tqdm import tqdm\n",
    "import numpy as np\n",
    "import networkx as nx\n",
    "from matplotlib import cm"
   ]
  },
  {
   "cell_type": "code",
   "execution_count": 17,
   "id": "0f5edb14",
   "metadata": {},
   "outputs": [],
   "source": [
    "def load_model(path):\n",
    "    \"\"\"Load a pre-trained BERT model and tokenizer from the specified path.\"\"\"\n",
    "    model = BertForSequenceClassification.from_pretrained(path)\n",
    "    tokenizer = BertTokenizer.from_pretrained(path)\n",
    "    return model, tokenizer"
   ]
  },
  {
   "cell_type": "code",
   "execution_count": 18,
   "id": "9a7c75ad",
   "metadata": {},
   "outputs": [
    {
     "data": {
      "text/plain": [
       "'cpu'"
      ]
     },
     "execution_count": 18,
     "metadata": {},
     "output_type": "execute_result"
    }
   ],
   "source": [
    "device = \"cuda\" if torch.cuda.is_available() else \"cpu\"\n",
    "device"
   ]
  },
  {
   "cell_type": "code",
   "execution_count": 19,
   "id": "1610ae05",
   "metadata": {},
   "outputs": [],
   "source": [
    "import warnings\n",
    "from transformers import logging\n",
    "\n",
    "# Tắt tất cả cảnh báo từ transformers\n",
    "logging.set_verbosity_error()\n",
    "\n",
    "# Hoặc tắt mọi cảnh báo Python (nếu muốn toàn cục)\n",
    "warnings.filterwarnings(\"ignore\")"
   ]
  },
  {
   "cell_type": "code",
   "execution_count": 20,
   "id": "cc74ca58",
   "metadata": {},
   "outputs": [],
   "source": [
    "def precompute_nli_scores(texts, concepts, tokenizer, model, device=device, batch_size=512):\n",
    "    \"\"\"\n",
    "    Precompute NLI scores for a list of texts against a list of concepts.\n",
    "    \n",
    "    Args:\n",
    "        texts (list): List of input texts to score.\n",
    "        concepts (list): List of concept names (keywords or abstract concepts).\n",
    "        tokenizer: BERT tokenizer for encoding text-concept pairs.\n",
    "        model: Pre-trained BERT model for NLI scoring.\n",
    "        device (str): Device to run computation ('cuda' or 'cpu').\n",
    "        batch_size (int): Number of texts to process per batch.\n",
    "    \n",
    "    Returns:\n",
    "        torch.Tensor: Tensor of shape [n_texts, n_concepts] with NLI entailment scores.\n",
    "    \"\"\"\n",
    "    # Move model to device and set to evaluation mode\n",
    "    model = model.to(device)\n",
    "    model.eval()\n",
    "    \n",
    "    # Initialize list to store scores for all texts\n",
    "    all_scores = []\n",
    "    \n",
    "    # Process texts in batches to reduce memory usage\n",
    "    for i in range(0, len(texts), batch_size):\n",
    "        batch_texts = texts[i:i + batch_size]\n",
    "        batch_scores = []\n",
    "        \n",
    "        # Compute NLI scores for each concept\n",
    "        for concept in concepts:\n",
    "            # Tokenize batch of text-concept pairs\n",
    "            inputs = tokenizer(batch_texts, [concept] * len(batch_texts),\n",
    "                              return_tensors='pt', padding=True, truncation=True, max_length=512)\n",
    "            inputs = {key: val.to(device) for key, val in inputs.items()}\n",
    "            \n",
    "            # Run model without gradient computation\n",
    "            with torch.no_grad():\n",
    "                outputs = model(**inputs)\n",
    "                probs = torch.softmax(outputs.logits, dim=-1)\n",
    "                # Extract entailment scores (index 1 in NLI output)\n",
    "                batch_scores.append(probs[:, 1].cpu())\n",
    "        \n",
    "        # Stack scores for all concepts in this batch: [batch_size, n_concepts]\n",
    "        all_scores.append(torch.stack(batch_scores, dim=1))\n",
    "    \n",
    "    # Concatenate all batch scores into a single tensor: [n_texts, n_concepts]\n",
    "    return torch.cat(all_scores, dim=0)\n",
    "\n",
    "# Load models and tokenizers\n",
    "device = 'cuda' if torch.cuda.is_available() else 'cpu'\n",
    "keyword_scorer, keyword_tokenizer = load_model(keyword_nli_model_path)\n",
    "abstract_scorer, abstract_tokenizer = load_model(abstract_nli_model_path)\n",
    "\n",
    "# Precompute scores for train, validation, and test sets\n",
    "train_keyword_scores = precompute_nli_scores(train_texts, keywords, keyword_tokenizer, keyword_scorer, device)\n",
    "train_abstract_scores = precompute_nli_scores(train_texts, abstract_concepts, abstract_tokenizer, abstract_scorer, device)\n",
    "val_keyword_scores = precompute_nli_scores(val_texts, keywords, keyword_tokenizer, keyword_scorer, device)\n",
    "val_abstract_scores = precompute_nli_scores(val_texts, abstract_concepts, abstract_tokenizer, abstract_scorer, device)\n",
    "test_keyword_scores = precompute_nli_scores(test_texts, keywords, keyword_tokenizer, keyword_scorer, device)\n",
    "test_abstract_scores = precompute_nli_scores(test_texts, abstract_concepts, abstract_tokenizer, abstract_scorer, device)"
   ]
  },
  {
   "cell_type": "code",
   "execution_count": 21,
   "id": "75447f27",
   "metadata": {},
   "outputs": [],
   "source": [
    "class ConceptNetwork(nn.Module):\n",
    "    \"\"\"\n",
    "    A neural network that models relationships between keywords, abstract concepts, and labels.\n",
    "    Uses precomputed NLI scores and learnable embeddings to make predictions.\n",
    "    \"\"\"\n",
    "    def __init__(self, concept_names, embedding_dim=128):\n",
    "        \"\"\"\n",
    "        Args:\n",
    "            concept_names (list): List of [keywords, abstract_concepts, labels].\n",
    "            embedding_dim (int): Dimension of concept embeddings.\n",
    "        \"\"\"\n",
    "        super(ConceptNetwork, self).__init__()\n",
    "        self.embedding_dim = embedding_dim\n",
    "        self.keywords, self.abstract_concepts, self.labels = concept_names\n",
    "        \n",
    "        # Learnable embeddings for keywords, abstract concepts, and labels\n",
    "        self.keyword_embeddings = nn.Parameter(torch.randn(len(self.keywords), embedding_dim))\n",
    "        self.abstract_embeddings = nn.Parameter(torch.randn(len(self.abstract_concepts), embedding_dim))\n",
    "        self.label_embeddings = nn.Parameter(torch.randn(len(self.labels), embedding_dim))\n",
    "        \n",
    "        # Learnable reliability weights (betas) for combining direct and relational scores\n",
    "        self.keyword_betas = nn.Parameter(torch.zeros(len(self.keywords)))\n",
    "        self.abstract_betas = nn.Parameter(torch.zeros(len(self.abstract_concepts)))\n",
    "        \n",
    "        # Linear layer to predict semantic embeddings (for SBERT alignment)\n",
    "        self.semantic_predictor = nn.Linear(embedding_dim, 384)  # SBERT output dimension\n",
    "    \n",
    "    def forward(self, keyword_scores, abstract_scores):\n",
    "        \"\"\"\n",
    "        Forward pass of the network.\n",
    "        \n",
    "        Args:\n",
    "            keyword_scores (torch.Tensor): Precomputed NLI scores for keywords [batch_size, n_keywords].\n",
    "            abstract_scores (torch.Tensor): Precomputed NLI scores for abstract concepts [batch_size, n_abstracts].\n",
    "        \n",
    "        Returns:\n",
    "            tuple: (predictions, keyword_semantic, abstract_semantic, label_semantic, keyword_scores, abstract_scores)\n",
    "                - predictions: Predicted label probabilities [batch_size, n_labels].\n",
    "                - keyword_semantic: Semantic embeddings for keywords [n_keywords, 384].\n",
    "                - abstract_semantic: Semantic embeddings for abstract concepts [n_abstracts, 384].\n",
    "                - label_semantic: Semantic embeddings for labels [n_labels, 384].\n",
    "                - keyword_scores: Input keyword scores (passed through).\n",
    "                - abstract_scores: Computed abstract scores.\n",
    "        \"\"\"\n",
    "        # Step 1: Keyword layer (use precomputed NLI scores directly)\n",
    "        # Shape: [batch_size, n_keywords]\n",
    "        \n",
    "        # Step 2: Abstract layer (combine direct NLI scores with keyword-based relational scores)\n",
    "        # Compute attention between keyword and abstract embeddings\n",
    "        attn_kw_abs = torch.matmul(self.keyword_embeddings, self.abstract_embeddings.T)  # [n_keywords, n_abstracts]\n",
    "        attn_kw_abs = torch.softmax(attn_kw_abs, dim=0)  # Normalize over keywords\n",
    "        relation_kw_abs = torch.matmul(keyword_scores, attn_kw_abs)  # [batch_size, n_abstracts]\n",
    "        \n",
    "        # Combine direct and relational scores using learnable betas\n",
    "        abstract_betas = torch.sigmoid(self.abstract_betas)  # [n_abstracts]\n",
    "        abstract_scores = abstract_scores * abstract_betas + relation_kw_abs * (1 - abstract_betas)\n",
    "        \n",
    "        # Step 3: Label layer (compute predictions using abstract-to-label attention)\n",
    "        attn_abs_lbl = torch.matmul(self.abstract_embeddings, self.label_embeddings.T)  # [n_abstracts, n_labels]\n",
    "        attn_abs_lbl = torch.softmax(attn_abs_lbl, dim=0)  # Normalize over abstract concepts\n",
    "        predictions = torch.matmul(abstract_scores, attn_abs_lbl)  # [batch_size, n_labels]\n",
    "        \n",
    "        # Step 4: Semantic predictions (for SBERT alignment)\n",
    "        keyword_semantic = self.semantic_predictor(self.keyword_embeddings)  # [n_keywords, 384]\n",
    "        abstract_semantic = self.semantic_predictor(self.abstract_embeddings)  # [n_abstracts, 384]\n",
    "        label_semantic = self.semantic_predictor(self.label_embeddings)  # [n_labels, 384]\n",
    "        \n",
    "        return predictions, keyword_semantic, abstract_semantic, label_semantic, keyword_scores, abstract_scores"
   ]
  },
  {
   "cell_type": "code",
   "execution_count": null,
   "id": "7309584d",
   "metadata": {},
   "outputs": [],
   "source": [
    "def train_model(model, train_keyword_scores, train_abstract_scores, train_labels,\n",
    "                val_keyword_scores, val_abstract_scores, val_labels,\n",
    "                concept_names, sbert_embeddings, batch_size=32, num_epochs=50,\n",
    "                patience=5, lambda_semantic=0.1, device=device):\n",
    "    \"\"\"\n",
    "    Train the ConceptNetwork model with precomputed NLI scores and SBERT embeddings.\n",
    "    \n",
    "    Args:\n",
    "        model (nn.Module): The ConceptNetwork model.\n",
    "        train_keyword_scores (torch.Tensor): Precomputed keyword NLI scores for training texts.\n",
    "        train_abstract_scores (torch.Tensor): Precomputed abstract NLI scores for training texts.\n",
    "        train_labels (list): Training labels.\n",
    "        val_keyword_scores (torch.Tensor): Precomputed keyword NLI scores for validation texts.\n",
    "        val_abstract_scores (torch.Tensor): Precomputed abstract NLI scores for validation texts.\n",
    "        val_labels (list): Validation labels.\n",
    "        concept_names (list): List of [keywords, abstract_concepts, labels].\n",
    "        sbert_embeddings (list): SBERT embeddings for keywords, abstract concepts, and labels.\n",
    "        batch_size (int): Batch size for training.\n",
    "        num_epochs (int): Number of training epochs.\n",
    "        patience (int): Number of epochs to wait for early stopping.\n",
    "        lambda_semantic (float): Weight for semantic loss.\n",
    "        device (str): Device to run training ('cuda' or 'cpu').\n",
    "    \n",
    "    Returns:\n",
    "        tuple: (train_losses, val_losses) - Lists of training and validation losses per epoch.\n",
    "    \"\"\"\n",
    "    # Move model to device\n",
    "    model = model.to(device)\n",
    "    \n",
    "    # Initialize optimizer, loss functions, and mixed precision scaler\n",
    "    optimizer = torch.optim.Adam(model.parameters(), lr=1e-3)\n",
    "    classification_loss = nn.CrossEntropyLoss()\n",
    "    semantic_loss_fn = nn.MSELoss()\n",
    "    scaler = GradScaler()\n",
    "    \n",
    "    # Convert SBERT embeddings to tensors\n",
    "    sbert_tensors = [torch.tensor(arr, device=device, dtype=torch.float32) for arr in sbert_embeddings]\n",
    "    \n",
    "    # Create DataLoaders for training and validation\n",
    "    train_dataset = TensorDataset(train_keyword_scores, train_abstract_scores, torch.tensor(train_labels, dtype=torch.long))\n",
    "    train_loader = TorchDataLoader(train_dataset, batch_size=batch_size, shuffle=True, num_workers=4, pin_memory=True)\n",
    "    \n",
    "    val_dataset = TensorDataset(val_keyword_scores, val_abstract_scores, torch.tensor(val_labels, dtype=torch.long))\n",
    "    val_loader = TorchDataLoader(val_dataset, batch_size=batch_size, num_workers=4, pin_memory=True)\n",
    "    \n",
    "    # Track losses and early stopping\n",
    "    train_losses = []\n",
    "    val_losses = []\n",
    "    best_val_loss = float('inf')\n",
    "    patience_counter = 0\n",
    "    \n",
    "    for epoch in range(num_epochs):\n",
    "        # Training loop\n",
    "        model.train()\n",
    "        epoch_train_loss = 0\n",
    "        for batch_keyword_scores, batch_abstract_scores, batch_labels in tqdm(train_loader, desc=f\"Epoch {epoch+1}\"):\n",
    "            # Move batch to device\n",
    "            batch_keyword_scores = batch_keyword_scores.to(device)\n",
    "            batch_abstract_scores = batch_abstract_scores.to(device)\n",
    "            batch_labels = batch_labels.to(device)\n",
    "            \n",
    "            # Forward pass with mixed precision\n",
    "            optimizer.zero_grad()\n",
    "            with autocast():\n",
    "                predictions, keyword_semantic, abstract_semantic, label_semantic, _, _ = model(\n",
    "                    batch_keyword_scores, batch_abstract_scores\n",
    "                )\n",
    "                # Compute classification loss\n",
    "                pred_loss = classification_loss(predictions, batch_labels)\n",
    "                # Compute semantic loss (align embeddings with SBERT)\n",
    "                semantic_loss = sum(semantic_loss_fn(emb, sbert_tensors[i]) for i, emb in enumerate(\n",
    "                    [keyword_semantic, abstract_semantic, label_semantic]\n",
    "                ))\n",
    "                # Combine losses\n",
    "                total_loss = pred_loss + lambda_semantic * semantic_loss\n",
    "            \n",
    "            # Backward pass with mixed precision\n",
    "            scaler.scale(total_loss).backward()\n",
    "            scaler.step(optimizer)\n",
    "            scaler.update()\n",
    "            epoch_train_loss += total_loss.item()\n",
    "        \n",
    "        # Average training loss for the epoch\n",
    "        avg_train_loss = epoch_train_loss / len(train_loader)\n",
    "        train_losses.append(avg_train_loss)\n",
    "        \n",
    "        # Validation loop\n",
    "        model.eval()\n",
    "        val_loss = 0\n",
    "        with torch.no_grad():\n",
    "            for batch_keyword_scores, batch_abstract_scores, batch_labels in val_loader:\n",
    "                # Move batch to device\n",
    "                batch_keyword_scores = batch_keyword_scores.to(device)\n",
    "                batch_abstract_scores = batch_abstract_scores.to(device)\n",
    "                batch_labels = batch_labels.to(device)\n",
    "                \n",
    "                with autocast():\n",
    "                    predictions, keyword_semantic, abstract_semantic, label_semantic, _, _ = model(\n",
    "                        batch_keyword_scores, batch_abstract_scores\n",
    "                    )\n",
    "                    # Compute classification loss\n",
    "                    pred_loss = classification_loss(predictions, batch_labels)\n",
    "                    # Compute semantic loss (align embeddings with SBERT)\n",
    "                    semantic_loss = sum(semantic_loss_fn(emb, sbert_tensors[i]) for i, emb in enumerate(\n",
    "                        [keyword_semantic, abstract_semantic, label_semantic]\n",
    "                    ))\n",
    "                    # Combine losses\n",
    "                    total_loss = pred_loss + lambda_semantic * semantic_loss\n",
    "                    val_loss += total_loss.item()\n",
    "        \n",
    "        # Average validation loss for the epoch\n",
    "        avg_val_loss = val_loss / len(val_loader)\n",
    "        val_losses.append(avg_val_loss)\n",
    "        \n",
    "        print(f\"Epoch {epoch+1}, Train Loss: {avg_train_loss:.4f}, Val Loss: {avg_val_loss:.4f}\")\n",
    "        \n",
    "        # Early stopping\n",
    "        if avg_val_loss < best_val_loss:\n",
    "            best_val_loss = avg_val_loss\n",
    "            patience_counter = 0\n",
    "            torch.save(model.state_dict(), 'best_model.pt')\n",
    "            print(\"Saved new best model.\")\n",
    "        else:\n",
    "            patience_counter += 1\n",
    "            if patience_counter >= patience:\n",
    "                print(\"Early stopping triggered.\")\n",
    "                break\n",
    "\n",
    "    model.load_state_dict(torch.load('best_model.pt'))\n",
    "    print(\"Loaded best model from 'best_model.pt'.\")\n",
    "    \n",
    "    # Plot training and validation losses\n",
    "    plt.figure(figsize=(10, 5))\n",
    "    plt.plot(train_losses, label='Training Loss')\n",
    "    plt.plot(val_losses, label='Validation Loss')\n",
    "    plt.xlabel('Epoch')\n",
    "    plt.ylabel('Loss')\n",
    "    plt.title('Training vs Validation Loss')\n",
    "    plt.legend()\n",
    "    plt.grid(True)\n",
    "    plt.savefig('loss_plot.png')\n",
    "    plt.show()\n",
    "    plt.close()\n",
    "    \n",
    "    return train_losses, val_losses"
   ]
  },
  {
   "cell_type": "code",
   "execution_count": 23,
   "id": "3eec7622",
   "metadata": {},
   "outputs": [],
   "source": [
    "import os\n",
    "os.environ[\"TOKENIZERS_PARALLELISM\"] = \"false\""
   ]
  },
  {
   "cell_type": "code",
   "execution_count": 24,
   "id": "f5de08c7",
   "metadata": {},
   "outputs": [
    {
     "name": "stderr",
     "output_type": "stream",
     "text": [
      "Epoch 1: 100%|██████████| 1/1 [00:02<00:00,  2.02s/it]\n"
     ]
    },
    {
     "name": "stdout",
     "output_type": "stream",
     "text": [
      "Epoch 1, Train Loss: 1.7185, Val Loss: 1.6934\n",
      "Saved new best model.\n"
     ]
    },
    {
     "name": "stderr",
     "output_type": "stream",
     "text": [
      "Epoch 2: 100%|██████████| 1/1 [00:01<00:00,  1.32s/it]\n"
     ]
    },
    {
     "name": "stdout",
     "output_type": "stream",
     "text": [
      "Epoch 2, Train Loss: 1.7108, Val Loss: 1.6868\n",
      "Saved new best model.\n"
     ]
    },
    {
     "name": "stderr",
     "output_type": "stream",
     "text": [
      "Epoch 3: 100%|██████████| 1/1 [00:00<00:00,  1.00it/s]\n"
     ]
    },
    {
     "name": "stdout",
     "output_type": "stream",
     "text": [
      "Epoch 3, Train Loss: 1.7035, Val Loss: 1.6806\n",
      "Saved new best model.\n"
     ]
    },
    {
     "name": "stderr",
     "output_type": "stream",
     "text": [
      "Epoch 4: 100%|██████████| 1/1 [00:01<00:00,  1.13s/it]\n"
     ]
    },
    {
     "name": "stdout",
     "output_type": "stream",
     "text": [
      "Epoch 4, Train Loss: 1.6963, Val Loss: 1.6749\n",
      "Saved new best model.\n"
     ]
    },
    {
     "name": "stderr",
     "output_type": "stream",
     "text": [
      "Epoch 5: 100%|██████████| 1/1 [00:00<00:00,  1.01it/s]\n"
     ]
    },
    {
     "name": "stdout",
     "output_type": "stream",
     "text": [
      "Epoch 5, Train Loss: 1.6895, Val Loss: 1.6696\n",
      "Saved new best model.\n"
     ]
    },
    {
     "name": "stderr",
     "output_type": "stream",
     "text": [
      "Epoch 6: 100%|██████████| 1/1 [00:00<00:00,  1.02it/s]\n"
     ]
    },
    {
     "name": "stdout",
     "output_type": "stream",
     "text": [
      "Epoch 6, Train Loss: 1.6829, Val Loss: 1.6648\n",
      "Saved new best model.\n"
     ]
    },
    {
     "name": "stderr",
     "output_type": "stream",
     "text": [
      "Epoch 7: 100%|██████████| 1/1 [00:01<00:00,  1.23s/it]\n"
     ]
    },
    {
     "name": "stdout",
     "output_type": "stream",
     "text": [
      "Epoch 7, Train Loss: 1.6766, Val Loss: 1.6605\n",
      "Saved new best model.\n"
     ]
    },
    {
     "name": "stderr",
     "output_type": "stream",
     "text": [
      "Epoch 8: 100%|██████████| 1/1 [00:01<00:00,  1.00s/it]\n"
     ]
    },
    {
     "name": "stdout",
     "output_type": "stream",
     "text": [
      "Epoch 8, Train Loss: 1.6706, Val Loss: 1.6565\n",
      "Saved new best model.\n"
     ]
    },
    {
     "name": "stderr",
     "output_type": "stream",
     "text": [
      "Epoch 9: 100%|██████████| 1/1 [00:01<00:00,  1.07s/it]\n"
     ]
    },
    {
     "name": "stdout",
     "output_type": "stream",
     "text": [
      "Epoch 9, Train Loss: 1.6650, Val Loss: 1.6529\n",
      "Saved new best model.\n"
     ]
    },
    {
     "name": "stderr",
     "output_type": "stream",
     "text": [
      "Epoch 10: 100%|██████████| 1/1 [00:01<00:00,  1.06s/it]\n"
     ]
    },
    {
     "name": "stdout",
     "output_type": "stream",
     "text": [
      "Epoch 10, Train Loss: 1.6597, Val Loss: 1.6496\n",
      "Saved new best model.\n"
     ]
    },
    {
     "name": "stderr",
     "output_type": "stream",
     "text": [
      "Epoch 11: 100%|██████████| 1/1 [00:00<00:00,  1.01it/s]\n"
     ]
    },
    {
     "name": "stdout",
     "output_type": "stream",
     "text": [
      "Epoch 11, Train Loss: 1.6548, Val Loss: 1.6465\n",
      "Saved new best model.\n"
     ]
    },
    {
     "name": "stderr",
     "output_type": "stream",
     "text": [
      "Epoch 12: 100%|██████████| 1/1 [00:00<00:00,  1.03it/s]\n"
     ]
    },
    {
     "name": "stdout",
     "output_type": "stream",
     "text": [
      "Epoch 12, Train Loss: 1.6503, Val Loss: 1.6437\n",
      "Saved new best model.\n"
     ]
    },
    {
     "name": "stderr",
     "output_type": "stream",
     "text": [
      "Epoch 13: 100%|██████████| 1/1 [00:00<00:00,  1.04it/s]\n"
     ]
    },
    {
     "name": "stdout",
     "output_type": "stream",
     "text": [
      "Epoch 13, Train Loss: 1.6460, Val Loss: 1.6411\n",
      "Saved new best model.\n"
     ]
    },
    {
     "name": "stderr",
     "output_type": "stream",
     "text": [
      "Epoch 14: 100%|██████████| 1/1 [00:00<00:00,  1.04it/s]\n"
     ]
    },
    {
     "name": "stdout",
     "output_type": "stream",
     "text": [
      "Epoch 14, Train Loss: 1.6421, Val Loss: 1.6386\n",
      "Saved new best model.\n"
     ]
    },
    {
     "name": "stderr",
     "output_type": "stream",
     "text": [
      "Epoch 15: 100%|██████████| 1/1 [00:01<00:00,  1.14s/it]\n"
     ]
    },
    {
     "name": "stdout",
     "output_type": "stream",
     "text": [
      "Epoch 15, Train Loss: 1.6383, Val Loss: 1.6362\n",
      "Saved new best model.\n"
     ]
    },
    {
     "name": "stderr",
     "output_type": "stream",
     "text": [
      "Epoch 16: 100%|██████████| 1/1 [00:01<00:00,  1.02s/it]\n"
     ]
    },
    {
     "name": "stdout",
     "output_type": "stream",
     "text": [
      "Epoch 16, Train Loss: 1.6347, Val Loss: 1.6340\n",
      "Saved new best model.\n"
     ]
    },
    {
     "name": "stderr",
     "output_type": "stream",
     "text": [
      "Epoch 17: 100%|██████████| 1/1 [00:01<00:00,  1.08s/it]\n"
     ]
    },
    {
     "name": "stdout",
     "output_type": "stream",
     "text": [
      "Epoch 17, Train Loss: 1.6311, Val Loss: 1.6318\n",
      "Saved new best model.\n"
     ]
    },
    {
     "name": "stderr",
     "output_type": "stream",
     "text": [
      "Epoch 18: 100%|██████████| 1/1 [00:00<00:00,  1.02it/s]\n"
     ]
    },
    {
     "name": "stdout",
     "output_type": "stream",
     "text": [
      "Epoch 18, Train Loss: 1.6275, Val Loss: 1.6298\n",
      "Saved new best model.\n"
     ]
    },
    {
     "name": "stderr",
     "output_type": "stream",
     "text": [
      "Epoch 19: 100%|██████████| 1/1 [00:01<00:00,  1.02s/it]\n"
     ]
    },
    {
     "name": "stdout",
     "output_type": "stream",
     "text": [
      "Epoch 19, Train Loss: 1.6238, Val Loss: 1.6278\n",
      "Saved new best model.\n"
     ]
    },
    {
     "name": "stderr",
     "output_type": "stream",
     "text": [
      "Epoch 20: 100%|██████████| 1/1 [00:01<00:00,  1.08s/it]\n"
     ]
    },
    {
     "name": "stdout",
     "output_type": "stream",
     "text": [
      "Epoch 20, Train Loss: 1.6199, Val Loss: 1.6258\n",
      "Saved new best model.\n"
     ]
    },
    {
     "name": "stderr",
     "output_type": "stream",
     "text": [
      "Epoch 21: 100%|██████████| 1/1 [00:01<00:00,  1.09s/it]\n"
     ]
    },
    {
     "name": "stdout",
     "output_type": "stream",
     "text": [
      "Epoch 21, Train Loss: 1.6158, Val Loss: 1.6239\n",
      "Saved new best model.\n"
     ]
    },
    {
     "name": "stderr",
     "output_type": "stream",
     "text": [
      "Epoch 22: 100%|██████████| 1/1 [00:01<00:00,  1.08s/it]\n"
     ]
    },
    {
     "name": "stdout",
     "output_type": "stream",
     "text": [
      "Epoch 22, Train Loss: 1.6114, Val Loss: 1.6221\n",
      "Saved new best model.\n"
     ]
    },
    {
     "name": "stderr",
     "output_type": "stream",
     "text": [
      "Epoch 23: 100%|██████████| 1/1 [00:00<00:00,  1.06it/s]\n"
     ]
    },
    {
     "name": "stdout",
     "output_type": "stream",
     "text": [
      "Epoch 23, Train Loss: 1.6071, Val Loss: 1.6203\n",
      "Saved new best model.\n"
     ]
    },
    {
     "name": "stderr",
     "output_type": "stream",
     "text": [
      "Epoch 24: 100%|██████████| 1/1 [00:00<00:00,  1.05it/s]\n"
     ]
    },
    {
     "name": "stdout",
     "output_type": "stream",
     "text": [
      "Epoch 24, Train Loss: 1.6028, Val Loss: 1.6186\n",
      "Saved new best model.\n"
     ]
    },
    {
     "name": "stderr",
     "output_type": "stream",
     "text": [
      "Epoch 25: 100%|██████████| 1/1 [00:01<00:00,  1.25s/it]\n"
     ]
    },
    {
     "name": "stdout",
     "output_type": "stream",
     "text": [
      "Epoch 25, Train Loss: 1.5987, Val Loss: 1.6170\n",
      "Saved new best model.\n"
     ]
    },
    {
     "name": "stderr",
     "output_type": "stream",
     "text": [
      "Epoch 26: 100%|██████████| 1/1 [00:00<00:00,  1.02it/s]\n"
     ]
    },
    {
     "name": "stdout",
     "output_type": "stream",
     "text": [
      "Epoch 26, Train Loss: 1.5951, Val Loss: 1.6154\n",
      "Saved new best model.\n"
     ]
    },
    {
     "name": "stderr",
     "output_type": "stream",
     "text": [
      "Epoch 27: 100%|██████████| 1/1 [00:01<00:00,  1.09s/it]\n"
     ]
    },
    {
     "name": "stdout",
     "output_type": "stream",
     "text": [
      "Epoch 27, Train Loss: 1.5919, Val Loss: 1.6138\n",
      "Saved new best model.\n"
     ]
    },
    {
     "name": "stderr",
     "output_type": "stream",
     "text": [
      "Epoch 28: 100%|██████████| 1/1 [00:01<00:00,  1.06s/it]\n"
     ]
    },
    {
     "name": "stdout",
     "output_type": "stream",
     "text": [
      "Epoch 28, Train Loss: 1.5891, Val Loss: 1.6122\n",
      "Saved new best model.\n"
     ]
    },
    {
     "name": "stderr",
     "output_type": "stream",
     "text": [
      "Epoch 29: 100%|██████████| 1/1 [00:01<00:00,  1.22s/it]\n"
     ]
    },
    {
     "name": "stdout",
     "output_type": "stream",
     "text": [
      "Epoch 29, Train Loss: 1.5867, Val Loss: 1.6105\n",
      "Saved new best model.\n"
     ]
    },
    {
     "name": "stderr",
     "output_type": "stream",
     "text": [
      "Epoch 30: 100%|██████████| 1/1 [00:00<00:00,  1.05it/s]\n"
     ]
    },
    {
     "name": "stdout",
     "output_type": "stream",
     "text": [
      "Epoch 30, Train Loss: 1.5844, Val Loss: 1.6087\n",
      "Saved new best model.\n"
     ]
    },
    {
     "name": "stderr",
     "output_type": "stream",
     "text": [
      "Epoch 31: 100%|██████████| 1/1 [00:00<00:00,  1.05it/s]\n"
     ]
    },
    {
     "name": "stdout",
     "output_type": "stream",
     "text": [
      "Epoch 31, Train Loss: 1.5823, Val Loss: 1.6069\n",
      "Saved new best model.\n"
     ]
    },
    {
     "name": "stderr",
     "output_type": "stream",
     "text": [
      "Epoch 32: 100%|██████████| 1/1 [00:01<00:00,  1.04s/it]\n"
     ]
    },
    {
     "name": "stdout",
     "output_type": "stream",
     "text": [
      "Epoch 32, Train Loss: 1.5803, Val Loss: 1.6051\n",
      "Saved new best model.\n"
     ]
    },
    {
     "name": "stderr",
     "output_type": "stream",
     "text": [
      "Epoch 33: 100%|██████████| 1/1 [00:00<00:00,  1.04it/s]\n"
     ]
    },
    {
     "name": "stdout",
     "output_type": "stream",
     "text": [
      "Epoch 33, Train Loss: 1.5784, Val Loss: 1.6035\n",
      "Saved new best model.\n"
     ]
    },
    {
     "name": "stderr",
     "output_type": "stream",
     "text": [
      "Epoch 34: 100%|██████████| 1/1 [00:01<00:00,  1.80s/it]\n"
     ]
    },
    {
     "name": "stdout",
     "output_type": "stream",
     "text": [
      "Epoch 34, Train Loss: 1.5767, Val Loss: 1.6021\n",
      "Saved new best model.\n"
     ]
    },
    {
     "name": "stderr",
     "output_type": "stream",
     "text": [
      "Epoch 35: 100%|██████████| 1/1 [00:01<00:00,  1.37s/it]\n"
     ]
    },
    {
     "name": "stdout",
     "output_type": "stream",
     "text": [
      "Epoch 35, Train Loss: 1.5752, Val Loss: 1.6009\n",
      "Saved new best model.\n"
     ]
    },
    {
     "name": "stderr",
     "output_type": "stream",
     "text": [
      "Epoch 36: 100%|██████████| 1/1 [00:01<00:00,  1.22s/it]\n"
     ]
    },
    {
     "name": "stdout",
     "output_type": "stream",
     "text": [
      "Epoch 36, Train Loss: 1.5739, Val Loss: 1.5999\n",
      "Saved new best model.\n"
     ]
    },
    {
     "name": "stderr",
     "output_type": "stream",
     "text": [
      "Epoch 37: 100%|██████████| 1/1 [00:01<00:00,  1.21s/it]\n"
     ]
    },
    {
     "name": "stdout",
     "output_type": "stream",
     "text": [
      "Epoch 37, Train Loss: 1.5729, Val Loss: 1.5991\n",
      "Saved new best model.\n"
     ]
    },
    {
     "name": "stderr",
     "output_type": "stream",
     "text": [
      "Epoch 38: 100%|██████████| 1/1 [00:01<00:00,  1.03s/it]\n"
     ]
    },
    {
     "name": "stdout",
     "output_type": "stream",
     "text": [
      "Epoch 38, Train Loss: 1.5720, Val Loss: 1.5984\n",
      "Saved new best model.\n"
     ]
    },
    {
     "name": "stderr",
     "output_type": "stream",
     "text": [
      "Epoch 39: 100%|██████████| 1/1 [00:01<00:00,  1.04s/it]\n"
     ]
    },
    {
     "name": "stdout",
     "output_type": "stream",
     "text": [
      "Epoch 39, Train Loss: 1.5712, Val Loss: 1.5979\n",
      "Saved new best model.\n"
     ]
    },
    {
     "name": "stderr",
     "output_type": "stream",
     "text": [
      "Epoch 40: 100%|██████████| 1/1 [00:01<00:00,  1.28s/it]\n"
     ]
    },
    {
     "name": "stdout",
     "output_type": "stream",
     "text": [
      "Epoch 40, Train Loss: 1.5706, Val Loss: 1.5974\n",
      "Saved new best model.\n"
     ]
    },
    {
     "name": "stderr",
     "output_type": "stream",
     "text": [
      "Epoch 41: 100%|██████████| 1/1 [00:01<00:00,  1.06s/it]\n"
     ]
    },
    {
     "name": "stdout",
     "output_type": "stream",
     "text": [
      "Epoch 41, Train Loss: 1.5701, Val Loss: 1.5970\n",
      "Saved new best model.\n"
     ]
    },
    {
     "name": "stderr",
     "output_type": "stream",
     "text": [
      "Epoch 42: 100%|██████████| 1/1 [00:01<00:00,  1.69s/it]\n"
     ]
    },
    {
     "name": "stdout",
     "output_type": "stream",
     "text": [
      "Epoch 42, Train Loss: 1.5696, Val Loss: 1.5967\n",
      "Saved new best model.\n"
     ]
    },
    {
     "name": "stderr",
     "output_type": "stream",
     "text": [
      "Epoch 43: 100%|██████████| 1/1 [00:01<00:00,  1.20s/it]\n"
     ]
    },
    {
     "name": "stdout",
     "output_type": "stream",
     "text": [
      "Epoch 43, Train Loss: 1.5691, Val Loss: 1.5964\n",
      "Saved new best model.\n"
     ]
    },
    {
     "name": "stderr",
     "output_type": "stream",
     "text": [
      "Epoch 44: 100%|██████████| 1/1 [00:01<00:00,  1.14s/it]\n"
     ]
    },
    {
     "name": "stdout",
     "output_type": "stream",
     "text": [
      "Epoch 44, Train Loss: 1.5687, Val Loss: 1.5961\n",
      "Saved new best model.\n"
     ]
    },
    {
     "name": "stderr",
     "output_type": "stream",
     "text": [
      "Epoch 45: 100%|██████████| 1/1 [00:01<00:00,  1.07s/it]\n"
     ]
    },
    {
     "name": "stdout",
     "output_type": "stream",
     "text": [
      "Epoch 45, Train Loss: 1.5683, Val Loss: 1.5959\n",
      "Saved new best model.\n"
     ]
    },
    {
     "name": "stderr",
     "output_type": "stream",
     "text": [
      "Epoch 46: 100%|██████████| 1/1 [00:01<00:00,  1.25s/it]\n"
     ]
    },
    {
     "name": "stdout",
     "output_type": "stream",
     "text": [
      "Epoch 46, Train Loss: 1.5680, Val Loss: 1.5957\n",
      "Saved new best model.\n"
     ]
    },
    {
     "name": "stderr",
     "output_type": "stream",
     "text": [
      "Epoch 47: 100%|██████████| 1/1 [00:01<00:00,  1.08s/it]\n"
     ]
    },
    {
     "name": "stdout",
     "output_type": "stream",
     "text": [
      "Epoch 47, Train Loss: 1.5677, Val Loss: 1.5955\n",
      "Saved new best model.\n"
     ]
    },
    {
     "name": "stderr",
     "output_type": "stream",
     "text": [
      "Epoch 48: 100%|██████████| 1/1 [00:00<00:00,  1.05it/s]\n"
     ]
    },
    {
     "name": "stdout",
     "output_type": "stream",
     "text": [
      "Epoch 48, Train Loss: 1.5674, Val Loss: 1.5953\n",
      "Saved new best model.\n"
     ]
    },
    {
     "name": "stderr",
     "output_type": "stream",
     "text": [
      "Epoch 49: 100%|██████████| 1/1 [00:01<00:00,  1.10s/it]\n"
     ]
    },
    {
     "name": "stdout",
     "output_type": "stream",
     "text": [
      "Epoch 49, Train Loss: 1.5671, Val Loss: 1.5951\n",
      "Saved new best model.\n"
     ]
    },
    {
     "name": "stderr",
     "output_type": "stream",
     "text": [
      "Epoch 50: 100%|██████████| 1/1 [00:01<00:00,  1.02s/it]\n"
     ]
    },
    {
     "name": "stdout",
     "output_type": "stream",
     "text": [
      "Epoch 50, Train Loss: 1.5669, Val Loss: 1.5949\n",
      "Saved new best model.\n"
     ]
    },
    {
     "data": {
      "image/png": "[encoded data removed]",
      "text/plain": [
       "<Figure size 1000x500 with 1 Axes>"
      ]
     },
     "metadata": {},
     "output_type": "display_data"
    }
   ],
   "source": [
    "# Initialize SentenceTransformer for SBERT embeddings\n",
    "sbert_model = SentenceTransformer('all-MiniLM-L6-v2')\n",
    "\n",
    "# Compute SBERT embeddings for concepts\n",
    "keyword_sbert = sbert_model.encode(keywords)\n",
    "abstract_sbert = sbert_model.encode(abstract_concepts)\n",
    "label_sbert = sbert_model.encode(labels)\n",
    "sbert_embeddings = [keyword_sbert, abstract_sbert, label_sbert]\n",
    "\n",
    "# Initialize and train the model\n",
    "concept_names = [keywords, abstract_concepts, labels]\n",
    "model = ConceptNetwork(concept_names)\n",
    "train_losses, val_losses = train_model(\n",
    "    model, train_keyword_scores, train_abstract_scores, train_labels,\n",
    "    val_keyword_scores, val_abstract_scores, val_labels,\n",
    "    concept_names, sbert_embeddings\n",
    ")"
   ]
  },
  {
   "cell_type": "code",
   "execution_count": 25,
   "id": "2ceef439",
   "metadata": {},
   "outputs": [],
   "source": [
    "def test_model(model, test_keyword_scores, test_abstract_scores, test_labels, concept_names, batch_size=32, device=device):\n",
    "    \"\"\"\n",
    "    Test the ConceptNetwork model on the test set.\n",
    "    \n",
    "    Args:\n",
    "        model (nn.Module): The trained ConceptNetwork model.\n",
    "        test_keyword_scores (torch.Tensor): Precomputed keyword NLI scores for test texts.\n",
    "        test_abstract_scores (torch.Tensor): Precomputed abstract NLI scores for test texts.\n",
    "        test_labels (list): Test labels.\n",
    "        concept_names (list): List of [keywords, abstract_concepts, labels].\n",
    "        batch_size (int): Batch size for testing.\n",
    "        device (str): Device to run testing ('cuda' or 'cpu').\n",
    "    \"\"\"\n",
    "    model = model.to(device)\n",
    "    model.eval()\n",
    "    predictions = []\n",
    "    true_labels = []\n",
    "    \n",
    "    test_dataset = TensorDataset(test_keyword_scores, test_abstract_scores, torch.tensor(test_labels, dtype=torch.long))\n",
    "    test_loader = TorchDataLoader(test_dataset, batch_size=batch_size, num_workers=4, pin_memory=True)\n",
    "    \n",
    "    with torch.no_grad():\n",
    "        for batch_keyword_scores, batch_abstract_scores, batch_labels in tqdm(test_loader, desc=\"Testing\"):\n",
    "            batch_keyword_scores = batch_keyword_scores.to(device)\n",
    "            batch_abstract_scores = batch_abstract_scores.to(device)\n",
    "            \n",
    "            outputs, _, _, _, _, _ = model(batch_keyword_scores, batch_abstract_scores)\n",
    "            preds = torch.argmax(outputs, dim=1).cpu().numpy()\n",
    "            predictions.extend(preds)\n",
    "            true_labels.extend(batch_labels.cpu().numpy())\n",
    "    \n",
    "    print(\"\\nClassification Report:\")\n",
    "    print(classification_report(true_labels, predictions, target_names=concept_names[2]))"
   ]
  },
  {
   "cell_type": "code",
   "execution_count": 30,
   "id": "3fc4b4d8",
   "metadata": {},
   "outputs": [
    {
     "name": "stderr",
     "output_type": "stream",
     "text": [
      "Testing: 100%|██████████| 1/1 [00:02<00:00,  2.04s/it]"
     ]
    },
    {
     "name": "stdout",
     "output_type": "stream",
     "text": [
      "\n",
      "Classification Report:\n",
      "                                 precision    recall  f1-score   support\n",
      "\n",
      "        cardiovascular diseases       0.23      0.60      0.33         5\n",
      "      digestive system diseases       0.00      0.00      0.00         5\n",
      "general pathological conditions       0.00      0.00      0.00         5\n",
      "                      neoplasms       0.45      1.00      0.62         5\n",
      "        nervous system diseases       0.00      0.00      0.00         5\n",
      "\n",
      "                       accuracy                           0.32        25\n",
      "                      macro avg       0.14      0.32      0.19        25\n",
      "                   weighted avg       0.14      0.32      0.19        25\n",
      "\n"
     ]
    },
    {
     "name": "stderr",
     "output_type": "stream",
     "text": [
      "\n"
     ]
    }
   ],
   "source": [
    "# Test the model\n",
    "test_model(model, test_keyword_scores, test_abstract_scores, test_labels, concept_names)"
   ]
  },
  {
   "cell_type": "code",
   "execution_count": 27,
   "id": "99d904af",
   "metadata": {},
   "outputs": [],
   "source": [
    "def interpretable_prediction(model, test_text, test_label, test_keyword_scores, test_abstract_scores, concept_names, device='cuda'):\n",
    "    \"\"\"\n",
    "    Generate interpretable predictions for a single test sample.\n",
    "    \n",
    "    Args:\n",
    "        model (nn.Module): The trained ConceptNetwork model.\n",
    "        test_text (str): The input text for prediction.\n",
    "        test_label (int): The true label index.\n",
    "        test_keyword_scores (torch.Tensor): Precomputed keyword NLI scores for the test text.\n",
    "        test_abstract_scores (torch.Tensor): Precomputed abstract NLI scores for the test text.\n",
    "        concept_names (list): List of [keywords, abstract_concepts, labels].\n",
    "        device (str): Device to run prediction ('cuda' or 'cpu').\n",
    "    \n",
    "    Returns:\n",
    "        tuple: (keyword_scores, abstract_scores, label_probs, predicted_label_idx)\n",
    "    \"\"\"\n",
    "    model = model.to(device)\n",
    "    model.eval()\n",
    "    \n",
    "    print(\"\\nInterpretable Prediction for Sample:\")\n",
    "    print(f\"Input Text: {test_text}\")\n",
    "    print(f\"True Label: {concept_names[2][test_label]}\")\n",
    "    \n",
    "    # Ensure scores are 2D tensors (batch_size=1)\n",
    "    keyword_scores = test_keyword_scores[:1].to(device)\n",
    "    abstract_scores = test_abstract_scores[:1].to(device)\n",
    "    \n",
    "    with torch.no_grad():\n",
    "        predictions, _, _, _, keyword_scores, abstract_scores = model(keyword_scores, abstract_scores)\n",
    "        label_probs = torch.softmax(predictions, dim=1)[0].cpu().numpy()\n",
    "        predicted_label_idx = torch.argmax(predictions, dim=1).cpu().numpy()[0]\n",
    "        \n",
    "        print(f\"Predicted Label: {concept_names[2][predicted_label_idx]}\")\n",
    "        print(\"Label Probabilities:\")\n",
    "        for label, prob in zip(concept_names[2], label_probs):\n",
    "            print(f\"  {label}: {prob:.4f}\")\n",
    "        \n",
    "        print(\"Top Keyword Scores:\")\n",
    "        for idx in torch.topk(keyword_scores[0], k=5).indices:\n",
    "            print(f\"  {concept_names[0][idx]}: {keyword_scores[0, idx]:.4f}\")\n",
    "        \n",
    "        print(\"Top Abstract Concept Scores:\")\n",
    "        for idx in torch.topk(abstract_scores[0], k=5).indices:\n",
    "            print(f\"  {concept_names[1][idx]}: {abstract_scores[0, idx]:.4f}\")\n",
    "    \n",
    "    return keyword_scores.cpu(), abstract_scores.cpu(), label_probs, predicted_label_idx\n",
    "\n",
    "def visualize_network(model, concept_names, keyword_scores, abstract_scores, label_probs, predicted_label_idx):\n",
    "    \"\"\"Visualize the concept network as a graph.\"\"\"\n",
    "    G = nx.DiGraph()\n",
    "    \n",
    "    # Add nodes for keywords, abstract concepts, and labels\n",
    "    for i, kw in enumerate(concept_names[0]):\n",
    "        G.add_node(f\"kw_{i}\", label=kw, layer='keyword', score=keyword_scores[0, i].item())\n",
    "    for i, ac in enumerate(concept_names[1]):\n",
    "        G.add_node(f\"ac_{i}\", label=ac, layer='abstract', score=abstract_scores[0, i].item())\n",
    "    for i, lbl in enumerate(concept_names[2]):\n",
    "        G.add_node(f\"lbl_{i}\", label=lbl, layer='label', prob=label_probs[i])\n",
    "    \n",
    "    # Add edges based on attention weights\n",
    "    attn_kw_abs = torch.softmax(torch.matmul(model.keyword_embeddings, model.abstract_embeddings.T), dim=0).cpu().detach().numpy()\n",
    "    attn_abs_lbl = torch.softmax(torch.matmul(model.abstract_embeddings, model.label_embeddings.T), dim=0).cpu().detach().numpy()\n",
    "    \n",
    "    for i in range(len(concept_names[0])):\n",
    "        for j in range(len(concept_names[1])):\n",
    "            if attn_kw_abs[i, j] > 0.1:  # Threshold for visualization\n",
    "                G.add_edge(f\"kw_{i}\", f\"ac_{j}\", weight=attn_kw_abs[i, j])\n",
    "    \n",
    "    for i in range(len(concept_names[1])):\n",
    "        for j in range(len(concept_names[2])):\n",
    "            if attn_abs_lbl[i, j] > 0.1:  # Threshold for visualization\n",
    "                G.add_edge(f\"ac_{i}\", f\"lbl_{j}\", weight=attn_abs_lbl[i, j])\n",
    "    \n",
    "    # Visualize the graph\n",
    "    plt.figure(figsize=(12, 8))\n",
    "    pos = nx.multipartite_layout(G, subset_key='layer')\n",
    "    node_colors = [G.nodes[n]['score'] if G.nodes[n]['layer'] != 'label' else G.nodes[n]['prob'] for n in G.nodes]\n",
    "    nx.draw(G, pos, with_labels=True, labels={n: G.nodes[n]['label'] for n in G.nodes},\n",
    "            node_color=node_colors, cmap=plt.cm.viridis, node_size=500, font_size=8)\n",
    "    edge_colors = [G[u][v]['weight'] for u, v in G.edges]\n",
    "    nx.draw_networkx_edges(G, pos, edge_color=edge_colors, edge_cmap=plt.cm.Blues)\n",
    "    plt.title(\"Concept Network Visualization\")\n",
    "    plt.show()"
   ]
  },
  {
   "cell_type": "code",
   "execution_count": 28,
   "id": "cbc6f13f",
   "metadata": {},
   "outputs": [
    {
     "name": "stdout",
     "output_type": "stream",
     "text": [
      "\n",
      "Interpretable Prediction for Sample:\n",
      "Input Text: Toxic carbamazepine concentrations following cardiothoracic surgery and myocardial infarction. Carbamazepine is being used more frequently in the U.S. as an initial agent of choice to treat generalized tonic-clonic, mixed, and partial seizures with complex symptomatology. Carbamazepine is extensively metabolized in the liver; however, there is little information available on its pharmacokinetics in patients following surgery or myocardial infarction, or in those with liver disease. We report a case of a patient who attained toxic carbamazepine serum concentrations (ranging from 18.2 to 21.5 micrograms/mL) two days after cardiothoracic surgery and an intraoperative myocardial infarction, and experienced lethargy, diplopia, dysarthria, diaphoresis, and horizontal and downgaze nystagmus. These alterations in serum carbamazepine concentration normalized ten days after surgery. They may have been due to a combination of changes in protein binding and decreased elimination due to altered intrinsic hepatic clearance. With carbamazepine achieving a more prominent place in anticonvulsant therapy, the influence of various procedures and disease processes on the pharmacokinetics and pharmacodynamics of carbamazepine, as well as the clinical consequences of such changes, need further investigation. \n",
      "True Label: cardiovascular diseases\n",
      "Predicted Label: neoplasms\n",
      "Label Probabilities:\n",
      "  cardiovascular diseases: 0.2031\n",
      "  digestive system diseases: 0.1954\n",
      "  general pathological conditions: 0.2040\n",
      "  neoplasms: 0.2060\n",
      "  nervous system diseases: 0.1914\n",
      "Top Keyword Scores:\n",
      "  myocardial: 0.7779\n",
      "  infarction: 0.7676\n",
      "  coronary: 0.6349\n",
      "  respiratory: 0.3484\n",
      "  carcinoma: 0.3310\n",
      "Top Abstract Concept Scores:\n",
      "  Neoplastic Growths: 0.4746\n",
      "  Cardiac Conditions: 0.3789\n",
      "  Intestinal Tract Disorders: 0.3788\n",
      "  Pancreatic Conditions: 0.3717\n",
      "  Vascular Issues: 0.3691\n"
     ]
    },
    {
     "data": {
      "image/png": "[encoded data removed]",
      "text/plain": [
       "<Figure size 1200x800 with 1 Axes>"
      ]
     },
     "metadata": {},
     "output_type": "display_data"
    }
   ],
   "source": [
    "# Interpretable prediction for a single test sample\n",
    "if test_texts and test_labels:\n",
    "    keyword_scores, abstract_scores, label_probs, predicted_label_idx = interpretable_prediction(\n",
    "        model, test_texts[0], test_labels[0], test_keyword_scores, test_abstract_scores, concept_names, device=device\n",
    "    )\n",
    "    visualize_network(model, concept_names, keyword_scores, abstract_scores, label_probs, predicted_label_idx)"
   ]
  },
  {
   "cell_type": "code",
   "execution_count": null,
   "id": "99d19a29",
   "metadata": {},
   "outputs": [],
   "source": []
  }
 ],
 "metadata": {
  "kernelspec": {
   "display_name": "venv",
   "language": "python",
   "name": "python3"
  },
  "language_info": {
   "codemirror_mode": {
    "name": "ipython",
    "version": 3
   },
   "file_extension": ".py",
   "mimetype": "text/x-python",
   "name": "python",
   "nbconvert_exporter": "python",
   "pygments_lexer": "ipython3",
   "version": "3.13.2"
  }
 },
 "nbformat": 4,
 "nbformat_minor": 5
}
