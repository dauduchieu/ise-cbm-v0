{
 "cells": [
  {
   "cell_type": "code",
   "execution_count": null,
   "id": "d1b6b56b",
   "metadata": {},
   "outputs": [],
   "source": [
    "# Param\n",
    "# test = \"True\""
   ]
  },
  {
   "cell_type": "code",
   "execution_count": 2,
   "id": "f344f299",
   "metadata": {},
   "outputs": [],
   "source": [
    "is_test = True\n",
    "if test == \"False\" or test == False:\n",
    "    is_test = False"
   ]
  },
  {
   "cell_type": "code",
   "execution_count": 3,
   "id": "9e90e029",
   "metadata": {},
   "outputs": [],
   "source": [
    "# Set the dataset path\n",
    "dataset = \"data\""
   ]
  },
  {
   "cell_type": "code",
   "execution_count": 4,
   "id": "3db3c56d",
   "metadata": {},
   "outputs": [],
   "source": [
    "# Import utility functions for data loading and path joining\n",
    "from utils.data_loader import DataLoader\n",
    "from utils.data_io import join_path"
   ]
  },
  {
   "cell_type": "code",
   "execution_count": 5,
   "id": "08cc2e65",
   "metadata": {},
   "outputs": [],
   "source": [
    "# Initialize the data loader with the dataset path\n",
    "data_loader = DataLoader(dataset)"
   ]
  },
  {
   "cell_type": "code",
   "execution_count": 6,
   "id": "2520ac65",
   "metadata": {},
   "outputs": [],
   "source": [
    "# Load training and test data\n",
    "train_df = data_loader.get_data_train()\n",
    "test_df = data_loader.get_data_test()"
   ]
  },
  {
   "cell_type": "code",
   "execution_count": 7,
   "id": "55ffb166",
   "metadata": {},
   "outputs": [],
   "source": [
    "# Get data description (column names for labels and text)\n",
    "data_desc = data_loader.get_data_desc()\n",
    "label_column = data_desc['label_column']\n",
    "text_column = data_desc['text_column']"
   ]
  },
  {
   "cell_type": "code",
   "execution_count": 8,
   "id": "f76d9830",
   "metadata": {},
   "outputs": [
    {
     "name": "stdout",
     "output_type": "stream",
     "text": [
      "['hypertension', 'coronary', 'cardiac', 'ventricular', 'myocardial', 'gallbladder', 'intestinal', 'intestine', 'hepatic', 'peritoneal', 'short', 'weight', 'rise', 'stable', 'accuracy', 'cancer', 'carcinoma', 'tumor', 'metastasis', 'malignancy', 'cerebral', 'brain', 'spinal', 'cord', 'sensory']\n"
     ]
    }
   ],
   "source": [
    "# Extract and print keyword concepts\n",
    "keyword_concepts = data_loader.get_keyword_concepts()\n",
    "keywords = []\n",
    "for k in keyword_concepts.keys():\n",
    "    keywords += keyword_concepts[k]\n",
    "print(keywords)"
   ]
  },
  {
   "cell_type": "code",
   "execution_count": 9,
   "id": "21a05ade",
   "metadata": {},
   "outputs": [
    {
     "name": "stdout",
     "output_type": "stream",
     "text": [
      "['Heart Conditions', 'Abdominal Organ Diseases', 'General Health Status', 'Cancerous Growths', 'Central Nervous System Disorders']\n"
     ]
    }
   ],
   "source": [
    "# Extract abstract concepts\n",
    "abstract_concepts = data_loader.get_abstract_concepts()\n",
    "abstract_concepts = [ac['abstract_concept_name'] for ac in abstract_concepts]\n",
    "print(abstract_concepts)"
   ]
  },
  {
   "cell_type": "code",
   "execution_count": 10,
   "id": "ccc8e13a",
   "metadata": {},
   "outputs": [],
   "source": [
    "# Import LabelEncoder for encoding labels\n",
    "from sklearn.preprocessing import LabelEncoder"
   ]
  },
  {
   "cell_type": "code",
   "execution_count": 11,
   "id": "ea1797b8",
   "metadata": {},
   "outputs": [],
   "source": [
    "# Encode labels in training and test data\n",
    "le = LabelEncoder()\n",
    "le.fit(train_df[label_column])\n",
    "train_df[label_column] = le.transform(train_df[label_column])\n",
    "test_df[label_column] = le.transform(test_df[label_column])"
   ]
  },
  {
   "cell_type": "code",
   "execution_count": 12,
   "id": "e7db2b7d",
   "metadata": {},
   "outputs": [
    {
     "name": "stdout",
     "output_type": "stream",
     "text": [
      "['cardiovascular diseases', 'digestive system diseases', 'general pathological conditions', 'neoplasms', 'nervous system diseases']\n"
     ]
    }
   ],
   "source": [
    "# Get the list of label names\n",
    "labels = list(le.classes_)\n",
    "print(labels)"
   ]
  },
  {
   "cell_type": "code",
   "execution_count": 13,
   "id": "6ce8535b",
   "metadata": {},
   "outputs": [],
   "source": [
    "# If in test mode, sample one example per label\n",
    "if is_test:\n",
    "    train_df = train_df.groupby(label_column).sample(1)\n",
    "    test_df = test_df.groupby(label_column).sample(1)"
   ]
  },
  {
   "cell_type": "code",
   "execution_count": 14,
   "id": "a57d45d4",
   "metadata": {},
   "outputs": [],
   "source": [
    "from sklearn.model_selection import train_test_split\n",
    "\n",
    "# Chuyển đổi dữ liệu thành danh sách\n",
    "train_texts = train_df[text_column].tolist()\n",
    "train_labels = train_df[label_column].tolist()\n",
    "test_texts = test_df[text_column].tolist()\n",
    "test_labels = test_df[label_column].tolist()\n",
    "\n",
    "# Tách tập huấn luyện thành train và validation\n",
    "train_texts, val_texts, train_labels, val_labels = train_test_split(\n",
    "    train_texts, train_labels, test_size=0.2, random_state=42\n",
    ")"
   ]
  },
  {
   "cell_type": "code",
   "execution_count": 15,
   "id": "3a5d715f",
   "metadata": {},
   "outputs": [],
   "source": [
    "from transformers import BertTokenizer, BertForSequenceClassification\n",
    "\n",
    "def load_nli_model(path):\n",
    "    model = BertForSequenceClassification.from_pretrained(path)\n",
    "    tokenizer = BertTokenizer.from_pretrained(path)\n",
    "    return model, tokenizer\n",
    "\n",
    "# Định nghĩa device\n",
    "import torch\n",
    "device = \"cuda\" if torch.cuda.is_available() else \"cpu\"\n",
    "\n",
    "# Đường dẫn mô hình\n",
    "keyword_model_path = join_path(dataset, 'scorer_model', 'keyword_scorer')\n",
    "abstract_model_path = join_path(dataset, 'scorer_model', 'abstract_scorer')\n",
    "\n",
    "# Nạp mô hình và tokenizer\n",
    "keyword_model, keyword_tokenizer = load_nli_model(keyword_model_path)\n",
    "abstract_model, abstract_tokenizer = load_nli_model(abstract_model_path)"
   ]
  },
  {
   "cell_type": "code",
   "execution_count": 16,
   "id": "105f7f8d",
   "metadata": {},
   "outputs": [],
   "source": [
    "@torch.no_grad()\n",
    "def compute_nli_scores(texts, concepts, tokenizer, model, device=device, batch_size=512):\n",
    "    model.to(device).eval()\n",
    "    all_scores = []\n",
    "\n",
    "    for i in range(0, len(texts), batch_size):\n",
    "        batch_texts = texts[i:i+batch_size]\n",
    "        batch_concept_scores = []\n",
    "\n",
    "        for concept in concepts:\n",
    "            encoded = tokenizer(batch_texts, [concept]*len(batch_texts), padding=True, truncation=True,\n",
    "                                return_tensors=\"pt\", max_length=512)\n",
    "            encoded = {k: v.to(device) for k, v in encoded.items()}\n",
    "            logits = model(**encoded).logits\n",
    "            probs = torch.softmax(logits, dim=-1)\n",
    "            entailment_scores = probs[:, 1].cpu()\n",
    "            batch_concept_scores.append(entailment_scores)\n",
    "\n",
    "        # Stack over concepts, then append\n",
    "        batch_scores = torch.stack(batch_concept_scores, dim=1)\n",
    "        all_scores.append(batch_scores)\n",
    "\n",
    "    return torch.cat(all_scores, dim=0)"
   ]
  },
  {
   "cell_type": "code",
   "execution_count": 17,
   "id": "f9e88e00",
   "metadata": {},
   "outputs": [
    {
     "name": "stderr",
     "output_type": "stream",
     "text": [
      "Be aware, overflowing tokens are not returned for the setting you have chosen, i.e. sequence pairs with the 'longest_first' truncation strategy. So the returned list will always be empty even if some tokens have been removed.\n",
      "Be aware, overflowing tokens are not returned for the setting you have chosen, i.e. sequence pairs with the 'longest_first' truncation strategy. So the returned list will always be empty even if some tokens have been removed.\n",
      "Be aware, overflowing tokens are not returned for the setting you have chosen, i.e. sequence pairs with the 'longest_first' truncation strategy. So the returned list will always be empty even if some tokens have been removed.\n",
      "Be aware, overflowing tokens are not returned for the setting you have chosen, i.e. sequence pairs with the 'longest_first' truncation strategy. So the returned list will always be empty even if some tokens have been removed.\n",
      "Be aware, overflowing tokens are not returned for the setting you have chosen, i.e. sequence pairs with the 'longest_first' truncation strategy. So the returned list will always be empty even if some tokens have been removed.\n",
      "Be aware, overflowing tokens are not returned for the setting you have chosen, i.e. sequence pairs with the 'longest_first' truncation strategy. So the returned list will always be empty even if some tokens have been removed.\n",
      "Be aware, overflowing tokens are not returned for the setting you have chosen, i.e. sequence pairs with the 'longest_first' truncation strategy. So the returned list will always be empty even if some tokens have been removed.\n",
      "Be aware, overflowing tokens are not returned for the setting you have chosen, i.e. sequence pairs with the 'longest_first' truncation strategy. So the returned list will always be empty even if some tokens have been removed.\n",
      "Be aware, overflowing tokens are not returned for the setting you have chosen, i.e. sequence pairs with the 'longest_first' truncation strategy. So the returned list will always be empty even if some tokens have been removed.\n",
      "Be aware, overflowing tokens are not returned for the setting you have chosen, i.e. sequence pairs with the 'longest_first' truncation strategy. So the returned list will always be empty even if some tokens have been removed.\n",
      "Be aware, overflowing tokens are not returned for the setting you have chosen, i.e. sequence pairs with the 'longest_first' truncation strategy. So the returned list will always be empty even if some tokens have been removed.\n",
      "Be aware, overflowing tokens are not returned for the setting you have chosen, i.e. sequence pairs with the 'longest_first' truncation strategy. So the returned list will always be empty even if some tokens have been removed.\n",
      "Be aware, overflowing tokens are not returned for the setting you have chosen, i.e. sequence pairs with the 'longest_first' truncation strategy. So the returned list will always be empty even if some tokens have been removed.\n",
      "Be aware, overflowing tokens are not returned for the setting you have chosen, i.e. sequence pairs with the 'longest_first' truncation strategy. So the returned list will always be empty even if some tokens have been removed.\n",
      "Be aware, overflowing tokens are not returned for the setting you have chosen, i.e. sequence pairs with the 'longest_first' truncation strategy. So the returned list will always be empty even if some tokens have been removed.\n",
      "Be aware, overflowing tokens are not returned for the setting you have chosen, i.e. sequence pairs with the 'longest_first' truncation strategy. So the returned list will always be empty even if some tokens have been removed.\n",
      "Be aware, overflowing tokens are not returned for the setting you have chosen, i.e. sequence pairs with the 'longest_first' truncation strategy. So the returned list will always be empty even if some tokens have been removed.\n",
      "Be aware, overflowing tokens are not returned for the setting you have chosen, i.e. sequence pairs with the 'longest_first' truncation strategy. So the returned list will always be empty even if some tokens have been removed.\n",
      "Be aware, overflowing tokens are not returned for the setting you have chosen, i.e. sequence pairs with the 'longest_first' truncation strategy. So the returned list will always be empty even if some tokens have been removed.\n",
      "Be aware, overflowing tokens are not returned for the setting you have chosen, i.e. sequence pairs with the 'longest_first' truncation strategy. So the returned list will always be empty even if some tokens have been removed.\n",
      "Be aware, overflowing tokens are not returned for the setting you have chosen, i.e. sequence pairs with the 'longest_first' truncation strategy. So the returned list will always be empty even if some tokens have been removed.\n",
      "Be aware, overflowing tokens are not returned for the setting you have chosen, i.e. sequence pairs with the 'longest_first' truncation strategy. So the returned list will always be empty even if some tokens have been removed.\n",
      "Be aware, overflowing tokens are not returned for the setting you have chosen, i.e. sequence pairs with the 'longest_first' truncation strategy. So the returned list will always be empty even if some tokens have been removed.\n",
      "Be aware, overflowing tokens are not returned for the setting you have chosen, i.e. sequence pairs with the 'longest_first' truncation strategy. So the returned list will always be empty even if some tokens have been removed.\n",
      "Be aware, overflowing tokens are not returned for the setting you have chosen, i.e. sequence pairs with the 'longest_first' truncation strategy. So the returned list will always be empty even if some tokens have been removed.\n",
      "Be aware, overflowing tokens are not returned for the setting you have chosen, i.e. sequence pairs with the 'longest_first' truncation strategy. So the returned list will always be empty even if some tokens have been removed.\n",
      "Be aware, overflowing tokens are not returned for the setting you have chosen, i.e. sequence pairs with the 'longest_first' truncation strategy. So the returned list will always be empty even if some tokens have been removed.\n",
      "Be aware, overflowing tokens are not returned for the setting you have chosen, i.e. sequence pairs with the 'longest_first' truncation strategy. So the returned list will always be empty even if some tokens have been removed.\n",
      "Be aware, overflowing tokens are not returned for the setting you have chosen, i.e. sequence pairs with the 'longest_first' truncation strategy. So the returned list will always be empty even if some tokens have been removed.\n",
      "Be aware, overflowing tokens are not returned for the setting you have chosen, i.e. sequence pairs with the 'longest_first' truncation strategy. So the returned list will always be empty even if some tokens have been removed.\n"
     ]
    }
   ],
   "source": [
    "train_keyword_scores = compute_nli_scores(train_texts, keywords, keyword_tokenizer, keyword_model, device)\n",
    "train_abstract_scores = compute_nli_scores(train_texts, abstract_concepts, abstract_tokenizer, abstract_model, device)\n",
    "\n",
    "val_keyword_scores = compute_nli_scores(val_texts, keywords, keyword_tokenizer, keyword_model, device)\n",
    "val_abstract_scores = compute_nli_scores(val_texts, abstract_concepts, abstract_tokenizer, abstract_model, device)\n",
    "\n",
    "test_keyword_scores = compute_nli_scores(test_texts, keywords, keyword_tokenizer, keyword_model, device)\n",
    "test_abstract_scores = compute_nli_scores(test_texts, abstract_concepts, abstract_tokenizer, abstract_model, device)"
   ]
  },
  {
   "cell_type": "code",
   "execution_count": 18,
   "id": "ff09e251",
   "metadata": {},
   "outputs": [],
   "source": [
    "import torch.nn as nn\n",
    "import torch.nn.functional as F\n",
    "\n",
    "class ConceptNetwork(nn.Module):\n",
    "    def __init__(self, concept_names, embedding_dim=128):\n",
    "        super().__init__()\n",
    "        self.keywords, self.abstracts, self.labels = concept_names\n",
    "        self.embedding_dim = embedding_dim\n",
    "\n",
    "        # Embedding learnable\n",
    "        self.keyword_emb = nn.Parameter(torch.randn(len(self.keywords), embedding_dim))\n",
    "        self.abstract_emb = nn.Parameter(torch.randn(len(self.abstracts), embedding_dim))\n",
    "        self.label_emb = nn.Parameter(torch.randn(len(self.labels), embedding_dim))\n",
    "\n",
    "        # Beta: reliability to direct\n",
    "        self.keyword_beta = nn.Parameter(torch.zeros(len(self.keywords)))\n",
    "        self.abstract_beta = nn.Parameter(torch.zeros(len(self.abstracts)))\n",
    "\n",
    "        # Define the semantic predictor\n",
    "        self.semantic_predictor = nn.Linear(embedding_dim, 384)\n",
    "        for param in self.semantic_predictor.parameters():\n",
    "            param.requires_grad = False # Freeze the layer\n",
    "\n",
    "    def forward(self, kw_scores, abs_scores):\n",
    "        # keyword -> abstract\n",
    "        attn_kw2abs = torch.matmul(self.keyword_emb, self.abstract_emb.T)  # [k, a]\n",
    "        attn_kw2abs = torch.softmax(attn_kw2abs, dim=0)\n",
    "        rel_abs_scores = torch.matmul(kw_scores, attn_kw2abs)\n",
    "\n",
    "        beta = torch.sigmoid(self.abstract_beta)\n",
    "        abs_scores = abs_scores * beta + rel_abs_scores * (1 - beta)\n",
    "\n",
    "        # abstract -> label\n",
    "        attn_abs2lbl = torch.matmul(self.abstract_emb, self.label_emb.T)\n",
    "        attn_abs2lbl = torch.softmax(attn_abs2lbl, dim=0)\n",
    "        predictions = torch.matmul(abs_scores, attn_abs2lbl)\n",
    "\n",
    "        # Semantic embeddings\n",
    "        kw_sem = self.semantic_predictor(self.keyword_emb)\n",
    "        abs_sem = self.semantic_predictor(self.abstract_emb)\n",
    "        lbl_sem = self.semantic_predictor(self.label_emb)\n",
    "\n",
    "        return predictions, kw_sem, abs_sem, lbl_sem, kw_scores, abs_scores"
   ]
  },
  {
   "cell_type": "code",
   "execution_count": 19,
   "id": "d7333bfe",
   "metadata": {},
   "outputs": [],
   "source": [
    "from torch.cuda.amp import autocast, GradScaler\n",
    "from torch.utils.data import DataLoader, TensorDataset\n",
    "import matplotlib.pyplot as plt\n",
    "from tqdm import tqdm\n",
    "\n",
    "def train_model(model, train_kw, train_abs, train_y, val_kw, val_abs, val_y,\n",
    "                concept_names, sbert_vectors, batch_size=32, epochs=50,\n",
    "                patience=5, lambda_sem=0.1, device=device):\n",
    "    \n",
    "    model.to(device)\n",
    "    optimizer = torch.optim.Adam(model.parameters(), lr=1e-3)\n",
    "    clf_loss = nn.CrossEntropyLoss()\n",
    "    mse = nn.MSELoss()\n",
    "    scaler = GradScaler()\n",
    "\n",
    "    sbert_kw, sbert_abs, sbert_lbl = [torch.tensor(v, dtype=torch.float32, device=device) for v in sbert_vectors]\n",
    "\n",
    "    # DataLoader\n",
    "    train_loader = DataLoader(TensorDataset(train_kw, train_abs, torch.tensor(train_y)), batch_size=batch_size, shuffle=True)\n",
    "    val_loader = DataLoader(TensorDataset(val_kw, val_abs, torch.tensor(val_y)), batch_size=batch_size)\n",
    "\n",
    "    best_loss = float('inf')\n",
    "    patience_count = 0\n",
    "    train_losses, val_losses = [], []\n",
    "\n",
    "    for epoch in range(epochs):\n",
    "        model.train()\n",
    "        epoch_loss = 0\n",
    "\n",
    "        for kw, abs, y in tqdm(train_loader, desc=f\"[Epoch {epoch+1}]\"):\n",
    "            kw, abs, y = kw.to(device), abs.to(device), y.to(device)\n",
    "            optimizer.zero_grad()\n",
    "\n",
    "            with autocast():\n",
    "                pred, kw_sem, abs_sem, lbl_sem, _, _ = model(kw, abs)\n",
    "                loss_clf = clf_loss(pred, y)\n",
    "                loss_sem = mse(kw_sem, sbert_kw) + mse(abs_sem, sbert_abs) + mse(lbl_sem, sbert_lbl)\n",
    "                loss = loss_clf + lambda_sem * loss_sem\n",
    "\n",
    "            scaler.scale(loss).backward()\n",
    "            scaler.step(optimizer)\n",
    "            scaler.update()\n",
    "            epoch_loss += loss.item()\n",
    "\n",
    "        avg_train_loss = epoch_loss / len(train_loader)\n",
    "        train_losses.append(avg_train_loss)\n",
    "\n",
    "        # Validation\n",
    "        model.eval()\n",
    "        val_loss = 0\n",
    "        with torch.no_grad():\n",
    "            for kw, abs, y in val_loader:\n",
    "                kw, abs, y = kw.to(device), abs.to(device), y.to(device)\n",
    "                with autocast():\n",
    "                    pred, kw_sem, abs_sem, lbl_sem, _, _ = model(kw, abs)\n",
    "                    loss_clf = clf_loss(pred, y)\n",
    "                    loss_sem = mse(kw_sem, sbert_kw) + mse(abs_sem, sbert_abs) + mse(lbl_sem, sbert_lbl)\n",
    "                    loss = loss_clf + lambda_sem * loss_sem\n",
    "                val_loss += loss.item()\n",
    "\n",
    "        avg_val_loss = val_loss / len(val_loader)\n",
    "        val_losses.append(avg_val_loss)\n",
    "\n",
    "        print(f\"Train Loss: {avg_train_loss:.4f}, Val Loss: {avg_val_loss:.4f}\")\n",
    "\n",
    "        if avg_val_loss < best_loss:\n",
    "            best_loss = avg_val_loss\n",
    "            torch.save(model.state_dict(), \"best_model.pt\")\n",
    "            patience_count = 0\n",
    "            print(\"Saved new best model.\")\n",
    "        else:\n",
    "            patience_count += 1\n",
    "            if patience_count >= patience:\n",
    "                print(\"Early stopping.\")\n",
    "                break\n",
    "\n",
    "    # Load best model\n",
    "    model.load_state_dict(torch.load(\"best_model.pt\"))\n",
    "\n",
    "    # Plot\n",
    "    plt.plot(train_losses, label=\"Train\")\n",
    "    plt.plot(val_losses, label=\"Val\")\n",
    "    plt.xlabel(\"Epoch\")\n",
    "    plt.ylabel(\"Loss\")\n",
    "    plt.title(\"Training & Validation Loss\")\n",
    "    plt.legend()\n",
    "    plt.grid()\n",
    "    plt.savefig(\"loss_plot.png\")\n",
    "    plt.show()\n",
    "\n",
    "    return train_losses, val_losses\n"
   ]
  },
  {
   "cell_type": "code",
   "execution_count": 20,
   "id": "83a5dbb8",
   "metadata": {},
   "outputs": [],
   "source": [
    "from sklearn.metrics import classification_report\n",
    "\n",
    "def evaluate_model(model, test_kw, test_abs, test_y, label_names, batch_size=32, device=device):\n",
    "    model.to(device).eval()\n",
    "    preds, labels = [], []\n",
    "\n",
    "    test_loader = DataLoader(TensorDataset(test_kw, test_abs, torch.tensor(test_y)), batch_size=batch_size)\n",
    "\n",
    "    with torch.no_grad():\n",
    "        for kw, abs, y in tqdm(test_loader, desc=\"Testing\"):\n",
    "            kw, abs = kw.to(device), abs.to(device)\n",
    "            output, *_ = model(kw, abs)\n",
    "            preds.extend(torch.argmax(output, dim=1).cpu().numpy())\n",
    "            labels.extend(y.numpy())\n",
    "\n",
    "    print(\"\\nClassification Report:\")\n",
    "    print(classification_report(labels, preds, target_names=label_names))\n"
   ]
  },
  {
   "cell_type": "code",
   "execution_count": null,
   "id": "21c2d2c3",
   "metadata": {},
   "outputs": [
    {
     "name": "stderr",
     "output_type": "stream",
     "text": [
      "/var/folders/zs/x6ptjq016kv8ghw7d09pnrp40000gn/T/ipykernel_46936/864430997.py:14: FutureWarning: `torch.cuda.amp.GradScaler(args...)` is deprecated. Please use `torch.amp.GradScaler('cuda', args...)` instead.\n",
      "  scaler = GradScaler()\n",
      "/Users/dauduchieu/Documents/iSE2025/CBM/venv/lib/python3.13/site-packages/torch/amp/grad_scaler.py:136: UserWarning: torch.cuda.amp.GradScaler is enabled, but CUDA is not available.  Disabling.\n",
      "  warnings.warn(\n",
      "[Epoch 1]:   0%|          | 0/1 [00:00<?, ?it/s]/var/folders/zs/x6ptjq016kv8ghw7d09pnrp40000gn/T/ipykernel_46936/864430997.py:34: FutureWarning: `torch.cuda.amp.autocast(args...)` is deprecated. Please use `torch.amp.autocast('cuda', args...)` instead.\n",
      "  with autocast():\n",
      "/Users/dauduchieu/Documents/iSE2025/CBM/venv/lib/python3.13/site-packages/torch/amp/autocast_mode.py:266: UserWarning: User provided device_type of 'cuda', but CUDA is not available. Disabling\n",
      "  warnings.warn(\n",
      "[Epoch 1]: 100%|██████████| 1/1 [00:00<00:00, 20.40it/s]\n",
      "/var/folders/zs/x6ptjq016kv8ghw7d09pnrp40000gn/T/ipykernel_46936/864430997.py:54: FutureWarning: `torch.cuda.amp.autocast(args...)` is deprecated. Please use `torch.amp.autocast('cuda', args...)` instead.\n",
      "  with autocast():\n"
     ]
    },
    {
     "name": "stdout",
     "output_type": "stream",
     "text": [
      "Train Loss: 1.7248, Val Loss: 1.6654\n",
      "Saved new best model.\n"
     ]
    },
    {
     "name": "stderr",
     "output_type": "stream",
     "text": [
      "[Epoch 2]: 100%|██████████| 1/1 [00:00<00:00, 461.01it/s]\n"
     ]
    },
    {
     "name": "stdout",
     "output_type": "stream",
     "text": [
      "Train Loss: 1.7223, Val Loss: 1.6638\n",
      "Saved new best model.\n"
     ]
    },
    {
     "name": "stderr",
     "output_type": "stream",
     "text": [
      "[Epoch 3]: 100%|██████████| 1/1 [00:00<00:00, 138.31it/s]\n"
     ]
    },
    {
     "name": "stdout",
     "output_type": "stream",
     "text": [
      "Train Loss: 1.7200, Val Loss: 1.6629\n",
      "Saved new best model.\n"
     ]
    },
    {
     "name": "stderr",
     "output_type": "stream",
     "text": [
      "[Epoch 4]: 100%|██████████| 1/1 [00:00<00:00, 633.29it/s]\n"
     ]
    },
    {
     "name": "stdout",
     "output_type": "stream",
     "text": [
      "Train Loss: 1.7179, Val Loss: 1.6627\n",
      "Saved new best model.\n"
     ]
    },
    {
     "name": "stderr",
     "output_type": "stream",
     "text": [
      "[Epoch 5]: 100%|██████████| 1/1 [00:00<00:00, 165.76it/s]\n"
     ]
    },
    {
     "name": "stdout",
     "output_type": "stream",
     "text": [
      "Train Loss: 1.7160, Val Loss: 1.6631\n"
     ]
    },
    {
     "name": "stderr",
     "output_type": "stream",
     "text": [
      "[Epoch 6]: 100%|██████████| 1/1 [00:00<00:00, 205.51it/s]\n"
     ]
    },
    {
     "name": "stdout",
     "output_type": "stream",
     "text": [
      "Train Loss: 1.7141, Val Loss: 1.6637\n"
     ]
    },
    {
     "name": "stderr",
     "output_type": "stream",
     "text": [
      "[Epoch 7]: 100%|██████████| 1/1 [00:00<00:00, 669.80it/s]\n"
     ]
    },
    {
     "name": "stdout",
     "output_type": "stream",
     "text": [
      "Train Loss: 1.7122, Val Loss: 1.6645\n"
     ]
    },
    {
     "name": "stderr",
     "output_type": "stream",
     "text": [
      "[Epoch 8]: 100%|██████████| 1/1 [00:00<00:00, 488.56it/s]\n"
     ]
    },
    {
     "name": "stdout",
     "output_type": "stream",
     "text": [
      "Train Loss: 1.7101, Val Loss: 1.6653\n"
     ]
    },
    {
     "name": "stderr",
     "output_type": "stream",
     "text": [
      "[Epoch 9]: 100%|██████████| 1/1 [00:00<00:00, 737.52it/s]\n"
     ]
    },
    {
     "name": "stdout",
     "output_type": "stream",
     "text": [
      "Train Loss: 1.7080, Val Loss: 1.6661\n",
      "Early stopping.\n"
     ]
    },
    {
     "data": {
      "image/png": "[encoded data removed]",
      "text/plain": [
       "<Figure size 640x480 with 1 Axes>"
      ]
     },
     "metadata": {},
     "output_type": "display_data"
    },
    {
     "name": "stderr",
     "output_type": "stream",
     "text": [
      "Testing: 100%|██████████| 1/1 [00:00<00:00, 318.89it/s]"
     ]
    },
    {
     "name": "stdout",
     "output_type": "stream",
     "text": [
      "\n",
      "Classification Report:\n",
      "                                 precision    recall  f1-score   support\n",
      "\n",
      "        cardiovascular diseases       0.33      1.00      0.50         1\n",
      "      digestive system diseases       0.00      0.00      0.00         1\n",
      "general pathological conditions       0.00      0.00      0.00         1\n",
      "                      neoplasms       0.00      0.00      0.00         1\n",
      "        nervous system diseases       0.00      0.00      0.00         1\n",
      "\n",
      "                       accuracy                           0.20         5\n",
      "                      macro avg       0.07      0.20      0.10         5\n",
      "                   weighted avg       0.07      0.20      0.10         5\n",
      "\n"
     ]
    },
    {
     "name": "stderr",
     "output_type": "stream",
     "text": [
      "\n",
      "/Users/dauduchieu/Documents/iSE2025/CBM/venv/lib/python3.13/site-packages/sklearn/metrics/_classification.py:1706: UndefinedMetricWarning: Precision is ill-defined and being set to 0.0 in labels with no predicted samples. Use `zero_division` parameter to control this behavior.\n",
      "  _warn_prf(average, modifier, f\"{metric.capitalize()} is\", result.shape[0])\n",
      "/Users/dauduchieu/Documents/iSE2025/CBM/venv/lib/python3.13/site-packages/sklearn/metrics/_classification.py:1706: UndefinedMetricWarning: Precision is ill-defined and being set to 0.0 in labels with no predicted samples. Use `zero_division` parameter to control this behavior.\n",
      "  _warn_prf(average, modifier, f\"{metric.capitalize()} is\", result.shape[0])\n",
      "/Users/dauduchieu/Documents/iSE2025/CBM/venv/lib/python3.13/site-packages/sklearn/metrics/_classification.py:1706: UndefinedMetricWarning: Precision is ill-defined and being set to 0.0 in labels with no predicted samples. Use `zero_division` parameter to control this behavior.\n",
      "  _warn_prf(average, modifier, f\"{metric.capitalize()} is\", result.shape[0])\n"
     ]
    }
   ],
   "source": [
    "from sentence_transformers import SentenceTransformer\n",
    "import os\n",
    "os.environ[\"TOKENIZERS_PARALLELISM\"] = \"false\"\n",
    "\n",
    "# SBERT embedding\n",
    "sbert_model = SentenceTransformer('all-MiniLM-L6-v2')\n",
    "sbert_kw = sbert_model.encode(keywords)\n",
    "sbert_abs = sbert_model.encode(abstract_concepts)\n",
    "sbert_lbl = sbert_model.encode(labels)\n",
    "\n",
    "# Train\n",
    "concept_names = [keywords, abstract_concepts, labels]\n",
    "model = ConceptNetwork(concept_names, embedding_dim=64)\n",
    "train_model(\n",
    "    model, train_keyword_scores, train_abstract_scores, train_labels,\n",
    "    val_keyword_scores, val_abstract_scores, val_labels,\n",
    "    concept_names, [sbert_kw, sbert_abs, sbert_lbl]\n",
    ")\n",
    "\n",
    "# Evaluate\n",
    "evaluate_model(model, test_keyword_scores, test_abstract_scores, test_labels, labels)\n"
   ]
  },
  {
   "cell_type": "code",
   "execution_count": null,
   "id": "3f823530",
   "metadata": {},
   "outputs": [],
   "source": []
  }
 ],
 "metadata": {
  "kernelspec": {
   "display_name": "venv",
   "language": "python",
   "name": "python3"
  },
  "language_info": {
   "codemirror_mode": {
    "name": "ipython",
    "version": 3
   },
   "file_extension": ".py",
   "mimetype": "text/x-python",
   "name": "python",
   "nbconvert_exporter": "python",
   "pygments_lexer": "ipython3",
   "version": "3.13.2"
  }
 },
 "nbformat": 4,
 "nbformat_minor": 5
}
